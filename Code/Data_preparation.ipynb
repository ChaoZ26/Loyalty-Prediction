{
 "cells": [
  {
   "cell_type": "code",
   "execution_count": 1,
   "id": "517ea04d",
   "metadata": {},
   "outputs": [],
   "source": [
    "import numpy as np\n",
    "import pandas as pd\n",
    "from datetime import datetime"
   ]
  },
  {
   "cell_type": "code",
   "execution_count": 2,
   "id": "ef45cf73-aa7b-4e0f-945f-36312f102a2f",
   "metadata": {},
   "outputs": [],
   "source": [
    "f_exp = pd.read_csv('experience_pdl.csv',dtype=str)"
   ]
  },
  {
   "cell_type": "code",
   "execution_count": 3,
   "id": "2c02af08-5645-468d-8db7-b38ddb65b27c",
   "metadata": {},
   "outputs": [],
   "source": [
    "#Translate the string to datetime\n",
    "for index, row in f_exp.iterrows():\n",
    "    row['start_date'] = str(row['start_date'])\n",
    "    if len(row['start_date'])==4:\n",
    "        row['start_date'] = row['start_date'] + '-06'\n",
    "    elif len(row['start_date']) > 7:\n",
    "        row['start_date'] = row['start_date'][7]"
   ]
  },
  {
   "cell_type": "code",
   "execution_count": 4,
   "id": "18bad5bf-4b41-4686-8b47-b8b377a8584a",
   "metadata": {},
   "outputs": [],
   "source": [
    "#transform all datetime to YYYY-mm format\n",
    "error1 = ['']\n",
    "for index, row in f_exp.iterrows():\n",
    "    try:\n",
    "        row['start_date'] = datetime.strptime(row['start_date'], '%Y-%m')\n",
    "    except:\n",
    "        error1.append(row.profile_id)"
   ]
  },
  {
   "cell_type": "code",
   "execution_count": 5,
   "id": "c1659918-3f96-49de-b1eb-9b84140f6f98",
   "metadata": {},
   "outputs": [],
   "source": [
    "for index, row in f_exp.iterrows():\n",
    "    row['end_date'] = str(row['end_date'])\n",
    "    if len(row['end_date'])==4:\n",
    "        row['end_date'] = row['end_date'] + '-06'\n",
    "    elif len(row['end_date']) > 7:\n",
    "        row['end_date'] = row['end_date'][7]"
   ]
  },
  {
   "cell_type": "code",
   "execution_count": 6,
   "id": "3b8e4f1f-1fa2-44dc-a1f3-c379ef69b31c",
   "metadata": {},
   "outputs": [],
   "source": [
    "error2 = ['']\n",
    "for index, row in f_exp.iterrows():\n",
    "    try:\n",
    "        row['end_date'] = datetime.strptime(row['end_date'], '%Y-%m')\n",
    "    except:\n",
    "        error2.append(row.profile_id)"
   ]
  },
  {
   "cell_type": "code",
   "execution_count": 7,
   "id": "ee2f5f5e-a1b9-4209-9f99-c42287f01b95",
   "metadata": {},
   "outputs": [],
   "source": [
    "error_ed = pd.DataFrame({'id':error2})"
   ]
  },
  {
   "cell_type": "code",
   "execution_count": 8,
   "id": "21b5c1c1-a611-46a1-aad9-9b8b385975d5",
   "metadata": {},
   "outputs": [],
   "source": [
    "#some null value may became string while being read, fix this\n",
    "f_exp['start_date'] = f_exp['start_date'].replace('nan',np.NaN)\n",
    "f_exp['start_date'] = f_exp['start_date'].replace('-',np.NaN)\n",
    "f_exp['end_date'] = f_exp['end_date'].replace('nan',np.NaN)\n",
    "f_exp['end_date'] = f_exp['end_date'].replace('-',np.NaN)"
   ]
  },
  {
   "cell_type": "code",
   "execution_count": 9,
   "id": "ec693bd4-80f6-45c7-831c-fbadf3347afd",
   "metadata": {},
   "outputs": [],
   "source": [
    "#delete all internship experience\n",
    "f_exp['function'] = f_exp['function'].fillna('Unknown')\n",
    "f_exp = f_exp[~f_exp['function'].str.contains(\"intern\",\"internship\")]"
   ]
  },
  {
   "cell_type": "code",
   "execution_count": 10,
   "id": "740b06f0-5c2c-4ec1-b83c-c8c8c63e0dc0",
   "metadata": {},
   "outputs": [],
   "source": [
    "#Create a copy for later use\n",
    "exp1 = f_exp"
   ]
  },
  {
   "cell_type": "code",
   "execution_count": 11,
   "id": "771f41f6-c46b-4411-9cb2-41571f5a6ed4",
   "metadata": {},
   "outputs": [
    {
     "data": {
      "text/plain": [
       "489652"
      ]
     },
     "execution_count": 11,
     "metadata": {},
     "output_type": "execute_result"
    }
   ],
   "source": [
    "#how many id have exp missing start_date\n",
    "len(set(exp1.loc[exp1[['start_date']].isna().any(axis=1),'profile_id']))"
   ]
  },
  {
   "cell_type": "code",
   "execution_count": 12,
   "id": "436c2de6-f424-4d3d-92c3-cad8b543c12a",
   "metadata": {},
   "outputs": [
    {
     "data": {
      "text/plain": [
       "488804"
      ]
     },
     "execution_count": 12,
     "metadata": {},
     "output_type": "execute_result"
    }
   ],
   "source": [
    "#how many id have exp missing both start_date & end_date\n",
    "len(set(exp1.loc[exp1[['start_date','end_date']].isnull().all(1), 'profile_id']))"
   ]
  },
  {
   "cell_type": "code",
   "execution_count": 13,
   "id": "493f62ef-a7a6-4047-9c72-5352f9e2b5aa",
   "metadata": {},
   "outputs": [
    {
     "name": "stdout",
     "output_type": "stream",
     "text": [
      "1005239 - 679853 = 325386\n"
     ]
    }
   ],
   "source": [
    "exp2 = exp1[~exp1[['start_date','end_date']].isnull().all(1)]\n",
    "a = exp1.profile_id.nunique()\n",
    "b = exp2.profile_id.nunique()\n",
    "\n",
    "#How many id have only one exp which has no date at all\n",
    "print(a, '-', b, '=', a-b)"
   ]
  },
  {
   "cell_type": "code",
   "execution_count": 14,
   "id": "d34ce268-c262-4ec9-aa16-66fd2bef7080",
   "metadata": {},
   "outputs": [
    {
     "data": {
      "text/plain": [
       "array(['--1VK_NnS8SJwP3ZFk3i', '--3MYrYWTxexhOr5-D7I',\n",
       "       '--4x07mPRXGY12R_RjTr', ..., 'zzwb7vgxSoyPaINAN8bZ',\n",
       "       'zzxJxYnoSZadOGzfzpse', 'zzyjDuP9TxW0YPRsnilS'], dtype=object)"
      ]
     },
     "execution_count": 14,
     "metadata": {},
     "output_type": "execute_result"
    }
   ],
   "source": [
    "id_misd = np.intersect1d(exp2.profile_id.unique(),exp1.loc[exp1[['start_date','end_date']].isnull().all(1), 'profile_id'])\n",
    "id_misd"
   ]
  },
  {
   "cell_type": "code",
   "execution_count": 15,
   "id": "c0eafa3b-c1e9-4017-a75d-05e313eb6e1e",
   "metadata": {},
   "outputs": [
    {
     "data": {
      "text/plain": [
       "163418"
      ]
     },
     "execution_count": 15,
     "metadata": {},
     "output_type": "execute_result"
    }
   ],
   "source": [
    "len(id_misd)"
   ]
  },
  {
   "cell_type": "code",
   "execution_count": 16,
   "id": "5471a9c4-a635-49d8-8803-aef90c8ab1f4",
   "metadata": {},
   "outputs": [],
   "source": [
    "'''\n",
    "Solution to missing start_date problem:\n",
    "1. Missing only start date\n",
    "2. Missing both sd and ed and being the only exp\n",
    "3. Missing both sd and ed but not the only exp\n",
    "'''\n",
    "\n",
    "s1 = set(exp1.loc[exp1[['start_date']].isna().any(axis=1),'profile_id'])\n",
    "s2 = set(exp1.loc[exp1[['start_date','end_date']].isnull().all(1), 'profile_id'])"
   ]
  },
  {
   "cell_type": "code",
   "execution_count": 17,
   "id": "3f5e3408-de9f-45b4-bf4d-8ee5a77f952c",
   "metadata": {},
   "outputs": [
    {
     "data": {
      "text/plain": [
       "848"
      ]
     },
     "execution_count": 17,
     "metadata": {},
     "output_type": "execute_result"
    }
   ],
   "source": [
    "e1 = set.difference(s1,s2)\n",
    "len(e1)"
   ]
  },
  {
   "cell_type": "code",
   "execution_count": 18,
   "id": "b0f3a37d-b565-4183-8a9c-cf17100fb34c",
   "metadata": {},
   "outputs": [],
   "source": [
    "#problem 1, small amount but too much trouble. So just drop them all\n",
    "\n",
    "exp1 = exp1[~exp1['profile_id'].isin(e1)]"
   ]
  },
  {
   "cell_type": "code",
   "execution_count": 19,
   "id": "eb855312-e3fd-4bb4-8bf2-75e1009cc6f0",
   "metadata": {},
   "outputs": [],
   "source": [
    "#After that, problem 2 & 3,just drop relevant exp rows and keep ids(if not the only exp)\n",
    "exp11 = exp1[exp1['start_date'].notna()]"
   ]
  },
  {
   "cell_type": "code",
   "execution_count": 20,
   "id": "8e5c5ac5-6294-428f-92c9-9064dfdf795e",
   "metadata": {},
   "outputs": [
    {
     "data": {
      "text/plain": [
       "678996"
      ]
     },
     "execution_count": 20,
     "metadata": {},
     "output_type": "execute_result"
    }
   ],
   "source": [
    "exp11['profile_id'].nunique()"
   ]
  },
  {
   "cell_type": "code",
   "execution_count": 21,
   "id": "2b510e6e-3b8b-43ec-bcda-b4f6b644afb5",
   "metadata": {},
   "outputs": [
    {
     "data": {
      "text/plain": [
       "862111"
      ]
     },
     "execution_count": 21,
     "metadata": {},
     "output_type": "execute_result"
    }
   ],
   "source": [
    "exp11['end_date'].isna().sum()"
   ]
  },
  {
   "cell_type": "code",
   "execution_count": 22,
   "id": "f784f35c-6a49-4a8c-bab8-cf10f15050e9",
   "metadata": {},
   "outputs": [],
   "source": [
    "#if last exp has not ended, drop it. if not and still missing end date, fill in with start date of next exp\n",
    "\n",
    "exp11 = exp11.reset_index(drop=True)\n",
    "exp11 = exp11.sort_values(by=['profile_id','start_date'])"
   ]
  },
  {
   "cell_type": "code",
   "execution_count": 23,
   "id": "e857337a-8d2c-4b30-8ecc-35fecc1b5d44",
   "metadata": {},
   "outputs": [],
   "source": [
    "#get index and id of missing end_date exp\n",
    "index_ed = exp11.groupby('profile_id').tail(1).loc[lambda x : x.end_date.isna()].index\n",
    "id_ed = exp11.groupby('profile_id').tail(1).loc[lambda x : x.end_date.isna()].profile_id"
   ]
  },
  {
   "cell_type": "code",
   "execution_count": 24,
   "id": "4d939bee-20b0-4eaf-be1d-db977df89456",
   "metadata": {},
   "outputs": [],
   "source": [
    "#save the dropped record's company and profile_id for double-check later\n",
    "df_check = exp11.loc[index_ed]"
   ]
  },
  {
   "cell_type": "code",
   "execution_count": 25,
   "id": "e05c0c71-bac6-4b11-ae36-8d542f77c6be",
   "metadata": {},
   "outputs": [
    {
     "data": {
      "text/html": [
       "<div>\n",
       "<style scoped>\n",
       "    .dataframe tbody tr th:only-of-type {\n",
       "        vertical-align: middle;\n",
       "    }\n",
       "\n",
       "    .dataframe tbody tr th {\n",
       "        vertical-align: top;\n",
       "    }\n",
       "\n",
       "    .dataframe thead th {\n",
       "        text-align: right;\n",
       "    }\n",
       "</style>\n",
       "<table border=\"1\" class=\"dataframe\">\n",
       "  <thead>\n",
       "    <tr style=\"text-align: right;\">\n",
       "      <th></th>\n",
       "      <th>profile_id</th>\n",
       "      <th>company</th>\n",
       "      <th>size</th>\n",
       "      <th>found_year</th>\n",
       "      <th>industry</th>\n",
       "      <th>hq_locality</th>\n",
       "      <th>hq_region</th>\n",
       "      <th>hq_country</th>\n",
       "      <th>website</th>\n",
       "      <th>location</th>\n",
       "      <th>...</th>\n",
       "      <th>subregion</th>\n",
       "      <th>country</th>\n",
       "      <th>continent</th>\n",
       "      <th>start_date</th>\n",
       "      <th>end_date</th>\n",
       "      <th>title</th>\n",
       "      <th>level</th>\n",
       "      <th>function</th>\n",
       "      <th>type</th>\n",
       "      <th>exp_desc</th>\n",
       "    </tr>\n",
       "  </thead>\n",
       "  <tbody>\n",
       "    <tr>\n",
       "      <th>1618599</th>\n",
       "      <td>---7ZN5QQ6Ots7_KAGrz</td>\n",
       "      <td>roschier, attorneys ltd.</td>\n",
       "      <td>501-1000</td>\n",
       "      <td>1936.0</td>\n",
       "      <td>legal services</td>\n",
       "      <td>helsinki</td>\n",
       "      <td>uusimaa</td>\n",
       "      <td>finland</td>\n",
       "      <td>roschier.com</td>\n",
       "      <td>NaN</td>\n",
       "      <td>...</td>\n",
       "      <td>NaN</td>\n",
       "      <td>NaN</td>\n",
       "      <td>NaN</td>\n",
       "      <td>2012-01-01 00:00:00</td>\n",
       "      <td>2012-06-01 00:00:00</td>\n",
       "      <td>associate trainee</td>\n",
       "      <td>NaN</td>\n",
       "      <td>associate\\ntrainee</td>\n",
       "      <td>NaN</td>\n",
       "      <td>NaN</td>\n",
       "    </tr>\n",
       "    <tr>\n",
       "      <th>1618598</th>\n",
       "      <td>---7ZN5QQ6Ots7_KAGrz</td>\n",
       "      <td>kpmg</td>\n",
       "      <td>10001+</td>\n",
       "      <td>NaN</td>\n",
       "      <td>financial services</td>\n",
       "      <td>new york</td>\n",
       "      <td>new york</td>\n",
       "      <td>united states</td>\n",
       "      <td>beaconpartners.com</td>\n",
       "      <td>NaN</td>\n",
       "      <td>...</td>\n",
       "      <td>NaN</td>\n",
       "      <td>NaN</td>\n",
       "      <td>NaN</td>\n",
       "      <td>2012-07-01 00:00:00</td>\n",
       "      <td>2012-09-01 00:00:00</td>\n",
       "      <td>legal trainee</td>\n",
       "      <td>NaN</td>\n",
       "      <td>legal trainee</td>\n",
       "      <td>NaN</td>\n",
       "      <td>NaN</td>\n",
       "    </tr>\n",
       "    <tr>\n",
       "      <th>1618597</th>\n",
       "      <td>---7ZN5QQ6Ots7_KAGrz</td>\n",
       "      <td>hannes snellman</td>\n",
       "      <td>501-1000</td>\n",
       "      <td>1909.0</td>\n",
       "      <td>legal services</td>\n",
       "      <td>helsinki</td>\n",
       "      <td>uusimaa</td>\n",
       "      <td>finland</td>\n",
       "      <td>hannessnellman.com</td>\n",
       "      <td>NaN</td>\n",
       "      <td>...</td>\n",
       "      <td>NaN</td>\n",
       "      <td>NaN</td>\n",
       "      <td>NaN</td>\n",
       "      <td>2013-01-01 00:00:00</td>\n",
       "      <td>2013-04-01 00:00:00</td>\n",
       "      <td>associate trainee</td>\n",
       "      <td>NaN</td>\n",
       "      <td>associate\\ntrainee</td>\n",
       "      <td>NaN</td>\n",
       "      <td>NaN</td>\n",
       "    </tr>\n",
       "    <tr>\n",
       "      <th>1618596</th>\n",
       "      <td>---7ZN5QQ6Ots7_KAGrz</td>\n",
       "      <td>kalliolaw asianajotoimisto oy - attorneys at law</td>\n",
       "      <td>11-50</td>\n",
       "      <td>2000.0</td>\n",
       "      <td>legal services</td>\n",
       "      <td>helsinki</td>\n",
       "      <td>uusimaa</td>\n",
       "      <td>finland</td>\n",
       "      <td>kalliolaw.fi</td>\n",
       "      <td>NaN</td>\n",
       "      <td>...</td>\n",
       "      <td>NaN</td>\n",
       "      <td>NaN</td>\n",
       "      <td>NaN</td>\n",
       "      <td>2014-01-01 00:00:00</td>\n",
       "      <td>NaN</td>\n",
       "      <td>associate</td>\n",
       "      <td>NaN</td>\n",
       "      <td>associate</td>\n",
       "      <td>NaN</td>\n",
       "      <td>NaN</td>\n",
       "    </tr>\n",
       "    <tr>\n",
       "      <th>1820435</th>\n",
       "      <td>---GzVTjTQGc0JuhWqZn</td>\n",
       "      <td>central chambers law corporation</td>\n",
       "      <td>11-50</td>\n",
       "      <td>NaN</td>\n",
       "      <td>law practice</td>\n",
       "      <td>NaN</td>\n",
       "      <td>NaN</td>\n",
       "      <td>NaN</td>\n",
       "      <td>NaN</td>\n",
       "      <td>NaN</td>\n",
       "      <td>...</td>\n",
       "      <td>NaN</td>\n",
       "      <td>NaN</td>\n",
       "      <td>NaN</td>\n",
       "      <td>2008-05-01 00:00:00</td>\n",
       "      <td>NaN</td>\n",
       "      <td>legal secretary</td>\n",
       "      <td>NaN</td>\n",
       "      <td>legal secretary</td>\n",
       "      <td>NaN</td>\n",
       "      <td>NaN</td>\n",
       "    </tr>\n",
       "    <tr>\n",
       "      <th>330624</th>\n",
       "      <td>---NvmpCRJ2v09r1vf_v</td>\n",
       "      <td>experd consulting</td>\n",
       "      <td>201-500</td>\n",
       "      <td>1989.0</td>\n",
       "      <td>human resources</td>\n",
       "      <td>jakarta</td>\n",
       "      <td>jakarta raya</td>\n",
       "      <td>indonesia</td>\n",
       "      <td>experd.com</td>\n",
       "      <td>yogyakarta</td>\n",
       "      <td>...</td>\n",
       "      <td>NaN</td>\n",
       "      <td>indonesia</td>\n",
       "      <td>asia</td>\n",
       "      <td>2007-06-01 00:00:00</td>\n",
       "      <td>2007-06-01 00:00:00</td>\n",
       "      <td>associate</td>\n",
       "      <td>NaN</td>\n",
       "      <td>associate</td>\n",
       "      <td>NaN</td>\n",
       "      <td>NaN</td>\n",
       "    </tr>\n",
       "    <tr>\n",
       "      <th>330619</th>\n",
       "      <td>---NvmpCRJ2v09r1vf_v</td>\n",
       "      <td>bambini montessori school</td>\n",
       "      <td>NaN</td>\n",
       "      <td>NaN</td>\n",
       "      <td>NaN</td>\n",
       "      <td>NaN</td>\n",
       "      <td>NaN</td>\n",
       "      <td>NaN</td>\n",
       "      <td>NaN</td>\n",
       "      <td>NaN</td>\n",
       "      <td>...</td>\n",
       "      <td>NaN</td>\n",
       "      <td>NaN</td>\n",
       "      <td>NaN</td>\n",
       "      <td>2007-07-01 00:00:00</td>\n",
       "      <td>2008-06-01 00:00:00</td>\n",
       "      <td>assistant teacher of kindergarten a class</td>\n",
       "      <td>NaN</td>\n",
       "      <td>kindergarten\\nassistant\\nteacher</td>\n",
       "      <td>NaN</td>\n",
       "      <td>assisted the main teacher /educator, prepared ...</td>\n",
       "    </tr>\n",
       "    <tr>\n",
       "      <th>330618</th>\n",
       "      <td>---NvmpCRJ2v09r1vf_v</td>\n",
       "      <td>university of melbourne</td>\n",
       "      <td>10001+</td>\n",
       "      <td>NaN</td>\n",
       "      <td>higher education</td>\n",
       "      <td>parkville</td>\n",
       "      <td>new south wales</td>\n",
       "      <td>australia</td>\n",
       "      <td>unimelb.edu.au</td>\n",
       "      <td>melbourne</td>\n",
       "      <td>...</td>\n",
       "      <td>melbourne</td>\n",
       "      <td>australia</td>\n",
       "      <td>oceania</td>\n",
       "      <td>2009-01-01 00:00:00</td>\n",
       "      <td>2009-12-01 00:00:00</td>\n",
       "      <td>peer-assisted study and skill integration lead...</td>\n",
       "      <td>mgr</td>\n",
       "      <td>study\\nintegration leader\\npart</td>\n",
       "      <td>NaN</td>\n",
       "      <td>facilitated, led, and organized group discussi...</td>\n",
       "    </tr>\n",
       "    <tr>\n",
       "      <th>330617</th>\n",
       "      <td>---NvmpCRJ2v09r1vf_v</td>\n",
       "      <td>universal restaurant</td>\n",
       "      <td>NaN</td>\n",
       "      <td>NaN</td>\n",
       "      <td>NaN</td>\n",
       "      <td>NaN</td>\n",
       "      <td>NaN</td>\n",
       "      <td>NaN</td>\n",
       "      <td>NaN</td>\n",
       "      <td>melbourne</td>\n",
       "      <td>...</td>\n",
       "      <td>melbourne</td>\n",
       "      <td>australia</td>\n",
       "      <td>oceania</td>\n",
       "      <td>2010-06-01 00:00:00</td>\n",
       "      <td>2011-02-01 00:00:00</td>\n",
       "      <td>bartender (part-time)</td>\n",
       "      <td>NaN</td>\n",
       "      <td>bartender\\npart</td>\n",
       "      <td>NaN</td>\n",
       "      <td>NaN</td>\n",
       "    </tr>\n",
       "    <tr>\n",
       "      <th>330623</th>\n",
       "      <td>---NvmpCRJ2v09r1vf_v</td>\n",
       "      <td>mercury group of companies</td>\n",
       "      <td>11-50</td>\n",
       "      <td>1997.0</td>\n",
       "      <td>information technology and services</td>\n",
       "      <td>melbourne</td>\n",
       "      <td>victoria</td>\n",
       "      <td>australia</td>\n",
       "      <td>mercury.com.au</td>\n",
       "      <td>melbourne</td>\n",
       "      <td>...</td>\n",
       "      <td>melbourne</td>\n",
       "      <td>australia</td>\n",
       "      <td>oceania</td>\n",
       "      <td>2011-02-01 00:00:00</td>\n",
       "      <td>2012-02-01 00:00:00</td>\n",
       "      <td>office administrator/ recruitment researcher</td>\n",
       "      <td>NaN</td>\n",
       "      <td>office administrator\\nrecruitment researcher</td>\n",
       "      <td>NaN</td>\n",
       "      <td>NaN</td>\n",
       "    </tr>\n",
       "  </tbody>\n",
       "</table>\n",
       "<p>10 rows × 21 columns</p>\n",
       "</div>"
      ],
      "text/plain": [
       "                   profile_id  \\\n",
       "1618599  ---7ZN5QQ6Ots7_KAGrz   \n",
       "1618598  ---7ZN5QQ6Ots7_KAGrz   \n",
       "1618597  ---7ZN5QQ6Ots7_KAGrz   \n",
       "1618596  ---7ZN5QQ6Ots7_KAGrz   \n",
       "1820435  ---GzVTjTQGc0JuhWqZn   \n",
       "330624   ---NvmpCRJ2v09r1vf_v   \n",
       "330619   ---NvmpCRJ2v09r1vf_v   \n",
       "330618   ---NvmpCRJ2v09r1vf_v   \n",
       "330617   ---NvmpCRJ2v09r1vf_v   \n",
       "330623   ---NvmpCRJ2v09r1vf_v   \n",
       "\n",
       "                                                  company      size  \\\n",
       "1618599                          roschier, attorneys ltd.  501-1000   \n",
       "1618598                                              kpmg    10001+   \n",
       "1618597                                   hannes snellman  501-1000   \n",
       "1618596  kalliolaw asianajotoimisto oy - attorneys at law     11-50   \n",
       "1820435                  central chambers law corporation     11-50   \n",
       "330624                                  experd consulting   201-500   \n",
       "330619                          bambini montessori school       NaN   \n",
       "330618                            university of melbourne    10001+   \n",
       "330617                               universal restaurant       NaN   \n",
       "330623                         mercury group of companies     11-50   \n",
       "\n",
       "        found_year                             industry hq_locality  \\\n",
       "1618599     1936.0                       legal services    helsinki   \n",
       "1618598        NaN                   financial services    new york   \n",
       "1618597     1909.0                       legal services    helsinki   \n",
       "1618596     2000.0                       legal services    helsinki   \n",
       "1820435        NaN                         law practice         NaN   \n",
       "330624      1989.0                      human resources     jakarta   \n",
       "330619         NaN                                  NaN         NaN   \n",
       "330618         NaN                     higher education   parkville   \n",
       "330617         NaN                                  NaN         NaN   \n",
       "330623      1997.0  information technology and services   melbourne   \n",
       "\n",
       "               hq_region     hq_country             website    location  ...  \\\n",
       "1618599          uusimaa        finland        roschier.com         NaN  ...   \n",
       "1618598         new york  united states  beaconpartners.com         NaN  ...   \n",
       "1618597          uusimaa        finland  hannessnellman.com         NaN  ...   \n",
       "1618596          uusimaa        finland        kalliolaw.fi         NaN  ...   \n",
       "1820435              NaN            NaN                 NaN         NaN  ...   \n",
       "330624      jakarta raya      indonesia          experd.com  yogyakarta  ...   \n",
       "330619               NaN            NaN                 NaN         NaN  ...   \n",
       "330618   new south wales      australia      unimelb.edu.au   melbourne  ...   \n",
       "330617               NaN            NaN                 NaN   melbourne  ...   \n",
       "330623          victoria      australia      mercury.com.au   melbourne  ...   \n",
       "\n",
       "         subregion    country continent           start_date  \\\n",
       "1618599        NaN        NaN       NaN  2012-01-01 00:00:00   \n",
       "1618598        NaN        NaN       NaN  2012-07-01 00:00:00   \n",
       "1618597        NaN        NaN       NaN  2013-01-01 00:00:00   \n",
       "1618596        NaN        NaN       NaN  2014-01-01 00:00:00   \n",
       "1820435        NaN        NaN       NaN  2008-05-01 00:00:00   \n",
       "330624         NaN  indonesia      asia  2007-06-01 00:00:00   \n",
       "330619         NaN        NaN       NaN  2007-07-01 00:00:00   \n",
       "330618   melbourne  australia   oceania  2009-01-01 00:00:00   \n",
       "330617   melbourne  australia   oceania  2010-06-01 00:00:00   \n",
       "330623   melbourne  australia   oceania  2011-02-01 00:00:00   \n",
       "\n",
       "                    end_date  \\\n",
       "1618599  2012-06-01 00:00:00   \n",
       "1618598  2012-09-01 00:00:00   \n",
       "1618597  2013-04-01 00:00:00   \n",
       "1618596                  NaN   \n",
       "1820435                  NaN   \n",
       "330624   2007-06-01 00:00:00   \n",
       "330619   2008-06-01 00:00:00   \n",
       "330618   2009-12-01 00:00:00   \n",
       "330617   2011-02-01 00:00:00   \n",
       "330623   2012-02-01 00:00:00   \n",
       "\n",
       "                                                     title level  \\\n",
       "1618599                                  associate trainee   NaN   \n",
       "1618598                                      legal trainee   NaN   \n",
       "1618597                                  associate trainee   NaN   \n",
       "1618596                                          associate   NaN   \n",
       "1820435                                    legal secretary   NaN   \n",
       "330624                                           associate   NaN   \n",
       "330619           assistant teacher of kindergarten a class   NaN   \n",
       "330618   peer-assisted study and skill integration lead...   mgr   \n",
       "330617                               bartender (part-time)   NaN   \n",
       "330623        office administrator/ recruitment researcher   NaN   \n",
       "\n",
       "                                             function type  \\\n",
       "1618599                            associate\\ntrainee  NaN   \n",
       "1618598                                 legal trainee  NaN   \n",
       "1618597                            associate\\ntrainee  NaN   \n",
       "1618596                                     associate  NaN   \n",
       "1820435                               legal secretary  NaN   \n",
       "330624                                      associate  NaN   \n",
       "330619               kindergarten\\nassistant\\nteacher  NaN   \n",
       "330618                study\\nintegration leader\\npart  NaN   \n",
       "330617                                bartender\\npart  NaN   \n",
       "330623   office administrator\\nrecruitment researcher  NaN   \n",
       "\n",
       "                                                  exp_desc  \n",
       "1618599                                                NaN  \n",
       "1618598                                                NaN  \n",
       "1618597                                                NaN  \n",
       "1618596                                                NaN  \n",
       "1820435                                                NaN  \n",
       "330624                                                 NaN  \n",
       "330619   assisted the main teacher /educator, prepared ...  \n",
       "330618   facilitated, led, and organized group discussi...  \n",
       "330617                                                 NaN  \n",
       "330623                                                 NaN  \n",
       "\n",
       "[10 rows x 21 columns]"
      ]
     },
     "execution_count": 25,
     "metadata": {},
     "output_type": "execute_result"
    }
   ],
   "source": [
    "exp11.head(10)"
   ]
  },
  {
   "cell_type": "code",
   "execution_count": 26,
   "id": "24892397-4e16-4a29-ab7d-1e0372be04a0",
   "metadata": {},
   "outputs": [],
   "source": [
    "exp11['fillna'] = exp11['start_date']"
   ]
  },
  {
   "cell_type": "code",
   "execution_count": 27,
   "id": "ff479d46-d6f0-4fec-a173-ce8c7f3e06ef",
   "metadata": {},
   "outputs": [
    {
     "data": {
      "text/html": [
       "<div>\n",
       "<style scoped>\n",
       "    .dataframe tbody tr th:only-of-type {\n",
       "        vertical-align: middle;\n",
       "    }\n",
       "\n",
       "    .dataframe tbody tr th {\n",
       "        vertical-align: top;\n",
       "    }\n",
       "\n",
       "    .dataframe thead th {\n",
       "        text-align: right;\n",
       "    }\n",
       "</style>\n",
       "<table border=\"1\" class=\"dataframe\">\n",
       "  <thead>\n",
       "    <tr style=\"text-align: right;\">\n",
       "      <th></th>\n",
       "      <th>profile_id</th>\n",
       "      <th>company</th>\n",
       "      <th>size</th>\n",
       "      <th>found_year</th>\n",
       "      <th>industry</th>\n",
       "      <th>hq_locality</th>\n",
       "      <th>hq_region</th>\n",
       "      <th>hq_country</th>\n",
       "      <th>website</th>\n",
       "      <th>location</th>\n",
       "      <th>...</th>\n",
       "      <th>country</th>\n",
       "      <th>continent</th>\n",
       "      <th>start_date</th>\n",
       "      <th>end_date</th>\n",
       "      <th>title</th>\n",
       "      <th>level</th>\n",
       "      <th>function</th>\n",
       "      <th>type</th>\n",
       "      <th>exp_desc</th>\n",
       "      <th>fillna</th>\n",
       "    </tr>\n",
       "  </thead>\n",
       "  <tbody>\n",
       "    <tr>\n",
       "      <th>1615409</th>\n",
       "      <td>zzzbmBygSSCMNW70J8rM</td>\n",
       "      <td>pt. ishida indonesia</td>\n",
       "      <td>1-10</td>\n",
       "      <td>2012.0</td>\n",
       "      <td>machinery</td>\n",
       "      <td>jakarta</td>\n",
       "      <td>jakarta raya</td>\n",
       "      <td>indonesia</td>\n",
       "      <td>ishida.com</td>\n",
       "      <td>NaN</td>\n",
       "      <td>...</td>\n",
       "      <td>NaN</td>\n",
       "      <td>NaN</td>\n",
       "      <td>2015-04-01 00:00:00</td>\n",
       "      <td>2017-03-01 00:00:00</td>\n",
       "      <td>chief sales &amp; marketing/supervisor</td>\n",
       "      <td>mgr</td>\n",
       "      <td>sales\\nchief\\nmarketing\\nsupervisor</td>\n",
       "      <td>NaN</td>\n",
       "      <td>-managing sales staff\\n-coordinating sales act...</td>\n",
       "      <td>2015-04-01 00:00:00</td>\n",
       "    </tr>\n",
       "    <tr>\n",
       "      <th>1615406</th>\n",
       "      <td>zzzbmBygSSCMNW70J8rM</td>\n",
       "      <td>pt. ishida indonesia</td>\n",
       "      <td>1-10</td>\n",
       "      <td>2012.0</td>\n",
       "      <td>machinery</td>\n",
       "      <td>jakarta</td>\n",
       "      <td>jakarta raya</td>\n",
       "      <td>indonesia</td>\n",
       "      <td>ishida.com</td>\n",
       "      <td>NaN</td>\n",
       "      <td>...</td>\n",
       "      <td>NaN</td>\n",
       "      <td>NaN</td>\n",
       "      <td>2017-04-01 00:00:00</td>\n",
       "      <td>2017-07-01 00:00:00</td>\n",
       "      <td>assistant sales &amp; marketing manager</td>\n",
       "      <td>NaN</td>\n",
       "      <td>assistant sales\\nmarketing manager</td>\n",
       "      <td>NaN</td>\n",
       "      <td>NaN</td>\n",
       "      <td>2017-04-01 00:00:00</td>\n",
       "    </tr>\n",
       "    <tr>\n",
       "      <th>1615408</th>\n",
       "      <td>zzzbmBygSSCMNW70J8rM</td>\n",
       "      <td>go-jek</td>\n",
       "      <td>1001-5000</td>\n",
       "      <td>2010.0</td>\n",
       "      <td>information technology and services</td>\n",
       "      <td>jakarta</td>\n",
       "      <td>jakarta raya</td>\n",
       "      <td>indonesia</td>\n",
       "      <td>go-jek.com</td>\n",
       "      <td>NaN</td>\n",
       "      <td>...</td>\n",
       "      <td>NaN</td>\n",
       "      <td>NaN</td>\n",
       "      <td>2017-07-01 00:00:00</td>\n",
       "      <td>2018-03-01 00:00:00</td>\n",
       "      <td>senior account manager</td>\n",
       "      <td>mgr</td>\n",
       "      <td>senior account manager</td>\n",
       "      <td>NaN</td>\n",
       "      <td>go-food smb sales division</td>\n",
       "      <td>2017-07-01 00:00:00</td>\n",
       "    </tr>\n",
       "    <tr>\n",
       "      <th>1615407</th>\n",
       "      <td>zzzbmBygSSCMNW70J8rM</td>\n",
       "      <td>go-jek</td>\n",
       "      <td>1001-5000</td>\n",
       "      <td>2010.0</td>\n",
       "      <td>information technology and services</td>\n",
       "      <td>jakarta</td>\n",
       "      <td>jakarta raya</td>\n",
       "      <td>indonesia</td>\n",
       "      <td>go-jek.com</td>\n",
       "      <td>NaN</td>\n",
       "      <td>...</td>\n",
       "      <td>NaN</td>\n",
       "      <td>NaN</td>\n",
       "      <td>2018-04-01 00:00:00</td>\n",
       "      <td>2018-08-01 00:00:00</td>\n",
       "      <td>merchant acquisition manager</td>\n",
       "      <td>mgr</td>\n",
       "      <td>acquisition manager\\nmerchant</td>\n",
       "      <td>NaN</td>\n",
       "      <td>go-food smb sales division</td>\n",
       "      <td>2018-04-01 00:00:00</td>\n",
       "    </tr>\n",
       "    <tr>\n",
       "      <th>1615405</th>\n",
       "      <td>zzzbmBygSSCMNW70J8rM</td>\n",
       "      <td>go-jek</td>\n",
       "      <td>1001-5000</td>\n",
       "      <td>2010.0</td>\n",
       "      <td>information technology and services</td>\n",
       "      <td>jakarta</td>\n",
       "      <td>jakarta raya</td>\n",
       "      <td>indonesia</td>\n",
       "      <td>go-jek.com</td>\n",
       "      <td>NaN</td>\n",
       "      <td>...</td>\n",
       "      <td>NaN</td>\n",
       "      <td>NaN</td>\n",
       "      <td>2018-10-01 00:00:00</td>\n",
       "      <td>NaN</td>\n",
       "      <td>business development manager - go-food festival</td>\n",
       "      <td>mgr</td>\n",
       "      <td>business development manager\\nfood</td>\n",
       "      <td>NaN</td>\n",
       "      <td>NaN</td>\n",
       "      <td>2018-10-01 00:00:00</td>\n",
       "    </tr>\n",
       "  </tbody>\n",
       "</table>\n",
       "<p>5 rows × 22 columns</p>\n",
       "</div>"
      ],
      "text/plain": [
       "                   profile_id               company       size found_year  \\\n",
       "1615409  zzzbmBygSSCMNW70J8rM  pt. ishida indonesia       1-10     2012.0   \n",
       "1615406  zzzbmBygSSCMNW70J8rM  pt. ishida indonesia       1-10     2012.0   \n",
       "1615408  zzzbmBygSSCMNW70J8rM                go-jek  1001-5000     2010.0   \n",
       "1615407  zzzbmBygSSCMNW70J8rM                go-jek  1001-5000     2010.0   \n",
       "1615405  zzzbmBygSSCMNW70J8rM                go-jek  1001-5000     2010.0   \n",
       "\n",
       "                                    industry hq_locality     hq_region  \\\n",
       "1615409                            machinery     jakarta  jakarta raya   \n",
       "1615406                            machinery     jakarta  jakarta raya   \n",
       "1615408  information technology and services     jakarta  jakarta raya   \n",
       "1615407  information technology and services     jakarta  jakarta raya   \n",
       "1615405  information technology and services     jakarta  jakarta raya   \n",
       "\n",
       "        hq_country     website location  ... country continent  \\\n",
       "1615409  indonesia  ishida.com      NaN  ...     NaN       NaN   \n",
       "1615406  indonesia  ishida.com      NaN  ...     NaN       NaN   \n",
       "1615408  indonesia  go-jek.com      NaN  ...     NaN       NaN   \n",
       "1615407  indonesia  go-jek.com      NaN  ...     NaN       NaN   \n",
       "1615405  indonesia  go-jek.com      NaN  ...     NaN       NaN   \n",
       "\n",
       "                  start_date             end_date  \\\n",
       "1615409  2015-04-01 00:00:00  2017-03-01 00:00:00   \n",
       "1615406  2017-04-01 00:00:00  2017-07-01 00:00:00   \n",
       "1615408  2017-07-01 00:00:00  2018-03-01 00:00:00   \n",
       "1615407  2018-04-01 00:00:00  2018-08-01 00:00:00   \n",
       "1615405  2018-10-01 00:00:00                  NaN   \n",
       "\n",
       "                                                   title level  \\\n",
       "1615409               chief sales & marketing/supervisor   mgr   \n",
       "1615406              assistant sales & marketing manager   NaN   \n",
       "1615408                           senior account manager   mgr   \n",
       "1615407                     merchant acquisition manager   mgr   \n",
       "1615405  business development manager - go-food festival   mgr   \n",
       "\n",
       "                                    function type  \\\n",
       "1615409  sales\\nchief\\nmarketing\\nsupervisor  NaN   \n",
       "1615406   assistant sales\\nmarketing manager  NaN   \n",
       "1615408               senior account manager  NaN   \n",
       "1615407        acquisition manager\\nmerchant  NaN   \n",
       "1615405   business development manager\\nfood  NaN   \n",
       "\n",
       "                                                  exp_desc  \\\n",
       "1615409  -managing sales staff\\n-coordinating sales act...   \n",
       "1615406                                                NaN   \n",
       "1615408                         go-food smb sales division   \n",
       "1615407                         go-food smb sales division   \n",
       "1615405                                                NaN   \n",
       "\n",
       "                      fillna  \n",
       "1615409  2015-04-01 00:00:00  \n",
       "1615406  2017-04-01 00:00:00  \n",
       "1615408  2017-07-01 00:00:00  \n",
       "1615407  2018-04-01 00:00:00  \n",
       "1615405  2018-10-01 00:00:00  \n",
       "\n",
       "[5 rows x 22 columns]"
      ]
     },
     "execution_count": 27,
     "metadata": {},
     "output_type": "execute_result"
    }
   ],
   "source": [
    "exp11.tail(5)"
   ]
  },
  {
   "cell_type": "code",
   "execution_count": 28,
   "id": "987f17e1-ba7a-4dfd-af30-edc027fdf63c",
   "metadata": {},
   "outputs": [],
   "source": [
    "exp11['fillna'] = exp11['fillna'].shift(-1)"
   ]
  },
  {
   "cell_type": "code",
   "execution_count": 29,
   "id": "59029cbe-a3de-4ba8-b9d6-82ec231ab390",
   "metadata": {},
   "outputs": [],
   "source": [
    "exp11['end_date'] = exp11['end_date'].fillna(exp11['fillna'])"
   ]
  },
  {
   "cell_type": "code",
   "execution_count": 30,
   "id": "bdd0e1ca-eebe-405e-b3d5-6016e1433c54",
   "metadata": {},
   "outputs": [],
   "source": [
    "#Drop the rows in index_ed\n",
    "exp11 = exp11[~exp11.index.isin(index_ed)]"
   ]
  },
  {
   "cell_type": "code",
   "execution_count": 31,
   "id": "53fc2332-ea58-4694-bd0b-651aa473e50e",
   "metadata": {},
   "outputs": [
    {
     "data": {
      "text/plain": [
       "0"
      ]
     },
     "execution_count": 31,
     "metadata": {},
     "output_type": "execute_result"
    }
   ],
   "source": [
    "exp11['end_date'].isna().sum()"
   ]
  },
  {
   "cell_type": "code",
   "execution_count": 32,
   "id": "e5ff3c8a-79c9-40bc-a13f-71429810121e",
   "metadata": {},
   "outputs": [],
   "source": [
    "#drop fillna column\n",
    "exp11 = exp11.drop('fillna',axis=1)"
   ]
  },
  {
   "cell_type": "code",
   "execution_count": 33,
   "id": "5d6c0c79-54ba-459e-9556-c856891b6765",
   "metadata": {},
   "outputs": [],
   "source": [
    "#Problem: A lot of s/e dates filled with same yyyy, will causes 0 tenure, choose to drop\n",
    "#Problem: Exist same company multiple experience\n",
    "exp11 = exp11[exp11['start_date'] != exp11['end_date']]"
   ]
  },
  {
   "cell_type": "code",
   "execution_count": 34,
   "id": "ef0d0a1c-4c5c-4c1d-af8b-13ca26059f0d",
   "metadata": {},
   "outputs": [],
   "source": [
    "#there are missing values in the 'company' column, drop all the id have this error\n",
    "error_c = set(exp11.loc[exp11[['company']].isna().any(axis=1),'profile_id'])\n",
    "exp11 = exp11[~exp11['profile_id'].isin(error_c)]"
   ]
  },
  {
   "cell_type": "code",
   "execution_count": 35,
   "id": "7d90cef0-9ed0-45c2-a492-417d85b38433",
   "metadata": {},
   "outputs": [
    {
     "data": {
      "text/plain": [
       "0"
      ]
     },
     "execution_count": 35,
     "metadata": {},
     "output_type": "execute_result"
    }
   ],
   "source": [
    "exp11['company'].isnull().sum()"
   ]
  },
  {
   "cell_type": "code",
   "execution_count": 36,
   "id": "dc3e456e-def6-44d8-a1f9-ec270fc434a4",
   "metadata": {},
   "outputs": [],
   "source": [
    "exp11['work_id'] = exp11['profile_id'] + exp11['company']"
   ]
  },
  {
   "cell_type": "code",
   "execution_count": 37,
   "id": "366d9fdb-d83a-4a8e-9086-d78e16da4d1e",
   "metadata": {},
   "outputs": [],
   "source": [
    "#build a new table without duplicated experience\n",
    "idx1 = exp11.groupby(['profile_id','company'])['end_date'].transform(max) == exp11['end_date']\n",
    "df1 = exp11[idx1]"
   ]
  },
  {
   "cell_type": "code",
   "execution_count": 38,
   "id": "b82e676a-e86d-44cd-9ff1-e1fee5723346",
   "metadata": {},
   "outputs": [],
   "source": [
    "idx2 = exp11.groupby(['profile_id','company'])['start_date'].transform(min) == exp11['start_date']\n",
    "df2 = exp11[idx2]"
   ]
  },
  {
   "cell_type": "code",
   "execution_count": 39,
   "id": "1838e3ce-dcd2-4751-8684-70447edd690e",
   "metadata": {},
   "outputs": [],
   "source": [
    "df11 = df1.drop_duplicates(subset=['company','profile_id'])"
   ]
  },
  {
   "cell_type": "code",
   "execution_count": 40,
   "id": "b80207c6-cfe5-4def-9fa3-74b081dd80a8",
   "metadata": {},
   "outputs": [],
   "source": [
    "df22 = df2.drop_duplicates(subset=['company','profile_id'])"
   ]
  },
  {
   "cell_type": "code",
   "execution_count": 41,
   "id": "5e86b9ed-64e0-4463-899e-79947a6828bd",
   "metadata": {},
   "outputs": [],
   "source": [
    "df11 = df11.drop(['start_date'],axis=1)"
   ]
  },
  {
   "cell_type": "code",
   "execution_count": 42,
   "id": "21da90f2-7f4c-4dc7-9325-eac78545581f",
   "metadata": {},
   "outputs": [
    {
     "data": {
      "text/plain": [
       "(1713735, 21)"
      ]
     },
     "execution_count": 42,
     "metadata": {},
     "output_type": "execute_result"
    }
   ],
   "source": [
    "df11.shape"
   ]
  },
  {
   "cell_type": "code",
   "execution_count": 43,
   "id": "eda8a8bf-a67e-4e80-b827-ca15c636c15b",
   "metadata": {},
   "outputs": [
    {
     "data": {
      "text/plain": [
       "1713735"
      ]
     },
     "execution_count": 43,
     "metadata": {},
     "output_type": "execute_result"
    }
   ],
   "source": [
    "df22['work_id'].nunique()"
   ]
  },
  {
   "cell_type": "code",
   "execution_count": 44,
   "id": "4fe9a785-4254-42fd-8d96-c773372a0b10",
   "metadata": {},
   "outputs": [],
   "source": [
    "df22 = df22[['work_id','start_date']]"
   ]
  },
  {
   "cell_type": "code",
   "execution_count": 45,
   "id": "3e70d0d7-54e6-4679-b885-bd3ef6235a33",
   "metadata": {},
   "outputs": [],
   "source": [
    "df11 = df11.merge(df22, how = 'left', on = ['work_id'])"
   ]
  },
  {
   "cell_type": "code",
   "execution_count": 46,
   "id": "0cb02f8a-c133-4376-920f-5cc085250cdb",
   "metadata": {},
   "outputs": [],
   "source": [
    "df11 = df11.sort_values(by=['profile_id','start_date'])"
   ]
  },
  {
   "cell_type": "code",
   "execution_count": 47,
   "id": "576f80f8-1d0b-4e9b-adcd-a150f4175198",
   "metadata": {},
   "outputs": [],
   "source": [
    "df11['tenure'] = df11['end_date'] - df11['start_date']\n",
    "df11['tenure'] = df11['tenure'].dt.days"
   ]
  },
  {
   "cell_type": "code",
   "execution_count": 48,
   "id": "56052f89-7270-4ba7-b728-fab7163371f9",
   "metadata": {},
   "outputs": [
    {
     "data": {
      "text/plain": [
       "(1713735, 23)"
      ]
     },
     "execution_count": 48,
     "metadata": {},
     "output_type": "execute_result"
    }
   ],
   "source": [
    "df11.shape"
   ]
  },
  {
   "cell_type": "code",
   "execution_count": 49,
   "id": "79bdfb14-81cb-4423-ab03-712a2efad075",
   "metadata": {},
   "outputs": [],
   "source": [
    "#Double check previous ids to see whether dropping last exp with null end_date cause target tenure < 1y\n",
    "df_check = df_check[['profile_id','company']]\n",
    "df_check['work_id'] = df_check['profile_id'] + df_check['company']"
   ]
  },
  {
   "cell_type": "code",
   "execution_count": 50,
   "id": "37e469d9-b9f2-4db5-af73-99e7b3094fed",
   "metadata": {},
   "outputs": [
    {
     "data": {
      "text/plain": [
       "546903"
      ]
     },
     "execution_count": 50,
     "metadata": {},
     "output_type": "execute_result"
    }
   ],
   "source": [
    "df_check['work_id'].nunique()"
   ]
  },
  {
   "cell_type": "code",
   "execution_count": 51,
   "id": "4dbe5738-4f23-40ea-a3f2-021e7b6b19ed",
   "metadata": {},
   "outputs": [
    {
     "data": {
      "text/plain": [
       "1713735"
      ]
     },
     "execution_count": 51,
     "metadata": {},
     "output_type": "execute_result"
    }
   ],
   "source": [
    "df11['work_id'].nunique()"
   ]
  },
  {
   "cell_type": "code",
   "execution_count": 52,
   "id": "269b50ce-e36d-4a91-ae60-2bbe679c930a",
   "metadata": {},
   "outputs": [],
   "source": [
    "check = set(df_check['work_id'])"
   ]
  },
  {
   "cell_type": "code",
   "execution_count": 53,
   "id": "75090ddb-0600-4908-8ad8-4c7741392447",
   "metadata": {},
   "outputs": [],
   "source": [
    "df3 = df11[(df11['work_id'].isin(check)) & (df11['tenure'] < 365)]"
   ]
  },
  {
   "cell_type": "code",
   "execution_count": 54,
   "id": "5212e327-6b35-4b8a-9664-600efaae2f7c",
   "metadata": {},
   "outputs": [
    {
     "data": {
      "text/plain": [
       "(15830, 23)"
      ]
     },
     "execution_count": 54,
     "metadata": {},
     "output_type": "execute_result"
    }
   ],
   "source": [
    "# number of rows that should be dropped\n",
    "df3.shape"
   ]
  },
  {
   "cell_type": "code",
   "execution_count": 55,
   "id": "6d9a8dbb-7049-44ad-9bde-3dec96af649c",
   "metadata": {},
   "outputs": [],
   "source": [
    "data = df11[~df11.index.isin(df3.index)]"
   ]
  },
  {
   "cell_type": "code",
   "execution_count": 56,
   "id": "70695df4-4e99-4c0d-826f-3559299745f3",
   "metadata": {},
   "outputs": [
    {
     "data": {
      "text/plain": [
       "(1697905, 23)"
      ]
     },
     "execution_count": 56,
     "metadata": {},
     "output_type": "execute_result"
    }
   ],
   "source": [
    "data.shape"
   ]
  },
  {
   "cell_type": "code",
   "execution_count": 57,
   "id": "2241f022-5fa6-4307-9b03-f03d04ac4d0d",
   "metadata": {},
   "outputs": [],
   "source": [
    "#delete id that has exp dates before 1950\n",
    "t1 = datetime.strptime('1950-01-01','%Y-%m-%d')\n",
    "\n",
    "df_t1 = data[(data['start_date']< t1 ) | (data['end_date'] < t1)]"
   ]
  },
  {
   "cell_type": "code",
   "execution_count": 58,
   "id": "ed6df846-74ee-4a3d-b3d7-04086bb4485c",
   "metadata": {},
   "outputs": [],
   "source": [
    "data = data[~data['profile_id'].isin(df_t1['profile_id'])]"
   ]
  },
  {
   "cell_type": "code",
   "execution_count": 59,
   "id": "9d807bf9-4b1a-4df4-bb58-1ada3ce29b71",
   "metadata": {},
   "outputs": [
    {
     "data": {
      "text/plain": [
       "(1697689, 23)"
      ]
     },
     "execution_count": 59,
     "metadata": {},
     "output_type": "execute_result"
    }
   ],
   "source": [
    "data.shape"
   ]
  },
  {
   "cell_type": "code",
   "execution_count": 60,
   "id": "994eee71-9b62-49cf-a3c4-377c0a78fe68",
   "metadata": {},
   "outputs": [],
   "source": [
    "#find the target exp\n",
    "data = data.sort_values(by = ['start_date'])\n",
    "t_index = data.groupby('profile_id').tail(1).index\n",
    "df_target = data[data.index.isin(t_index)]"
   ]
  },
  {
   "cell_type": "code",
   "execution_count": 104,
   "id": "ee01a624-f077-4ff7-93a3-a58f1917e108",
   "metadata": {},
   "outputs": [],
   "source": [
    "df_all = df_target[['profile_id','company','size','industry','hq_country','website','level','tenure']]"
   ]
  },
  {
   "cell_type": "code",
   "execution_count": 105,
   "id": "4b71a249-f4fa-4e26-ae1f-2f9234ef9fc1",
   "metadata": {},
   "outputs": [],
   "source": [
    "#delete the data with negative tenure\n",
    "df_all = df_all[df_all['tenure'] > 0]"
   ]
  },
  {
   "cell_type": "code",
   "execution_count": 106,
   "id": "b5ca813c-439b-4412-9aea-35b92c94f87e",
   "metadata": {},
   "outputs": [
    {
     "data": {
      "text/plain": [
       "(529132, 8)"
      ]
     },
     "execution_count": 106,
     "metadata": {},
     "output_type": "execute_result"
    }
   ],
   "source": [
    "df_all.shape"
   ]
  },
  {
   "cell_type": "code",
   "execution_count": 107,
   "id": "875639a3-363f-4978-ac7b-16c0df390c8a",
   "metadata": {},
   "outputs": [],
   "source": [
    "#drop the target exp to calculate the total and average tenure\n",
    "data = data[~data.index.isin(t_index)]"
   ]
  },
  {
   "cell_type": "code",
   "execution_count": 108,
   "id": "d5474331-1ff8-4a77-88bb-a59cc900c167",
   "metadata": {},
   "outputs": [],
   "source": [
    "df_sum = data.groupby('profile_id')['tenure'].sum()\n",
    "df_avg = data.groupby('profile_id')['tenure'].mean()"
   ]
  },
  {
   "cell_type": "code",
   "execution_count": 109,
   "id": "e4357eb0-1143-42af-93e3-7076be3db825",
   "metadata": {},
   "outputs": [
    {
     "data": {
      "text/plain": [
       "profile_id\n",
       "---7ZN5QQ6Ots7_KAGrz     214\n",
       "---NvmpCRJ2v09r1vf_v    2253\n",
       "--1GeOqPT9uBYjj_r_wQ     792\n",
       "--1sqVPNQ52JLooM2q3F    2099\n",
       "--24Bl1SQsGQ7InMvsgD    3014\n",
       "                        ... \n",
       "zzwrn9BpQqWTHWkfUSNM    1247\n",
       "zzxByvUCTFqoXACujJqC    5264\n",
       "zzxJxYnoSZadOGzfzpse    4078\n",
       "zzy9TldLTEmwJcCy1CGt     855\n",
       "zzzbmBygSSCMNW70J8rM    1065\n",
       "Name: tenure, Length: 392578, dtype: int64"
      ]
     },
     "execution_count": 109,
     "metadata": {},
     "output_type": "execute_result"
    }
   ],
   "source": [
    "df_sum"
   ]
  },
  {
   "cell_type": "code",
   "execution_count": 110,
   "id": "f6a19468-c3a9-4849-adc2-42fbaa560324",
   "metadata": {},
   "outputs": [],
   "source": [
    "df_all = df_all.merge(df_sum, on=['profile_id'], how = 'left')\n",
    "df_all = df_all.merge(df_avg, on=['profile_id'], how = 'left')"
   ]
  },
  {
   "cell_type": "code",
   "execution_count": 111,
   "id": "0f91f55c-7977-49d6-9181-e376a3496182",
   "metadata": {},
   "outputs": [],
   "source": [
    "df_all = df_all.rename(columns={\"tenure_x\": \"tenure\", \"tenure_y\": \"tot_tenure\",\"tenure\":\"avg_tenure\"})"
   ]
  },
  {
   "cell_type": "code",
   "execution_count": 112,
   "id": "762a4a73-7b47-44e3-b18e-1169870be2fc",
   "metadata": {},
   "outputs": [],
   "source": [
    "df_all['target'] = np.where((df_all['tenure']>365), 'loyal', 'disloyal')"
   ]
  },
  {
   "cell_type": "code",
   "execution_count": 113,
   "id": "9f558b4d-7385-4c09-848c-f46cc03e5ae1",
   "metadata": {},
   "outputs": [],
   "source": [
    "#Get profile info\n",
    "df_pro = pd.read_csv('profile_pdl.csv')\n",
    "\n",
    "df_pro = df_pro[['profile_id','salary','country','continent']]"
   ]
  },
  {
   "cell_type": "code",
   "execution_count": 114,
   "id": "c3313401-c509-491e-8f78-6913964c37fa",
   "metadata": {},
   "outputs": [],
   "source": [
    "df_all = df_all.merge(df_pro, on=['profile_id'], how = 'left')"
   ]
  },
  {
   "cell_type": "markdown",
   "id": "186317a5-4049-4755-b512-5a6ba9d2f8ec",
   "metadata": {},
   "source": [
    "#Get industry info\n",
    "df_ind = pd.read_csv('industry_pdl.csv')\n",
    "df_ind = df_ind.rename(columns={'id':'profile_id'})\n",
    "df_all = df_all.merge(df_ind, on=['profile_id'], how = 'left')"
   ]
  },
  {
   "cell_type": "code",
   "execution_count": 115,
   "id": "4114591a-784b-4533-9f09-2276e15fd29d",
   "metadata": {},
   "outputs": [],
   "source": [
    "#Get interest info\n",
    "int = pd.read_csv('interest_pdl.csv')\n",
    "int = int.rename(columns={'id':'profile_id'})\n",
    "int = int.drop('Unnamed: 0', axis=1)\n",
    "df_int = pd.DataFrame(int.groupby('profile_id').count())\n",
    "df_int = df_int.reset_index(drop = False)"
   ]
  },
  {
   "cell_type": "code",
   "execution_count": 116,
   "id": "ec4c6c2b-31a7-435a-a575-2874db12108d",
   "metadata": {},
   "outputs": [],
   "source": [
    "df_all = df_all.merge(df_int, on=['profile_id'], how = 'left')\n",
    "df_all = df_all.rename(columns={\"interest\": \"int_count\"})"
   ]
  },
  {
   "cell_type": "code",
   "execution_count": 117,
   "id": "df3621fb-4973-41da-9eab-f4619cdcde31",
   "metadata": {},
   "outputs": [],
   "source": [
    "#Get skill info\n",
    "skill = pd.read_csv('skill_pdl.csv')\n",
    "skill = skill.rename(columns={'id':'profile_id'})\n",
    "\n",
    "df_ski = pd.DataFrame(skill.groupby('profile_id').count())\n",
    "df_ski = df_ski.reset_index(drop = False)"
   ]
  },
  {
   "cell_type": "code",
   "execution_count": 118,
   "id": "31aa81f0-28af-4d0a-9433-611518ff30d3",
   "metadata": {},
   "outputs": [
    {
     "data": {
      "text/plain": [
       "223160"
      ]
     },
     "execution_count": 118,
     "metadata": {},
     "output_type": "execute_result"
    }
   ],
   "source": [
    "skill['skill'].nunique()"
   ]
  },
  {
   "cell_type": "code",
   "execution_count": 119,
   "id": "576c92f0-4028-439c-98fe-59b99ea84807",
   "metadata": {},
   "outputs": [],
   "source": [
    "df_all = df_all.merge(df_ski, on=['profile_id'], how = 'left')\n",
    "df_all = df_all.rename(columns={\"skill\": \"skill_count\"})"
   ]
  },
  {
   "cell_type": "code",
   "execution_count": 120,
   "id": "37ca52ae-c111-4aaf-a8f8-00dd54642e28",
   "metadata": {},
   "outputs": [
    {
     "data": {
      "text/html": [
       "<div>\n",
       "<style scoped>\n",
       "    .dataframe tbody tr th:only-of-type {\n",
       "        vertical-align: middle;\n",
       "    }\n",
       "\n",
       "    .dataframe tbody tr th {\n",
       "        vertical-align: top;\n",
       "    }\n",
       "\n",
       "    .dataframe thead th {\n",
       "        text-align: right;\n",
       "    }\n",
       "</style>\n",
       "<table border=\"1\" class=\"dataframe\">\n",
       "  <thead>\n",
       "    <tr style=\"text-align: right;\">\n",
       "      <th></th>\n",
       "      <th>profile_id</th>\n",
       "      <th>company</th>\n",
       "      <th>size</th>\n",
       "      <th>industry</th>\n",
       "      <th>hq_country</th>\n",
       "      <th>website</th>\n",
       "      <th>level</th>\n",
       "      <th>tenure</th>\n",
       "      <th>tot_tenure</th>\n",
       "      <th>avg_tenure</th>\n",
       "      <th>target</th>\n",
       "      <th>salary</th>\n",
       "      <th>country</th>\n",
       "      <th>continent</th>\n",
       "      <th>int_count</th>\n",
       "      <th>skill_count</th>\n",
       "    </tr>\n",
       "  </thead>\n",
       "  <tbody>\n",
       "    <tr>\n",
       "      <th>0</th>\n",
       "      <td>TX2lkDILT7ipMZ_6jt6X</td>\n",
       "      <td>panti asuhan kerahiman hawai papua</td>\n",
       "      <td>NaN</td>\n",
       "      <td>NaN</td>\n",
       "      <td>NaN</td>\n",
       "      <td>NaN</td>\n",
       "      <td>NaN</td>\n",
       "      <td>22646</td>\n",
       "      <td>NaN</td>\n",
       "      <td>NaN</td>\n",
       "      <td>loyal</td>\n",
       "      <td>NaN</td>\n",
       "      <td>indonesia</td>\n",
       "      <td>asia</td>\n",
       "      <td>NaN</td>\n",
       "      <td>NaN</td>\n",
       "    </tr>\n",
       "    <tr>\n",
       "      <th>1</th>\n",
       "      <td>-drFXizgQaSS6QApPYZQ</td>\n",
       "      <td>autoprofit marketing pte</td>\n",
       "      <td>NaN</td>\n",
       "      <td>NaN</td>\n",
       "      <td>NaN</td>\n",
       "      <td>NaN</td>\n",
       "      <td>NaN</td>\n",
       "      <td>21823</td>\n",
       "      <td>NaN</td>\n",
       "      <td>NaN</td>\n",
       "      <td>loyal</td>\n",
       "      <td>55,000-70,000</td>\n",
       "      <td>singapore</td>\n",
       "      <td>asia</td>\n",
       "      <td>NaN</td>\n",
       "      <td>8.0</td>\n",
       "    </tr>\n",
       "    <tr>\n",
       "      <th>2</th>\n",
       "      <td>DY0Ed5iVQcy15UPDS1i7</td>\n",
       "      <td>cherrybelle</td>\n",
       "      <td>NaN</td>\n",
       "      <td>NaN</td>\n",
       "      <td>NaN</td>\n",
       "      <td>NaN</td>\n",
       "      <td>NaN</td>\n",
       "      <td>2192</td>\n",
       "      <td>NaN</td>\n",
       "      <td>NaN</td>\n",
       "      <td>loyal</td>\n",
       "      <td>NaN</td>\n",
       "      <td>indonesia</td>\n",
       "      <td>asia</td>\n",
       "      <td>NaN</td>\n",
       "      <td>NaN</td>\n",
       "    </tr>\n",
       "    <tr>\n",
       "      <th>3</th>\n",
       "      <td>HelFHtkjT0C-ab89XR7m</td>\n",
       "      <td>second to none, inc.</td>\n",
       "      <td>1001-5000</td>\n",
       "      <td>market research</td>\n",
       "      <td>united states</td>\n",
       "      <td>second-to-none.com</td>\n",
       "      <td>NaN</td>\n",
       "      <td>6210</td>\n",
       "      <td>NaN</td>\n",
       "      <td>NaN</td>\n",
       "      <td>loyal</td>\n",
       "      <td>NaN</td>\n",
       "      <td>indonesia</td>\n",
       "      <td>asia</td>\n",
       "      <td>NaN</td>\n",
       "      <td>6.0</td>\n",
       "    </tr>\n",
       "    <tr>\n",
       "      <th>4</th>\n",
       "      <td>17tAIFLSQCWi7SNRapja</td>\n",
       "      <td>microsoft</td>\n",
       "      <td>10001+</td>\n",
       "      <td>computer software</td>\n",
       "      <td>united states</td>\n",
       "      <td>microsoft.com</td>\n",
       "      <td>c</td>\n",
       "      <td>22281</td>\n",
       "      <td>NaN</td>\n",
       "      <td>NaN</td>\n",
       "      <td>loyal</td>\n",
       "      <td>NaN</td>\n",
       "      <td>singapore</td>\n",
       "      <td>asia</td>\n",
       "      <td>NaN</td>\n",
       "      <td>3.0</td>\n",
       "    </tr>\n",
       "    <tr>\n",
       "      <th>...</th>\n",
       "      <td>...</td>\n",
       "      <td>...</td>\n",
       "      <td>...</td>\n",
       "      <td>...</td>\n",
       "      <td>...</td>\n",
       "      <td>...</td>\n",
       "      <td>...</td>\n",
       "      <td>...</td>\n",
       "      <td>...</td>\n",
       "      <td>...</td>\n",
       "      <td>...</td>\n",
       "      <td>...</td>\n",
       "      <td>...</td>\n",
       "      <td>...</td>\n",
       "      <td>...</td>\n",
       "      <td>...</td>\n",
       "    </tr>\n",
       "    <tr>\n",
       "      <th>529127</th>\n",
       "      <td>Ki682VYoQOy8-R0YQPJh</td>\n",
       "      <td>millennial board</td>\n",
       "      <td>51-200</td>\n",
       "      <td>think tanks</td>\n",
       "      <td>finland</td>\n",
       "      <td>millennialboard.fi</td>\n",
       "      <td>NaN</td>\n",
       "      <td>61</td>\n",
       "      <td>3016.0</td>\n",
       "      <td>430.857143</td>\n",
       "      <td>disloyal</td>\n",
       "      <td>85,000-100,000</td>\n",
       "      <td>finland</td>\n",
       "      <td>europe</td>\n",
       "      <td>10.0</td>\n",
       "      <td>27.0</td>\n",
       "    </tr>\n",
       "    <tr>\n",
       "      <th>529128</th>\n",
       "      <td>CgNuZexDR0C8dGR8RinZ</td>\n",
       "      <td>ylöjärven ilves ry</td>\n",
       "      <td>NaN</td>\n",
       "      <td>NaN</td>\n",
       "      <td>NaN</td>\n",
       "      <td>NaN</td>\n",
       "      <td>NaN</td>\n",
       "      <td>30</td>\n",
       "      <td>2496.0</td>\n",
       "      <td>832.000000</td>\n",
       "      <td>disloyal</td>\n",
       "      <td>85,000-100,000</td>\n",
       "      <td>finland</td>\n",
       "      <td>europe</td>\n",
       "      <td>NaN</td>\n",
       "      <td>27.0</td>\n",
       "    </tr>\n",
       "    <tr>\n",
       "      <th>529129</th>\n",
       "      <td>psd-ZhaITQGnkRuJsXn3</td>\n",
       "      <td>university of indonesia</td>\n",
       "      <td>5001-10000</td>\n",
       "      <td>higher education</td>\n",
       "      <td>indonesia</td>\n",
       "      <td>ui.ac.id</td>\n",
       "      <td>NaN</td>\n",
       "      <td>30</td>\n",
       "      <td>1312.0</td>\n",
       "      <td>218.666667</td>\n",
       "      <td>disloyal</td>\n",
       "      <td>45,000-55,000</td>\n",
       "      <td>indonesia</td>\n",
       "      <td>asia</td>\n",
       "      <td>14.0</td>\n",
       "      <td>30.0</td>\n",
       "    </tr>\n",
       "    <tr>\n",
       "      <th>529130</th>\n",
       "      <td>1QMowLw0QJKbpSRhZN25</td>\n",
       "      <td>slush</td>\n",
       "      <td>201-500</td>\n",
       "      <td>information technology and services</td>\n",
       "      <td>finland</td>\n",
       "      <td>slush.org</td>\n",
       "      <td>NaN</td>\n",
       "      <td>30</td>\n",
       "      <td>1767.0</td>\n",
       "      <td>294.500000</td>\n",
       "      <td>disloyal</td>\n",
       "      <td>70,000-85,000</td>\n",
       "      <td>finland</td>\n",
       "      <td>europe</td>\n",
       "      <td>NaN</td>\n",
       "      <td>19.0</td>\n",
       "    </tr>\n",
       "    <tr>\n",
       "      <th>529131</th>\n",
       "      <td>j3CHa2s2TKCtWl1UP5CW</td>\n",
       "      <td>coinmarkets</td>\n",
       "      <td>NaN</td>\n",
       "      <td>NaN</td>\n",
       "      <td>NaN</td>\n",
       "      <td>NaN</td>\n",
       "      <td>NaN</td>\n",
       "      <td>30</td>\n",
       "      <td>31.0</td>\n",
       "      <td>31.000000</td>\n",
       "      <td>disloyal</td>\n",
       "      <td>45,000-55,000</td>\n",
       "      <td>indonesia</td>\n",
       "      <td>asia</td>\n",
       "      <td>NaN</td>\n",
       "      <td>6.0</td>\n",
       "    </tr>\n",
       "  </tbody>\n",
       "</table>\n",
       "<p>529132 rows × 16 columns</p>\n",
       "</div>"
      ],
      "text/plain": [
       "                  profile_id                             company        size  \\\n",
       "0       TX2lkDILT7ipMZ_6jt6X  panti asuhan kerahiman hawai papua         NaN   \n",
       "1       -drFXizgQaSS6QApPYZQ            autoprofit marketing pte         NaN   \n",
       "2       DY0Ed5iVQcy15UPDS1i7                         cherrybelle         NaN   \n",
       "3       HelFHtkjT0C-ab89XR7m                second to none, inc.   1001-5000   \n",
       "4       17tAIFLSQCWi7SNRapja                           microsoft      10001+   \n",
       "...                      ...                                 ...         ...   \n",
       "529127  Ki682VYoQOy8-R0YQPJh                    millennial board      51-200   \n",
       "529128  CgNuZexDR0C8dGR8RinZ                  ylöjärven ilves ry         NaN   \n",
       "529129  psd-ZhaITQGnkRuJsXn3             university of indonesia  5001-10000   \n",
       "529130  1QMowLw0QJKbpSRhZN25                               slush     201-500   \n",
       "529131  j3CHa2s2TKCtWl1UP5CW                         coinmarkets         NaN   \n",
       "\n",
       "                                   industry     hq_country  \\\n",
       "0                                       NaN            NaN   \n",
       "1                                       NaN            NaN   \n",
       "2                                       NaN            NaN   \n",
       "3                           market research  united states   \n",
       "4                         computer software  united states   \n",
       "...                                     ...            ...   \n",
       "529127                          think tanks        finland   \n",
       "529128                                  NaN            NaN   \n",
       "529129                     higher education      indonesia   \n",
       "529130  information technology and services        finland   \n",
       "529131                                  NaN            NaN   \n",
       "\n",
       "                   website level  tenure  tot_tenure  avg_tenure    target  \\\n",
       "0                      NaN   NaN   22646         NaN         NaN     loyal   \n",
       "1                      NaN   NaN   21823         NaN         NaN     loyal   \n",
       "2                      NaN   NaN    2192         NaN         NaN     loyal   \n",
       "3       second-to-none.com   NaN    6210         NaN         NaN     loyal   \n",
       "4            microsoft.com     c   22281         NaN         NaN     loyal   \n",
       "...                    ...   ...     ...         ...         ...       ...   \n",
       "529127  millennialboard.fi   NaN      61      3016.0  430.857143  disloyal   \n",
       "529128                 NaN   NaN      30      2496.0  832.000000  disloyal   \n",
       "529129            ui.ac.id   NaN      30      1312.0  218.666667  disloyal   \n",
       "529130           slush.org   NaN      30      1767.0  294.500000  disloyal   \n",
       "529131                 NaN   NaN      30        31.0   31.000000  disloyal   \n",
       "\n",
       "                salary    country continent  int_count  skill_count  \n",
       "0                  NaN  indonesia      asia        NaN          NaN  \n",
       "1        55,000-70,000  singapore      asia        NaN          8.0  \n",
       "2                  NaN  indonesia      asia        NaN          NaN  \n",
       "3                  NaN  indonesia      asia        NaN          6.0  \n",
       "4                  NaN  singapore      asia        NaN          3.0  \n",
       "...                ...        ...       ...        ...          ...  \n",
       "529127  85,000-100,000    finland    europe       10.0         27.0  \n",
       "529128  85,000-100,000    finland    europe        NaN         27.0  \n",
       "529129   45,000-55,000  indonesia      asia       14.0         30.0  \n",
       "529130   70,000-85,000    finland    europe        NaN         19.0  \n",
       "529131   45,000-55,000  indonesia      asia        NaN          6.0  \n",
       "\n",
       "[529132 rows x 16 columns]"
      ]
     },
     "execution_count": 120,
     "metadata": {},
     "output_type": "execute_result"
    }
   ],
   "source": [
    "df_all"
   ]
  },
  {
   "cell_type": "code",
   "execution_count": 121,
   "id": "ea167f46-40df-4263-b228-94a501e2eb5e",
   "metadata": {},
   "outputs": [],
   "source": [
    "#Get education info\n",
    "edu = pd.read_csv('education_pdl.csv')"
   ]
  },
  {
   "cell_type": "code",
   "execution_count": 122,
   "id": "85e0434b-2ca9-496a-b402-1040e083ff2b",
   "metadata": {},
   "outputs": [],
   "source": [
    "df_edu = edu[['profile_id','qual_type','degree']]"
   ]
  },
  {
   "cell_type": "code",
   "execution_count": 123,
   "id": "0df52e18-6581-4887-b879-9a9e4cc5ddf8",
   "metadata": {},
   "outputs": [],
   "source": [
    "df_edu = df_edu[df_edu['qual_type'].notna()]"
   ]
  },
  {
   "cell_type": "code",
   "execution_count": 124,
   "id": "46475510-3f3b-4b81-8ec5-70834d4b6783",
   "metadata": {},
   "outputs": [
    {
     "data": {
      "text/plain": [
       "13900"
      ]
     },
     "execution_count": 124,
     "metadata": {},
     "output_type": "execute_result"
    }
   ],
   "source": [
    "df_edu.degree.nunique()"
   ]
  },
  {
   "cell_type": "code",
   "execution_count": 125,
   "id": "748118ad-e78c-482a-a0e4-d452cebd24fd",
   "metadata": {},
   "outputs": [],
   "source": [
    "df_edu.loc[(df_edu['qual_type'].str.contains(\"associate\")), 'qual_type'] = 'associate'\n",
    "\n",
    "df_edu.loc[(df_edu['qual_type'].str.contains(\"bachelor\")), 'qual_type'] = 'bachelor'\n",
    "\n",
    "df_edu.loc[(df_edu['qual_type'].str.contains(\"master\")), 'qual_type'] = 'master'\n",
    "\n",
    "df_edu.loc[(df_edu['qual_type'].str.contains(\"doctor\")), 'qual_type'] = 'doctor'"
   ]
  },
  {
   "cell_type": "code",
   "execution_count": 126,
   "id": "e89e591b-6928-4931-9eef-033e40a9262c",
   "metadata": {},
   "outputs": [],
   "source": [
    "df_edu = df_edu.replace('magisters\\nmagister juris', 'master')"
   ]
  },
  {
   "cell_type": "code",
   "execution_count": 127,
   "id": "7d848bff-c742-46a3-8227-93880cf05206",
   "metadata": {},
   "outputs": [],
   "source": [
    "#Find highest degree of each individual\n",
    "df_edu['seq'] = df_edu['qual_type']\n",
    "df_edu['seq'] = df_edu['seq'].replace({'associate':1, 'bachelor':2, 'master':3, 'doctor':4})"
   ]
  },
  {
   "cell_type": "code",
   "execution_count": 128,
   "id": "28f90705-c883-41be-a71e-d6f869155358",
   "metadata": {},
   "outputs": [],
   "source": [
    "df_edu = df_edu.sort_values(by = ['seq'])\n",
    "\n",
    "df_edu = df_edu.drop_duplicates(subset=['profile_id'], keep = 'last')"
   ]
  },
  {
   "cell_type": "code",
   "execution_count": 129,
   "id": "934656e7-1091-4a78-a55e-3e6d30636a9a",
   "metadata": {},
   "outputs": [],
   "source": [
    "df_all = df_all.merge(df_edu, on=['profile_id'], how = 'left')"
   ]
  },
  {
   "cell_type": "code",
   "execution_count": 130,
   "id": "bf4f5983-0f95-4463-ab29-38b392a1f6be",
   "metadata": {},
   "outputs": [],
   "source": [
    "df_all = df_all.drop('seq',axis=1)"
   ]
  },
  {
   "cell_type": "code",
   "execution_count": 131,
   "id": "cbda0787-f3ae-4981-93b3-c0773278316a",
   "metadata": {},
   "outputs": [
    {
     "data": {
      "text/plain": [
       "array(['Unknown', '1001-5000', '10001+', '5001-10000', '1-10', '501-1000',\n",
       "       '201-500', '51-200', '11-50'], dtype=object)"
      ]
     },
     "execution_count": 131,
     "metadata": {},
     "output_type": "execute_result"
    }
   ],
   "source": [
    "#CLean 'size'\n",
    "df_all['size'] = df_all['size'].fillna('Unknown')\n",
    "df_all['size'].unique()"
   ]
  },
  {
   "cell_type": "code",
   "execution_count": 135,
   "id": "21493ce7-1bbb-4b78-afea-2904ad194417",
   "metadata": {},
   "outputs": [
    {
     "data": {
      "text/html": [
       "<div>\n",
       "<style scoped>\n",
       "    .dataframe tbody tr th:only-of-type {\n",
       "        vertical-align: middle;\n",
       "    }\n",
       "\n",
       "    .dataframe tbody tr th {\n",
       "        vertical-align: top;\n",
       "    }\n",
       "\n",
       "    .dataframe thead th {\n",
       "        text-align: right;\n",
       "    }\n",
       "</style>\n",
       "<table border=\"1\" class=\"dataframe\">\n",
       "  <thead>\n",
       "    <tr style=\"text-align: right;\">\n",
       "      <th></th>\n",
       "      <th>profile_id</th>\n",
       "      <th>company</th>\n",
       "      <th>size</th>\n",
       "      <th>industry</th>\n",
       "      <th>hq_country</th>\n",
       "      <th>website</th>\n",
       "      <th>level</th>\n",
       "      <th>tenure</th>\n",
       "      <th>tot_tenure</th>\n",
       "      <th>avg_tenure</th>\n",
       "      <th>target</th>\n",
       "      <th>salary</th>\n",
       "      <th>country</th>\n",
       "      <th>continent</th>\n",
       "      <th>int_count</th>\n",
       "      <th>skill_count</th>\n",
       "      <th>qual_type</th>\n",
       "      <th>degree</th>\n",
       "    </tr>\n",
       "  </thead>\n",
       "  <tbody>\n",
       "    <tr>\n",
       "      <th>0</th>\n",
       "      <td>TX2lkDILT7ipMZ_6jt6X</td>\n",
       "      <td>panti asuhan kerahiman hawai papua</td>\n",
       "      <td>Unknown</td>\n",
       "      <td>NaN</td>\n",
       "      <td>NaN</td>\n",
       "      <td>NaN</td>\n",
       "      <td>NaN</td>\n",
       "      <td>22646</td>\n",
       "      <td>NaN</td>\n",
       "      <td>NaN</td>\n",
       "      <td>loyal</td>\n",
       "      <td>NaN</td>\n",
       "      <td>indonesia</td>\n",
       "      <td>asia</td>\n",
       "      <td>NaN</td>\n",
       "      <td>NaN</td>\n",
       "      <td>NaN</td>\n",
       "      <td>NaN</td>\n",
       "    </tr>\n",
       "    <tr>\n",
       "      <th>1</th>\n",
       "      <td>-drFXizgQaSS6QApPYZQ</td>\n",
       "      <td>autoprofit marketing pte</td>\n",
       "      <td>Unknown</td>\n",
       "      <td>NaN</td>\n",
       "      <td>NaN</td>\n",
       "      <td>NaN</td>\n",
       "      <td>NaN</td>\n",
       "      <td>21823</td>\n",
       "      <td>NaN</td>\n",
       "      <td>NaN</td>\n",
       "      <td>loyal</td>\n",
       "      <td>55,000-70,000</td>\n",
       "      <td>singapore</td>\n",
       "      <td>asia</td>\n",
       "      <td>NaN</td>\n",
       "      <td>8.0</td>\n",
       "      <td>NaN</td>\n",
       "      <td>NaN</td>\n",
       "    </tr>\n",
       "    <tr>\n",
       "      <th>2</th>\n",
       "      <td>DY0Ed5iVQcy15UPDS1i7</td>\n",
       "      <td>cherrybelle</td>\n",
       "      <td>Unknown</td>\n",
       "      <td>NaN</td>\n",
       "      <td>NaN</td>\n",
       "      <td>NaN</td>\n",
       "      <td>NaN</td>\n",
       "      <td>2192</td>\n",
       "      <td>NaN</td>\n",
       "      <td>NaN</td>\n",
       "      <td>loyal</td>\n",
       "      <td>NaN</td>\n",
       "      <td>indonesia</td>\n",
       "      <td>asia</td>\n",
       "      <td>NaN</td>\n",
       "      <td>NaN</td>\n",
       "      <td>NaN</td>\n",
       "      <td>NaN</td>\n",
       "    </tr>\n",
       "    <tr>\n",
       "      <th>3</th>\n",
       "      <td>HelFHtkjT0C-ab89XR7m</td>\n",
       "      <td>second to none, inc.</td>\n",
       "      <td>1001-5000</td>\n",
       "      <td>market research</td>\n",
       "      <td>united states</td>\n",
       "      <td>second-to-none.com</td>\n",
       "      <td>NaN</td>\n",
       "      <td>6210</td>\n",
       "      <td>NaN</td>\n",
       "      <td>NaN</td>\n",
       "      <td>loyal</td>\n",
       "      <td>NaN</td>\n",
       "      <td>indonesia</td>\n",
       "      <td>asia</td>\n",
       "      <td>NaN</td>\n",
       "      <td>6.0</td>\n",
       "      <td>NaN</td>\n",
       "      <td>NaN</td>\n",
       "    </tr>\n",
       "    <tr>\n",
       "      <th>4</th>\n",
       "      <td>17tAIFLSQCWi7SNRapja</td>\n",
       "      <td>microsoft</td>\n",
       "      <td>10001+</td>\n",
       "      <td>computer software</td>\n",
       "      <td>united states</td>\n",
       "      <td>microsoft.com</td>\n",
       "      <td>c</td>\n",
       "      <td>22281</td>\n",
       "      <td>NaN</td>\n",
       "      <td>NaN</td>\n",
       "      <td>loyal</td>\n",
       "      <td>NaN</td>\n",
       "      <td>singapore</td>\n",
       "      <td>asia</td>\n",
       "      <td>NaN</td>\n",
       "      <td>3.0</td>\n",
       "      <td>NaN</td>\n",
       "      <td>NaN</td>\n",
       "    </tr>\n",
       "  </tbody>\n",
       "</table>\n",
       "</div>"
      ],
      "text/plain": [
       "             profile_id                             company       size  \\\n",
       "0  TX2lkDILT7ipMZ_6jt6X  panti asuhan kerahiman hawai papua    Unknown   \n",
       "1  -drFXizgQaSS6QApPYZQ            autoprofit marketing pte    Unknown   \n",
       "2  DY0Ed5iVQcy15UPDS1i7                         cherrybelle    Unknown   \n",
       "3  HelFHtkjT0C-ab89XR7m                second to none, inc.  1001-5000   \n",
       "4  17tAIFLSQCWi7SNRapja                           microsoft     10001+   \n",
       "\n",
       "            industry     hq_country             website level  tenure  \\\n",
       "0                NaN            NaN                 NaN   NaN   22646   \n",
       "1                NaN            NaN                 NaN   NaN   21823   \n",
       "2                NaN            NaN                 NaN   NaN    2192   \n",
       "3    market research  united states  second-to-none.com   NaN    6210   \n",
       "4  computer software  united states       microsoft.com     c   22281   \n",
       "\n",
       "   tot_tenure  avg_tenure target         salary    country continent  \\\n",
       "0         NaN         NaN  loyal            NaN  indonesia      asia   \n",
       "1         NaN         NaN  loyal  55,000-70,000  singapore      asia   \n",
       "2         NaN         NaN  loyal            NaN  indonesia      asia   \n",
       "3         NaN         NaN  loyal            NaN  indonesia      asia   \n",
       "4         NaN         NaN  loyal            NaN  singapore      asia   \n",
       "\n",
       "   int_count  skill_count qual_type degree  \n",
       "0        NaN          NaN       NaN    NaN  \n",
       "1        NaN          8.0       NaN    NaN  \n",
       "2        NaN          NaN       NaN    NaN  \n",
       "3        NaN          6.0       NaN    NaN  \n",
       "4        NaN          3.0       NaN    NaN  "
      ]
     },
     "execution_count": 135,
     "metadata": {},
     "output_type": "execute_result"
    }
   ],
   "source": [
    "df_all.head(5)"
   ]
  },
  {
   "cell_type": "code",
   "execution_count": null,
   "id": "e39b9748-ef22-4389-ab5b-5d63f611661f",
   "metadata": {},
   "outputs": [],
   "source": [
    "df_all['hq_country'].unique()"
   ]
  },
  {
   "cell_type": "code",
   "execution_count": 138,
   "id": "cea66963-ece3-411d-8fce-d0381b26a8fd",
   "metadata": {},
   "outputs": [],
   "source": [
    "df_all['have_web'] = np.where((df_all['website'].isna()), 'N', 'Y')"
   ]
  },
  {
   "cell_type": "code",
   "execution_count": 140,
   "id": "c91ebf17-520d-4f08-9b12-b0b1885e176d",
   "metadata": {},
   "outputs": [],
   "source": [
    "df_all = df_all.drop('website',axis=1)"
   ]
  },
  {
   "cell_type": "code",
   "execution_count": 150,
   "id": "2f7dab38-c5e4-4347-abce-4ac7b290fe6c",
   "metadata": {},
   "outputs": [],
   "source": [
    "df_all['title'] = df_all['level']"
   ]
  },
  {
   "cell_type": "code",
   "execution_count": 152,
   "id": "b4eafaab-0923-472f-837b-e7aa4bca1c6b",
   "metadata": {},
   "outputs": [],
   "source": [
    "df_all['title'] = df_all['title'].replace({ 'c\\ndir':'c', 'vp\\ndir':'vp',\n",
    "       'mgr\\nvp':'mgr', 'pres\\ndir':'pres', 'mgr\\ndir':'mgr', 'mgr\\nc':'mgr',\n",
    "       'pres\\nowner':'pres', 'owner\\ndir':'owner', 'c\\nowner':'c', 'pres\\nc':'pres', 'vp\\nc':'vp',\n",
    "       'mgr\\nc\\ndir':'mgr', 'owner\\nc':'owner', 'mgr\\nowner':'mgr', 'mgr\\npres':'mgr', 'mgr\\nvp\\nc':'mgr',\n",
    "       'pres\\nc\\ndir':'pres', 'dir\\nc\\nowner':'dir', 'mgr\\nowner\\ndir':'mgr', 'vp\\npres':'vp',\n",
    "       'vp\\nowner':'vp', 'pres\\nc\\nowner':'pres', 'mgr\\npres\\ndir':'mgr', 'owner\\nc\\ndir':'owner',\n",
    "       'vp\\nowner\\ndir':'vp', 'mgr\\nvp\\ndir':'mgr', 'mgr\\nowner\\nc':'mgr', 'mgr\\nc\\nowner':'mgr',\n",
    "       'pres\\nowner\\ndir':'pres', 'dir\\nc':'dir'})"
   ]
  },
  {
   "cell_type": "code",
   "execution_count": 155,
   "id": "2565baf0-186f-4800-801b-1ae6f461bdb6",
   "metadata": {},
   "outputs": [],
   "source": [
    "df_all['title'] = df_all['title'].fillna('none')"
   ]
  },
  {
   "cell_type": "code",
   "execution_count": 157,
   "id": "875783ce-1a90-439e-a2d4-5659a872116f",
   "metadata": {},
   "outputs": [],
   "source": [
    "df_all['tot_tenure'] = df_all['tot_tenure'].fillna(0)"
   ]
  },
  {
   "cell_type": "code",
   "execution_count": 158,
   "id": "68bb9ee9-e8f4-4f87-a0ac-4bf2b31fe3b2",
   "metadata": {},
   "outputs": [],
   "source": [
    "df_all['avg_tenure'] = df_all['avg_tenure'].fillna(0)"
   ]
  },
  {
   "cell_type": "code",
   "execution_count": 160,
   "id": "fbb0c754-02c4-41dc-afec-46f564ce720c",
   "metadata": {},
   "outputs": [],
   "source": [
    "df_all['salary'] = df_all['salary'].fillna('Unknown')"
   ]
  },
  {
   "cell_type": "code",
   "execution_count": 163,
   "id": "e1d37cd4-5b6b-400c-ac46-601f361863c3",
   "metadata": {},
   "outputs": [],
   "source": [
    "df_all['int_count'] = df_all['int_count'].fillna(0)"
   ]
  },
  {
   "cell_type": "code",
   "execution_count": 164,
   "id": "3d0cadb2-e563-483c-8216-876987611979",
   "metadata": {},
   "outputs": [],
   "source": [
    "df_all['skill_count'] = df_all['skill_count'].fillna(0)"
   ]
  },
  {
   "cell_type": "code",
   "execution_count": 166,
   "id": "a7dcb3bb-b15b-4049-907f-a85b98340e28",
   "metadata": {},
   "outputs": [],
   "source": [
    "df_all['qual_type'] = df_all['qual_type'].fillna('none')"
   ]
  },
  {
   "cell_type": "code",
   "execution_count": 168,
   "id": "8d3adfc0-0aa5-4b47-b1c2-760e18b4fccf",
   "metadata": {},
   "outputs": [
    {
     "data": {
      "text/plain": [
       "10385"
      ]
     },
     "execution_count": 168,
     "metadata": {},
     "output_type": "execute_result"
    }
   ],
   "source": [
    "df_all['degree'].nunique()"
   ]
  },
  {
   "cell_type": "code",
   "execution_count": 170,
   "id": "7f1904ad-53a3-47cc-bf79-f536ae44bc00",
   "metadata": {},
   "outputs": [],
   "source": [
    "df_all.to_csv('data_v3.1.csv')"
   ]
  },
  {
   "cell_type": "code",
   "execution_count": null,
   "id": "c7b171e8-c103-498c-8ab2-aef914659770",
   "metadata": {},
   "outputs": [],
   "source": [
    "df_all = df_all.drop('industry','hq_country')"
   ]
  },
  {
   "cell_type": "code",
   "execution_count": 6,
   "id": "95fff39a-d6ce-47c1-ac4f-239800ea5fd0",
   "metadata": {},
   "outputs": [
    {
     "data": {
      "text/plain": [
       "array(['human resources', 'banking',\n",
       "       'information technology and services', 'marketing and advertising',\n",
       "       'legal services', 'management consulting',\n",
       "       'computer & network security', 'financial services',\n",
       "       'online media', 'e-learning', 'food production',\n",
       "       'computer software', 'plastics', 'logistics and supply chain',\n",
       "       'capital markets', 'broadcast media', 'sports', 'law practice',\n",
       "       'accounting', 'printing', 'consumer services',\n",
       "       'security and investigations', 'cosmetics', 'sporting goods',\n",
       "       'insurance', 'real estate', 'venture capital & private equity',\n",
       "       'construction', 'investment banking', 'arts and crafts',\n",
       "       'outsourcing/offshoring', 'mechanical or industrial engineering',\n",
       "       'internet', 'chemicals', 'tobacco', 'pharmaceuticals',\n",
       "       'environmental services', 'computer hardware', 'media production',\n",
       "       'oil & energy', 'higher education', 'restaurants',\n",
       "       'education management', 'retail', 'newspapers',\n",
       "       'government administration', 'computer games', 'market research',\n",
       "       'investment management', 'mining & metals', 'facilities services',\n",
       "       'writing and editing', 'translation and localization', 'design',\n",
       "       'industrial automation', 'electrical/electronic manufacturing',\n",
       "       'publishing', 'biotechnology', 'hospital & health care',\n",
       "       'government relations', 'consumer goods', 'civil engineering',\n",
       "       'non-profit organization management', 'building materials',\n",
       "       'transportation/trucking/railroad', 'music',\n",
       "       'staffing and recruiting', 'events services',\n",
       "       'information services', 'import and export',\n",
       "       'international trade and development',\n",
       "       'public relations and communications', 'research',\n",
       "       'law enforcement', 'telecommunications',\n",
       "       'civic & social organization', 'business supplies and equipment',\n",
       "       'program development', 'textiles', 'public safety',\n",
       "       'medical devices', 'furniture', 'graphic design',\n",
       "       'motion pictures and film', 'executive office', 'entertainment',\n",
       "       'farming', 'aviation & aerospace',\n",
       "       'professional training & coaching', 'apparel & fashion',\n",
       "       'machinery', 'wholesale', 'automotive', 'computer networking',\n",
       "       'fund-raising', 'hospitality', 'architecture & planning',\n",
       "       'paper & forest products', 'photography', 'wireless',\n",
       "       'primary/secondary education', 'public policy',\n",
       "       'international affairs', 'luxury goods & jewelry',\n",
       "       'individual & family services', 'medical practice', 'animation',\n",
       "       'airlines/aviation', 'religious institutions',\n",
       "       'renewables & environment', 'military', 'consumer electronics',\n",
       "       'gambling & casinos', 'utilities', 'libraries', 'maritime',\n",
       "       'semiconductors', 'think tanks', 'commercial real estate',\n",
       "       'shipbuilding', 'packaging and containers', 'fine art',\n",
       "       'museums and institutions', 'philanthropy', 'veterinary',\n",
       "       'political organization', 'defense & space', 'legislative office',\n",
       "       'mental health care', 'package/freight delivery', 'fishery',\n",
       "       'performing arts', 'dairy', 'alternative dispute resolution',\n",
       "       'recreational facilities and services', 'warehousing', 'judiciary',\n",
       "       'ranching', 'alternative medicine', 'supermarkets',\n",
       "       'wine and spirits', 'nanotechnology', 'railroad manufacture',\n",
       "       'food & beverages'], dtype=object)"
      ]
     },
     "execution_count": 6,
     "metadata": {},
     "output_type": "execute_result"
    }
   ],
   "source": [
    "industry['industry'].unique()"
   ]
  },
  {
   "cell_type": "code",
   "execution_count": null,
   "id": "5f795035-aac6-4572-a1e9-7d5a9cc287e0",
   "metadata": {},
   "outputs": [],
   "source": []
  }
 ],
 "metadata": {
  "kernelspec": {
   "display_name": "Python 3",
   "language": "python",
   "name": "python3"
  },
  "language_info": {
   "codemirror_mode": {
    "name": "ipython",
    "version": 3
   },
   "file_extension": ".py",
   "mimetype": "text/x-python",
   "name": "python",
   "nbconvert_exporter": "python",
   "pygments_lexer": "ipython3",
   "version": "3.8.8"
  }
 },
 "nbformat": 4,
 "nbformat_minor": 5
}
