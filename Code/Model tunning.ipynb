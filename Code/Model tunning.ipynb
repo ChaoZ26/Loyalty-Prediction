{
 "cells": [
  {
   "cell_type": "code",
   "execution_count": 1,
   "id": "82c7508b-75e3-47f9-bba8-8f17ce8b7230",
   "metadata": {},
   "outputs": [],
   "source": [
    "import pandas as pd\n",
    "import numpy as np\n",
    "import xgboost as xgb\n",
    "from xgboost.sklearn import XGBClassifier\n",
    "from sklearn import metrics   #Additional scklearn functions\n",
    "from sklearn.model_selection import GridSearchCV  #Perforing grid search\n",
    "import matplotlib.pylab as plt\n",
    "%matplotlib inline\n",
    "from matplotlib.pylab import rcParams\n",
    "from sklearn.model_selection import train_test_split\n",
    "from sklearn.metrics import accuracy_score\n",
    "from sklearn.metrics import confusion_matrix\n",
    "from sklearn.datasets import make_classification\n",
    "from sklearn.metrics import confusion_matrix, ConfusionMatrixDisplay\n",
    "from sklearn.metrics import roc_auc_score\n",
    "rcParams['figure.figsize'] = 12, 4"
   ]
  },
  {
   "cell_type": "code",
   "execution_count": 2,
   "id": "8ee7575f-0914-4855-a73b-cf6a946f5c40",
   "metadata": {},
   "outputs": [],
   "source": [
    "data = pd.read_csv('data_v3.1.csv')"
   ]
  },
  {
   "cell_type": "code",
   "execution_count": 3,
   "id": "c89febb0-8cd1-4cec-b749-2795c8de1c2a",
   "metadata": {},
   "outputs": [
    {
     "data": {
      "text/html": [
       "<div>\n",
       "<style scoped>\n",
       "    .dataframe tbody tr th:only-of-type {\n",
       "        vertical-align: middle;\n",
       "    }\n",
       "\n",
       "    .dataframe tbody tr th {\n",
       "        vertical-align: top;\n",
       "    }\n",
       "\n",
       "    .dataframe thead th {\n",
       "        text-align: right;\n",
       "    }\n",
       "</style>\n",
       "<table border=\"1\" class=\"dataframe\">\n",
       "  <thead>\n",
       "    <tr style=\"text-align: right;\">\n",
       "      <th></th>\n",
       "      <th>Unnamed: 0</th>\n",
       "      <th>profile_id</th>\n",
       "      <th>company</th>\n",
       "      <th>size</th>\n",
       "      <th>industry</th>\n",
       "      <th>hq_country</th>\n",
       "      <th>level</th>\n",
       "      <th>tenure</th>\n",
       "      <th>tot_tenure</th>\n",
       "      <th>avg_tenure</th>\n",
       "      <th>target</th>\n",
       "      <th>salary</th>\n",
       "      <th>country</th>\n",
       "      <th>continent</th>\n",
       "      <th>int_count</th>\n",
       "      <th>skill_count</th>\n",
       "      <th>qual_type</th>\n",
       "      <th>degree</th>\n",
       "      <th>have_web</th>\n",
       "      <th>title</th>\n",
       "    </tr>\n",
       "  </thead>\n",
       "  <tbody>\n",
       "    <tr>\n",
       "      <th>0</th>\n",
       "      <td>0</td>\n",
       "      <td>TX2lkDILT7ipMZ_6jt6X</td>\n",
       "      <td>panti asuhan kerahiman hawai papua</td>\n",
       "      <td>Unknown</td>\n",
       "      <td>NaN</td>\n",
       "      <td>NaN</td>\n",
       "      <td>NaN</td>\n",
       "      <td>22646</td>\n",
       "      <td>0.0</td>\n",
       "      <td>0.0</td>\n",
       "      <td>loyal</td>\n",
       "      <td>Unknown</td>\n",
       "      <td>indonesia</td>\n",
       "      <td>asia</td>\n",
       "      <td>0.0</td>\n",
       "      <td>0.0</td>\n",
       "      <td>none</td>\n",
       "      <td>NaN</td>\n",
       "      <td>N</td>\n",
       "      <td>none</td>\n",
       "    </tr>\n",
       "    <tr>\n",
       "      <th>1</th>\n",
       "      <td>1</td>\n",
       "      <td>-drFXizgQaSS6QApPYZQ</td>\n",
       "      <td>autoprofit marketing pte</td>\n",
       "      <td>Unknown</td>\n",
       "      <td>NaN</td>\n",
       "      <td>NaN</td>\n",
       "      <td>NaN</td>\n",
       "      <td>21823</td>\n",
       "      <td>0.0</td>\n",
       "      <td>0.0</td>\n",
       "      <td>loyal</td>\n",
       "      <td>55,000-70,000</td>\n",
       "      <td>singapore</td>\n",
       "      <td>asia</td>\n",
       "      <td>0.0</td>\n",
       "      <td>8.0</td>\n",
       "      <td>none</td>\n",
       "      <td>NaN</td>\n",
       "      <td>N</td>\n",
       "      <td>none</td>\n",
       "    </tr>\n",
       "    <tr>\n",
       "      <th>2</th>\n",
       "      <td>2</td>\n",
       "      <td>DY0Ed5iVQcy15UPDS1i7</td>\n",
       "      <td>cherrybelle</td>\n",
       "      <td>Unknown</td>\n",
       "      <td>NaN</td>\n",
       "      <td>NaN</td>\n",
       "      <td>NaN</td>\n",
       "      <td>2192</td>\n",
       "      <td>0.0</td>\n",
       "      <td>0.0</td>\n",
       "      <td>loyal</td>\n",
       "      <td>Unknown</td>\n",
       "      <td>indonesia</td>\n",
       "      <td>asia</td>\n",
       "      <td>0.0</td>\n",
       "      <td>0.0</td>\n",
       "      <td>none</td>\n",
       "      <td>NaN</td>\n",
       "      <td>N</td>\n",
       "      <td>none</td>\n",
       "    </tr>\n",
       "    <tr>\n",
       "      <th>3</th>\n",
       "      <td>3</td>\n",
       "      <td>HelFHtkjT0C-ab89XR7m</td>\n",
       "      <td>second to none, inc.</td>\n",
       "      <td>1001-5000</td>\n",
       "      <td>market research</td>\n",
       "      <td>united states</td>\n",
       "      <td>NaN</td>\n",
       "      <td>6210</td>\n",
       "      <td>0.0</td>\n",
       "      <td>0.0</td>\n",
       "      <td>loyal</td>\n",
       "      <td>Unknown</td>\n",
       "      <td>indonesia</td>\n",
       "      <td>asia</td>\n",
       "      <td>0.0</td>\n",
       "      <td>6.0</td>\n",
       "      <td>none</td>\n",
       "      <td>NaN</td>\n",
       "      <td>Y</td>\n",
       "      <td>none</td>\n",
       "    </tr>\n",
       "    <tr>\n",
       "      <th>4</th>\n",
       "      <td>4</td>\n",
       "      <td>17tAIFLSQCWi7SNRapja</td>\n",
       "      <td>microsoft</td>\n",
       "      <td>10001+</td>\n",
       "      <td>computer software</td>\n",
       "      <td>united states</td>\n",
       "      <td>c</td>\n",
       "      <td>22281</td>\n",
       "      <td>0.0</td>\n",
       "      <td>0.0</td>\n",
       "      <td>loyal</td>\n",
       "      <td>Unknown</td>\n",
       "      <td>singapore</td>\n",
       "      <td>asia</td>\n",
       "      <td>0.0</td>\n",
       "      <td>3.0</td>\n",
       "      <td>none</td>\n",
       "      <td>NaN</td>\n",
       "      <td>Y</td>\n",
       "      <td>c</td>\n",
       "    </tr>\n",
       "  </tbody>\n",
       "</table>\n",
       "</div>"
      ],
      "text/plain": [
       "   Unnamed: 0            profile_id                             company  \\\n",
       "0           0  TX2lkDILT7ipMZ_6jt6X  panti asuhan kerahiman hawai papua   \n",
       "1           1  -drFXizgQaSS6QApPYZQ            autoprofit marketing pte   \n",
       "2           2  DY0Ed5iVQcy15UPDS1i7                         cherrybelle   \n",
       "3           3  HelFHtkjT0C-ab89XR7m                second to none, inc.   \n",
       "4           4  17tAIFLSQCWi7SNRapja                           microsoft   \n",
       "\n",
       "        size           industry     hq_country level  tenure  tot_tenure  \\\n",
       "0    Unknown                NaN            NaN   NaN   22646         0.0   \n",
       "1    Unknown                NaN            NaN   NaN   21823         0.0   \n",
       "2    Unknown                NaN            NaN   NaN    2192         0.0   \n",
       "3  1001-5000    market research  united states   NaN    6210         0.0   \n",
       "4     10001+  computer software  united states     c   22281         0.0   \n",
       "\n",
       "   avg_tenure target         salary    country continent  int_count  \\\n",
       "0         0.0  loyal        Unknown  indonesia      asia        0.0   \n",
       "1         0.0  loyal  55,000-70,000  singapore      asia        0.0   \n",
       "2         0.0  loyal        Unknown  indonesia      asia        0.0   \n",
       "3         0.0  loyal        Unknown  indonesia      asia        0.0   \n",
       "4         0.0  loyal        Unknown  singapore      asia        0.0   \n",
       "\n",
       "   skill_count qual_type degree have_web title  \n",
       "0          0.0      none    NaN        N  none  \n",
       "1          8.0      none    NaN        N  none  \n",
       "2          0.0      none    NaN        N  none  \n",
       "3          6.0      none    NaN        Y  none  \n",
       "4          3.0      none    NaN        Y     c  "
      ]
     },
     "execution_count": 3,
     "metadata": {},
     "output_type": "execute_result"
    }
   ],
   "source": [
    "data.head(5)"
   ]
  },
  {
   "cell_type": "code",
   "execution_count": 4,
   "id": "810ba5b7-f25c-48fa-8e53-bc53806de552",
   "metadata": {},
   "outputs": [
    {
     "data": {
      "text/html": [
       "<div>\n",
       "<style scoped>\n",
       "    .dataframe tbody tr th:only-of-type {\n",
       "        vertical-align: middle;\n",
       "    }\n",
       "\n",
       "    .dataframe tbody tr th {\n",
       "        vertical-align: top;\n",
       "    }\n",
       "\n",
       "    .dataframe thead th {\n",
       "        text-align: right;\n",
       "    }\n",
       "</style>\n",
       "<table border=\"1\" class=\"dataframe\">\n",
       "  <thead>\n",
       "    <tr style=\"text-align: right;\">\n",
       "      <th></th>\n",
       "      <th>Unnamed: 0</th>\n",
       "      <th>tenure</th>\n",
       "      <th>tot_tenure</th>\n",
       "      <th>avg_tenure</th>\n",
       "      <th>int_count</th>\n",
       "      <th>skill_count</th>\n",
       "    </tr>\n",
       "  </thead>\n",
       "  <tbody>\n",
       "    <tr>\n",
       "      <th>count</th>\n",
       "      <td>529132.000000</td>\n",
       "      <td>529132.000000</td>\n",
       "      <td>529132.000000</td>\n",
       "      <td>529132.000000</td>\n",
       "      <td>529132.000000</td>\n",
       "      <td>529132.000000</td>\n",
       "    </tr>\n",
       "    <tr>\n",
       "      <th>mean</th>\n",
       "      <td>264565.500000</td>\n",
       "      <td>1113.800314</td>\n",
       "      <td>2038.325465</td>\n",
       "      <td>759.536388</td>\n",
       "      <td>1.815078</td>\n",
       "      <td>20.185698</td>\n",
       "    </tr>\n",
       "    <tr>\n",
       "      <th>std</th>\n",
       "      <td>152747.395655</td>\n",
       "      <td>1304.123331</td>\n",
       "      <td>2659.142882</td>\n",
       "      <td>973.848076</td>\n",
       "      <td>7.288523</td>\n",
       "      <td>18.771527</td>\n",
       "    </tr>\n",
       "    <tr>\n",
       "      <th>min</th>\n",
       "      <td>0.000000</td>\n",
       "      <td>28.000000</td>\n",
       "      <td>-10957.000000</td>\n",
       "      <td>-3652.333333</td>\n",
       "      <td>0.000000</td>\n",
       "      <td>0.000000</td>\n",
       "    </tr>\n",
       "    <tr>\n",
       "      <th>25%</th>\n",
       "      <td>132282.750000</td>\n",
       "      <td>336.000000</td>\n",
       "      <td>0.000000</td>\n",
       "      <td>0.000000</td>\n",
       "      <td>0.000000</td>\n",
       "      <td>10.000000</td>\n",
       "    </tr>\n",
       "    <tr>\n",
       "      <th>50%</th>\n",
       "      <td>264565.500000</td>\n",
       "      <td>730.000000</td>\n",
       "      <td>1156.000000</td>\n",
       "      <td>519.000000</td>\n",
       "      <td>0.000000</td>\n",
       "      <td>17.000000</td>\n",
       "    </tr>\n",
       "    <tr>\n",
       "      <th>75%</th>\n",
       "      <td>396848.250000</td>\n",
       "      <td>1402.000000</td>\n",
       "      <td>2950.000000</td>\n",
       "      <td>1061.781250</td>\n",
       "      <td>1.000000</td>\n",
       "      <td>25.000000</td>\n",
       "    </tr>\n",
       "    <tr>\n",
       "      <th>max</th>\n",
       "      <td>529131.000000</td>\n",
       "      <td>22646.000000</td>\n",
       "      <td>80870.000000</td>\n",
       "      <td>22645.000000</td>\n",
       "      <td>227.000000</td>\n",
       "      <td>647.000000</td>\n",
       "    </tr>\n",
       "  </tbody>\n",
       "</table>\n",
       "</div>"
      ],
      "text/plain": [
       "          Unnamed: 0         tenure     tot_tenure     avg_tenure  \\\n",
       "count  529132.000000  529132.000000  529132.000000  529132.000000   \n",
       "mean   264565.500000    1113.800314    2038.325465     759.536388   \n",
       "std    152747.395655    1304.123331    2659.142882     973.848076   \n",
       "min         0.000000      28.000000  -10957.000000   -3652.333333   \n",
       "25%    132282.750000     336.000000       0.000000       0.000000   \n",
       "50%    264565.500000     730.000000    1156.000000     519.000000   \n",
       "75%    396848.250000    1402.000000    2950.000000    1061.781250   \n",
       "max    529131.000000   22646.000000   80870.000000   22645.000000   \n",
       "\n",
       "           int_count    skill_count  \n",
       "count  529132.000000  529132.000000  \n",
       "mean        1.815078      20.185698  \n",
       "std         7.288523      18.771527  \n",
       "min         0.000000       0.000000  \n",
       "25%         0.000000      10.000000  \n",
       "50%         0.000000      17.000000  \n",
       "75%         1.000000      25.000000  \n",
       "max       227.000000     647.000000  "
      ]
     },
     "execution_count": 4,
     "metadata": {},
     "output_type": "execute_result"
    }
   ],
   "source": [
    "data.describe()"
   ]
  },
  {
   "cell_type": "code",
   "execution_count": 5,
   "id": "c4b4be26-3664-4271-97d6-6622b9f6a815",
   "metadata": {},
   "outputs": [],
   "source": [
    "# Tenure is our target, 'level' and 'degree' are useless because info is in 'title'\n",
    "# 'hq_country' and 'industry' need a dict to be used, drop for now\n",
    "# Also 'country' and 'continent' in the data only include very few, might be biased. We also drop them\n",
    "data = data.drop(['tenure','Unnamed: 0','profile_id','company','industry',\n",
    "                  'hq_country','level','degree','country','continent'], axis = 1)\n",
    "\n",
    "#Get rid of extrem values(tenure > 50 years and have too many industries and skills)\n",
    "data = data[data['tot_tenure'] < 18250]\n",
    "data = data[data['avg_tenure'] < 18250]\n",
    "data = data[data['int_count'] < 20]\n",
    "data = data[data['skill_count'] < 50]\n",
    "\n",
    "\n",
    "#Replace some duplicate category names\n",
    "data['salary'] = data['salary'].replace({'Unknown':'PNT'})\n",
    "data['title'] = data['title'].replace({'none':'no_title'})\n",
    "data['target'] = data['target'].replace({'loyal':0,'disloyal':1})\n",
    "\n",
    "\n",
    "#Get dummies for catgorical features\n",
    "cat_col = ['size', 'salary', 'qual_type', 'have_web', 'title']\n",
    "\n",
    "for feature in cat_col:\n",
    "    data = data.join(pd.get_dummies(data[feature]))\n",
    "    data = data.drop(feature, axis = 1)\n"
   ]
  },
  {
   "cell_type": "code",
   "execution_count": 6,
   "id": "28aba448-4a13-401f-bdff-b14480ab8c70",
   "metadata": {},
   "outputs": [
    {
     "data": {
      "text/html": [
       "<div>\n",
       "<style scoped>\n",
       "    .dataframe tbody tr th:only-of-type {\n",
       "        vertical-align: middle;\n",
       "    }\n",
       "\n",
       "    .dataframe tbody tr th {\n",
       "        vertical-align: top;\n",
       "    }\n",
       "\n",
       "    .dataframe thead th {\n",
       "        text-align: right;\n",
       "    }\n",
       "</style>\n",
       "<table border=\"1\" class=\"dataframe\">\n",
       "  <thead>\n",
       "    <tr style=\"text-align: right;\">\n",
       "      <th></th>\n",
       "      <th>tot_tenure</th>\n",
       "      <th>avg_tenure</th>\n",
       "      <th>target</th>\n",
       "      <th>int_count</th>\n",
       "      <th>skill_count</th>\n",
       "      <th>1-10</th>\n",
       "      <th>10001+</th>\n",
       "      <th>1001-5000</th>\n",
       "      <th>11-50</th>\n",
       "      <th>201-500</th>\n",
       "      <th>...</th>\n",
       "      <th>none</th>\n",
       "      <th>N</th>\n",
       "      <th>Y</th>\n",
       "      <th>c</th>\n",
       "      <th>dir</th>\n",
       "      <th>mgr</th>\n",
       "      <th>no_title</th>\n",
       "      <th>owner</th>\n",
       "      <th>pres</th>\n",
       "      <th>vp</th>\n",
       "    </tr>\n",
       "  </thead>\n",
       "  <tbody>\n",
       "    <tr>\n",
       "      <th>0</th>\n",
       "      <td>0.0</td>\n",
       "      <td>0.000000</td>\n",
       "      <td>0</td>\n",
       "      <td>0.0</td>\n",
       "      <td>0.0</td>\n",
       "      <td>0</td>\n",
       "      <td>0</td>\n",
       "      <td>0</td>\n",
       "      <td>0</td>\n",
       "      <td>0</td>\n",
       "      <td>...</td>\n",
       "      <td>1</td>\n",
       "      <td>1</td>\n",
       "      <td>0</td>\n",
       "      <td>0</td>\n",
       "      <td>0</td>\n",
       "      <td>0</td>\n",
       "      <td>1</td>\n",
       "      <td>0</td>\n",
       "      <td>0</td>\n",
       "      <td>0</td>\n",
       "    </tr>\n",
       "    <tr>\n",
       "      <th>1</th>\n",
       "      <td>0.0</td>\n",
       "      <td>0.000000</td>\n",
       "      <td>0</td>\n",
       "      <td>0.0</td>\n",
       "      <td>8.0</td>\n",
       "      <td>0</td>\n",
       "      <td>0</td>\n",
       "      <td>0</td>\n",
       "      <td>0</td>\n",
       "      <td>0</td>\n",
       "      <td>...</td>\n",
       "      <td>1</td>\n",
       "      <td>1</td>\n",
       "      <td>0</td>\n",
       "      <td>0</td>\n",
       "      <td>0</td>\n",
       "      <td>0</td>\n",
       "      <td>1</td>\n",
       "      <td>0</td>\n",
       "      <td>0</td>\n",
       "      <td>0</td>\n",
       "    </tr>\n",
       "    <tr>\n",
       "      <th>2</th>\n",
       "      <td>0.0</td>\n",
       "      <td>0.000000</td>\n",
       "      <td>0</td>\n",
       "      <td>0.0</td>\n",
       "      <td>0.0</td>\n",
       "      <td>0</td>\n",
       "      <td>0</td>\n",
       "      <td>0</td>\n",
       "      <td>0</td>\n",
       "      <td>0</td>\n",
       "      <td>...</td>\n",
       "      <td>1</td>\n",
       "      <td>1</td>\n",
       "      <td>0</td>\n",
       "      <td>0</td>\n",
       "      <td>0</td>\n",
       "      <td>0</td>\n",
       "      <td>1</td>\n",
       "      <td>0</td>\n",
       "      <td>0</td>\n",
       "      <td>0</td>\n",
       "    </tr>\n",
       "    <tr>\n",
       "      <th>3</th>\n",
       "      <td>0.0</td>\n",
       "      <td>0.000000</td>\n",
       "      <td>0</td>\n",
       "      <td>0.0</td>\n",
       "      <td>6.0</td>\n",
       "      <td>0</td>\n",
       "      <td>0</td>\n",
       "      <td>1</td>\n",
       "      <td>0</td>\n",
       "      <td>0</td>\n",
       "      <td>...</td>\n",
       "      <td>1</td>\n",
       "      <td>0</td>\n",
       "      <td>1</td>\n",
       "      <td>0</td>\n",
       "      <td>0</td>\n",
       "      <td>0</td>\n",
       "      <td>1</td>\n",
       "      <td>0</td>\n",
       "      <td>0</td>\n",
       "      <td>0</td>\n",
       "    </tr>\n",
       "    <tr>\n",
       "      <th>4</th>\n",
       "      <td>0.0</td>\n",
       "      <td>0.000000</td>\n",
       "      <td>0</td>\n",
       "      <td>0.0</td>\n",
       "      <td>3.0</td>\n",
       "      <td>0</td>\n",
       "      <td>1</td>\n",
       "      <td>0</td>\n",
       "      <td>0</td>\n",
       "      <td>0</td>\n",
       "      <td>...</td>\n",
       "      <td>1</td>\n",
       "      <td>0</td>\n",
       "      <td>1</td>\n",
       "      <td>1</td>\n",
       "      <td>0</td>\n",
       "      <td>0</td>\n",
       "      <td>0</td>\n",
       "      <td>0</td>\n",
       "      <td>0</td>\n",
       "      <td>0</td>\n",
       "    </tr>\n",
       "    <tr>\n",
       "      <th>...</th>\n",
       "      <td>...</td>\n",
       "      <td>...</td>\n",
       "      <td>...</td>\n",
       "      <td>...</td>\n",
       "      <td>...</td>\n",
       "      <td>...</td>\n",
       "      <td>...</td>\n",
       "      <td>...</td>\n",
       "      <td>...</td>\n",
       "      <td>...</td>\n",
       "      <td>...</td>\n",
       "      <td>...</td>\n",
       "      <td>...</td>\n",
       "      <td>...</td>\n",
       "      <td>...</td>\n",
       "      <td>...</td>\n",
       "      <td>...</td>\n",
       "      <td>...</td>\n",
       "      <td>...</td>\n",
       "      <td>...</td>\n",
       "      <td>...</td>\n",
       "    </tr>\n",
       "    <tr>\n",
       "      <th>529127</th>\n",
       "      <td>3016.0</td>\n",
       "      <td>430.857143</td>\n",
       "      <td>1</td>\n",
       "      <td>10.0</td>\n",
       "      <td>27.0</td>\n",
       "      <td>0</td>\n",
       "      <td>0</td>\n",
       "      <td>0</td>\n",
       "      <td>0</td>\n",
       "      <td>0</td>\n",
       "      <td>...</td>\n",
       "      <td>0</td>\n",
       "      <td>0</td>\n",
       "      <td>1</td>\n",
       "      <td>0</td>\n",
       "      <td>0</td>\n",
       "      <td>0</td>\n",
       "      <td>1</td>\n",
       "      <td>0</td>\n",
       "      <td>0</td>\n",
       "      <td>0</td>\n",
       "    </tr>\n",
       "    <tr>\n",
       "      <th>529128</th>\n",
       "      <td>2496.0</td>\n",
       "      <td>832.000000</td>\n",
       "      <td>1</td>\n",
       "      <td>0.0</td>\n",
       "      <td>27.0</td>\n",
       "      <td>0</td>\n",
       "      <td>0</td>\n",
       "      <td>0</td>\n",
       "      <td>0</td>\n",
       "      <td>0</td>\n",
       "      <td>...</td>\n",
       "      <td>0</td>\n",
       "      <td>1</td>\n",
       "      <td>0</td>\n",
       "      <td>0</td>\n",
       "      <td>0</td>\n",
       "      <td>0</td>\n",
       "      <td>1</td>\n",
       "      <td>0</td>\n",
       "      <td>0</td>\n",
       "      <td>0</td>\n",
       "    </tr>\n",
       "    <tr>\n",
       "      <th>529129</th>\n",
       "      <td>1312.0</td>\n",
       "      <td>218.666667</td>\n",
       "      <td>1</td>\n",
       "      <td>14.0</td>\n",
       "      <td>30.0</td>\n",
       "      <td>0</td>\n",
       "      <td>0</td>\n",
       "      <td>0</td>\n",
       "      <td>0</td>\n",
       "      <td>0</td>\n",
       "      <td>...</td>\n",
       "      <td>0</td>\n",
       "      <td>0</td>\n",
       "      <td>1</td>\n",
       "      <td>0</td>\n",
       "      <td>0</td>\n",
       "      <td>0</td>\n",
       "      <td>1</td>\n",
       "      <td>0</td>\n",
       "      <td>0</td>\n",
       "      <td>0</td>\n",
       "    </tr>\n",
       "    <tr>\n",
       "      <th>529130</th>\n",
       "      <td>1767.0</td>\n",
       "      <td>294.500000</td>\n",
       "      <td>1</td>\n",
       "      <td>0.0</td>\n",
       "      <td>19.0</td>\n",
       "      <td>0</td>\n",
       "      <td>0</td>\n",
       "      <td>0</td>\n",
       "      <td>0</td>\n",
       "      <td>1</td>\n",
       "      <td>...</td>\n",
       "      <td>1</td>\n",
       "      <td>0</td>\n",
       "      <td>1</td>\n",
       "      <td>0</td>\n",
       "      <td>0</td>\n",
       "      <td>0</td>\n",
       "      <td>1</td>\n",
       "      <td>0</td>\n",
       "      <td>0</td>\n",
       "      <td>0</td>\n",
       "    </tr>\n",
       "    <tr>\n",
       "      <th>529131</th>\n",
       "      <td>31.0</td>\n",
       "      <td>31.000000</td>\n",
       "      <td>1</td>\n",
       "      <td>0.0</td>\n",
       "      <td>6.0</td>\n",
       "      <td>0</td>\n",
       "      <td>0</td>\n",
       "      <td>0</td>\n",
       "      <td>0</td>\n",
       "      <td>0</td>\n",
       "      <td>...</td>\n",
       "      <td>1</td>\n",
       "      <td>1</td>\n",
       "      <td>0</td>\n",
       "      <td>0</td>\n",
       "      <td>0</td>\n",
       "      <td>0</td>\n",
       "      <td>1</td>\n",
       "      <td>0</td>\n",
       "      <td>0</td>\n",
       "      <td>0</td>\n",
       "    </tr>\n",
       "  </tbody>\n",
       "</table>\n",
       "<p>505704 rows × 39 columns</p>\n",
       "</div>"
      ],
      "text/plain": [
       "        tot_tenure  avg_tenure  target  int_count  skill_count  1-10  10001+  \\\n",
       "0              0.0    0.000000       0        0.0          0.0     0       0   \n",
       "1              0.0    0.000000       0        0.0          8.0     0       0   \n",
       "2              0.0    0.000000       0        0.0          0.0     0       0   \n",
       "3              0.0    0.000000       0        0.0          6.0     0       0   \n",
       "4              0.0    0.000000       0        0.0          3.0     0       1   \n",
       "...            ...         ...     ...        ...          ...   ...     ...   \n",
       "529127      3016.0  430.857143       1       10.0         27.0     0       0   \n",
       "529128      2496.0  832.000000       1        0.0         27.0     0       0   \n",
       "529129      1312.0  218.666667       1       14.0         30.0     0       0   \n",
       "529130      1767.0  294.500000       1        0.0         19.0     0       0   \n",
       "529131        31.0   31.000000       1        0.0          6.0     0       0   \n",
       "\n",
       "        1001-5000  11-50  201-500  ...  none  N  Y  c  dir  mgr  no_title  \\\n",
       "0               0      0        0  ...     1  1  0  0    0    0         1   \n",
       "1               0      0        0  ...     1  1  0  0    0    0         1   \n",
       "2               0      0        0  ...     1  1  0  0    0    0         1   \n",
       "3               1      0        0  ...     1  0  1  0    0    0         1   \n",
       "4               0      0        0  ...     1  0  1  1    0    0         0   \n",
       "...           ...    ...      ...  ...   ... .. .. ..  ...  ...       ...   \n",
       "529127          0      0        0  ...     0  0  1  0    0    0         1   \n",
       "529128          0      0        0  ...     0  1  0  0    0    0         1   \n",
       "529129          0      0        0  ...     0  0  1  0    0    0         1   \n",
       "529130          0      0        1  ...     1  0  1  0    0    0         1   \n",
       "529131          0      0        0  ...     1  1  0  0    0    0         1   \n",
       "\n",
       "        owner  pres  vp  \n",
       "0           0     0   0  \n",
       "1           0     0   0  \n",
       "2           0     0   0  \n",
       "3           0     0   0  \n",
       "4           0     0   0  \n",
       "...       ...   ...  ..  \n",
       "529127      0     0   0  \n",
       "529128      0     0   0  \n",
       "529129      0     0   0  \n",
       "529130      0     0   0  \n",
       "529131      0     0   0  \n",
       "\n",
       "[505704 rows x 39 columns]"
      ]
     },
     "execution_count": 6,
     "metadata": {},
     "output_type": "execute_result"
    }
   ],
   "source": [
    "data"
   ]
  },
  {
   "cell_type": "code",
   "execution_count": 7,
   "id": "ee329b9c-7059-428d-8369-f6a5a847490b",
   "metadata": {},
   "outputs": [],
   "source": [
    "train, test = train_test_split(data, test_size=0.2)"
   ]
  },
  {
   "cell_type": "code",
   "execution_count": 8,
   "id": "d28fb289-d34a-4de3-920d-ccb224c55872",
   "metadata": {},
   "outputs": [],
   "source": [
    "target = 'target'"
   ]
  },
  {
   "cell_type": "code",
   "execution_count": 9,
   "id": "737d6c66-e3b1-44e8-a9c1-be58588139e5",
   "metadata": {},
   "outputs": [],
   "source": [
    "def modelfit(alg, dtrain, predictors, useTrainCV=True, cv_folds=5, early_stopping_rounds=50):\n",
    "    \n",
    "    if useTrainCV:\n",
    "        xgb_param = alg.get_xgb_params()\n",
    "        xgtrain = xgb.DMatrix(dtrain[predictors].values, label=dtrain[target].values)\n",
    "        cvresult = xgb.cv(xgb_param, xgtrain, num_boost_round=alg.get_params()['n_estimators'], nfold=cv_folds,\n",
    "            metrics='auc', early_stopping_rounds=early_stopping_rounds)\n",
    "        alg.set_params(n_estimators=cvresult.shape[0])\n",
    "    \n",
    "    #Fit the algorithm on the data\n",
    "    alg.fit(dtrain[predictors], dtrain[target],eval_metric='auc')\n",
    "        \n",
    "    #Predict training set:\n",
    "    dtrain_predictions = alg.predict(dtrain[predictors])\n",
    "    dtrain_predprob = alg.predict_proba(dtrain[predictors])[:,1]\n",
    "        \n",
    "    #Print model report:\n",
    "    print(\"\\nModel Report\")\n",
    "    print(\"Accuracy : %.4g\" % metrics.accuracy_score(dtrain[target].values, dtrain_predictions))\n",
    "    print(\"AUC Score : %f\" % metrics.roc_auc_score(dtrain[target], dtrain_predprob))\n",
    "                      \n",
    "    feat_imp = pd.Series(alg.get_booster().get_fscore()).sort_values(ascending=False)\n",
    "    feat_imp.plot(kind='bar', title='Feature Importances')\n",
    "    plt.ylabel('Feature Importance Score')\n",
    "    \n",
    "    cm = confusion_matrix(dtrain[target].values, dtrain_predictions)\n",
    "    disp = ConfusionMatrixDisplay(confusion_matrix=cm, display_labels=alg.classes_)\n",
    "    disp.plot()\n",
    "    plt.show()"
   ]
  },
  {
   "cell_type": "code",
   "execution_count": 10,
   "id": "30f868db-2dbf-40d6-b9ed-39d989256502",
   "metadata": {},
   "outputs": [],
   "source": [
    "#Choose all predictors except target column\n",
    "predictors = [x for x in train.columns if x not in [target]]"
   ]
  },
  {
   "cell_type": "code",
   "execution_count": 11,
   "id": "f5caaf33-ffe0-491c-9e3f-348226c128fe",
   "metadata": {},
   "outputs": [
    {
     "name": "stdout",
     "output_type": "stream",
     "text": [
      "\n",
      "Model Report\n",
      "Accuracy : 0.7287\n",
      "AUC Score : 0.712704\n"
     ]
    },
    {
     "data": {
      "image/png": "[encoded data removed]",
      "text/plain": [
       "<Figure size 864x288 with 1 Axes>"
      ]
     },
     "metadata": {
      "needs_background": "light"
     },
     "output_type": "display_data"
    },
    {
     "data": {
      "image/png": "[encoded data removed]",
      "text/plain": [
       "<Figure size 864x288 with 2 Axes>"
      ]
     },
     "metadata": {
      "needs_background": "light"
     },
     "output_type": "display_data"
    }
   ],
   "source": [
    "xgb1 = XGBClassifier(\n",
    " learning_rate =0.1,\n",
    " n_estimators=1000,\n",
    " max_depth=5,\n",
    " min_child_weight=1,\n",
    " gamma=0,\n",
    " subsample=0.8,\n",
    " colsample_bytree=0.8,\n",
    " objective= 'binary:logistic',\n",
    " nthread=4,\n",
    " scale_pos_weight=1,\n",
    " seed=27,\n",
    " use_label_encoder=False)\n",
    "\n",
    "modelfit(xgb1, train, predictors)"
   ]
  },
  {
   "cell_type": "code",
   "execution_count": 12,
   "id": "3a2274d1-1134-4f30-bd42-cd55eb1a3b68",
   "metadata": {},
   "outputs": [
    {
     "data": {
      "text/plain": [
       "({'mean_fit_time': array([ 41.90687814,  41.12707615,  41.08014379,  69.84875379,\n",
       "          72.35056581,  71.65345149, 103.80563593, 103.84950633,\n",
       "         102.30070076, 139.531637  , 135.68839726, 119.35269341]),\n",
       "  'std_fit_time': array([ 0.34734659,  0.43391931,  0.14844486,  1.20787169,  0.44689427,\n",
       "          0.45819624,  0.38066656,  0.42521553,  1.08342895,  0.22665694,\n",
       "          0.53398303, 16.04692456]),\n",
       "  'mean_score_time': array([0.19080467, 0.18825836, 0.2013166 , 0.28229723, 0.26681051,\n",
       "         0.28900795, 0.37634821, 0.39573193, 0.37664824, 0.52224922,\n",
       "         0.48721271, 0.35456982]),\n",
       "  'std_score_time': array([0.0041203 , 0.01072635, 0.01388307, 0.01623376, 0.01478658,\n",
       "         0.03173419, 0.0382433 , 0.0476788 , 0.02603302, 0.06221143,\n",
       "         0.02277292, 0.14531146]),\n",
       "  'param_max_depth': masked_array(data=[3, 3, 3, 5, 5, 5, 7, 7, 7, 9, 9, 9],\n",
       "               mask=[False, False, False, False, False, False, False, False,\n",
       "                     False, False, False, False],\n",
       "         fill_value='?',\n",
       "              dtype=object),\n",
       "  'param_min_child_weight': masked_array(data=[1, 3, 5, 1, 3, 5, 1, 3, 5, 1, 3, 5],\n",
       "               mask=[False, False, False, False, False, False, False, False,\n",
       "                     False, False, False, False],\n",
       "         fill_value='?',\n",
       "              dtype=object),\n",
       "  'params': [{'max_depth': 3, 'min_child_weight': 1},\n",
       "   {'max_depth': 3, 'min_child_weight': 3},\n",
       "   {'max_depth': 3, 'min_child_weight': 5},\n",
       "   {'max_depth': 5, 'min_child_weight': 1},\n",
       "   {'max_depth': 5, 'min_child_weight': 3},\n",
       "   {'max_depth': 5, 'min_child_weight': 5},\n",
       "   {'max_depth': 7, 'min_child_weight': 1},\n",
       "   {'max_depth': 7, 'min_child_weight': 3},\n",
       "   {'max_depth': 7, 'min_child_weight': 5},\n",
       "   {'max_depth': 9, 'min_child_weight': 1},\n",
       "   {'max_depth': 9, 'min_child_weight': 3},\n",
       "   {'max_depth': 9, 'min_child_weight': 5}],\n",
       "  'split0_test_score': array([0.70019454, 0.70017196, 0.70004928, 0.70272707, 0.70251745,\n",
       "         0.70257741, 0.70207129, 0.70188413, 0.70209721, 0.69966628,\n",
       "         0.69982783, 0.70026636]),\n",
       "  'split1_test_score': array([0.70257317, 0.70258304, 0.70253516, 0.70572286, 0.70565726,\n",
       "         0.70560856, 0.70513077, 0.70490526, 0.70505141, 0.70324711,\n",
       "         0.70365786, 0.70400389]),\n",
       "  'split2_test_score': array([0.70040507, 0.70040942, 0.70042887, 0.70268873, 0.70298299,\n",
       "         0.70316648, 0.70246461, 0.70262141, 0.70215137, 0.70049746,\n",
       "         0.70010373, 0.7004552 ]),\n",
       "  'split3_test_score': array([0.69826356, 0.69834294, 0.69833799, 0.70061529, 0.70043961,\n",
       "         0.70066668, 0.69985594, 0.700339  , 0.70034414, 0.69699863,\n",
       "         0.69826071, 0.69834324]),\n",
       "  'split4_test_score': array([0.7007446 , 0.70065796, 0.70067955, 0.70347351, 0.70339219,\n",
       "         0.70374383, 0.70337593, 0.70359448, 0.70376063, 0.70133269,\n",
       "         0.70199939, 0.70163429]),\n",
       "  'mean_test_score': array([0.70043619, 0.70043306, 0.70040617, 0.70304549, 0.7029979 ,\n",
       "         0.70315259, 0.70257971, 0.70266886, 0.70268095, 0.70034844,\n",
       "         0.7007699 , 0.7009406 ]),\n",
       "  'std_test_score': array([0.00137415, 0.00134984, 0.00134258, 0.00164232, 0.00167353,\n",
       "         0.00160575, 0.00172236, 0.00154302, 0.00160416, 0.00205328,\n",
       "         0.00186972, 0.00186019]),\n",
       "  'rank_test_score': array([ 9, 10, 11,  2,  3,  1,  6,  5,  4, 12,  8,  7], dtype=int32)},\n",
       " {'max_depth': 5, 'min_child_weight': 5},\n",
       " 0.7031525911164869)"
      ]
     },
     "execution_count": 12,
     "metadata": {},
     "output_type": "execute_result"
    }
   ],
   "source": [
    "#tune max_depth & min_child_weight\n",
    "param_test1 = {\n",
    " 'max_depth':range(3,10,2),\n",
    " 'min_child_weight':range(1,6,2)\n",
    "}\n",
    "gsearch1 = GridSearchCV(estimator = XGBClassifier(learning_rate =0.1, n_estimators=140, max_depth=5,\n",
    " min_child_weight=1, gamma=0, subsample=0.8, colsample_bytree=0.8,\n",
    " eval_metric='auc', nthread=4, scale_pos_weight=1, seed=27, use_label_encoder=False), \n",
    " param_grid = param_test1, scoring='roc_auc',n_jobs=4, cv=5)\n",
    "gsearch1.fit(train[predictors],train[target])\n",
    "gsearch1.cv_results_, gsearch1.best_params_, gsearch1.best_score_"
   ]
  },
  {
   "cell_type": "code",
   "execution_count": 13,
   "id": "5da37a1f-8ce1-407d-9b5d-3e131951acce",
   "metadata": {},
   "outputs": [
    {
     "data": {
      "text/plain": [
       "({'mean_fit_time': array([57.89628258, 57.73896222, 58.28188462, 72.26454692, 71.89422765,\n",
       "         71.90833101, 86.4635232 , 86.4816103 , 73.76234918]),\n",
       "  'std_fit_time': array([ 0.70418992,  0.46920543,  0.41675713,  0.54691737,  0.64344276,\n",
       "          0.81422827,  0.49535442,  0.41379052, 19.38873029]),\n",
       "  'mean_score_time': array([0.24275765, 0.23263965, 0.24009027, 0.28734384, 0.28516212,\n",
       "         0.2803339 , 0.31899314, 0.32220206, 0.25442019]),\n",
       "  'std_score_time': array([0.01219029, 0.01212468, 0.02180658, 0.01712702, 0.0223491 ,\n",
       "         0.00999622, 0.00845525, 0.01435195, 0.11014182]),\n",
       "  'param_max_depth': masked_array(data=[4, 4, 4, 5, 5, 5, 6, 6, 6],\n",
       "               mask=[False, False, False, False, False, False, False, False,\n",
       "                     False],\n",
       "         fill_value='?',\n",
       "              dtype=object),\n",
       "  'param_min_child_weight': masked_array(data=[4, 5, 6, 4, 5, 6, 4, 5, 6],\n",
       "               mask=[False, False, False, False, False, False, False, False,\n",
       "                     False],\n",
       "         fill_value='?',\n",
       "              dtype=object),\n",
       "  'params': [{'max_depth': 4, 'min_child_weight': 4},\n",
       "   {'max_depth': 4, 'min_child_weight': 5},\n",
       "   {'max_depth': 4, 'min_child_weight': 6},\n",
       "   {'max_depth': 5, 'min_child_weight': 4},\n",
       "   {'max_depth': 5, 'min_child_weight': 5},\n",
       "   {'max_depth': 5, 'min_child_weight': 6},\n",
       "   {'max_depth': 6, 'min_child_weight': 4},\n",
       "   {'max_depth': 6, 'min_child_weight': 5},\n",
       "   {'max_depth': 6, 'min_child_weight': 6}],\n",
       "  'split0_test_score': array([0.70182101, 0.70192938, 0.7021543 , 0.70257663, 0.70257741,\n",
       "         0.70255462, 0.70184807, 0.70237849, 0.70268703]),\n",
       "  'split1_test_score': array([0.70455535, 0.70503746, 0.70484421, 0.70555494, 0.70560856,\n",
       "         0.70584617, 0.70574784, 0.70570538, 0.7059102 ]),\n",
       "  'split2_test_score': array([0.70262242, 0.70239785, 0.70255675, 0.70298808, 0.70316648,\n",
       "         0.70292278, 0.70307981, 0.70279489, 0.70290489]),\n",
       "  'split3_test_score': array([0.70005005, 0.70001352, 0.70014777, 0.70057321, 0.70066668,\n",
       "         0.70057684, 0.70058958, 0.70080731, 0.70045938]),\n",
       "  'split4_test_score': array([0.70240389, 0.7023084 , 0.70237136, 0.70327217, 0.70374383,\n",
       "         0.70361214, 0.70368611, 0.70389428, 0.70380764]),\n",
       "  'mean_test_score': array([0.70229054, 0.70233732, 0.70241488, 0.70299301, 0.70315259,\n",
       "         0.70310251, 0.70299028, 0.70311607, 0.70315383]),\n",
       "  'std_test_score': array([0.00144863, 0.00160386, 0.00149207, 0.00159187, 0.00160575,\n",
       "         0.00170287, 0.00174151, 0.00163019, 0.00176437]),\n",
       "  'rank_test_score': array([9, 8, 7, 5, 2, 4, 6, 3, 1], dtype=int32)},\n",
       " {'max_depth': 6, 'min_child_weight': 6},\n",
       " 0.703153828203867)"
      ]
     },
     "execution_count": 13,
     "metadata": {},
     "output_type": "execute_result"
    }
   ],
   "source": [
    "#tune max_depth & min_child_weight further\n",
    "param_test2 = {\n",
    " 'max_depth':[4,5,6],\n",
    " 'min_child_weight':[4,5,6]\n",
    "}\n",
    "gsearch2 = GridSearchCV(estimator = XGBClassifier( learning_rate=0.1, n_estimators=140, max_depth=5,\n",
    " min_child_weight=2, gamma=0, subsample=0.8, colsample_bytree=0.8,\n",
    " eval_metric='auc', nthread=4, scale_pos_weight=1,seed=27,use_label_encoder=False), \n",
    " param_grid = param_test2, scoring='roc_auc',n_jobs=4, cv=5)\n",
    "gsearch2.fit(train[predictors],train[target])\n",
    "gsearch2.cv_results_, gsearch2.best_params_, gsearch2.best_score_"
   ]
  },
  {
   "cell_type": "code",
   "execution_count": 14,
   "id": "995f4e56-481e-4693-af3b-a24eb8d4082a",
   "metadata": {},
   "outputs": [
    {
     "data": {
      "text/plain": [
       "({'mean_fit_time': array([72.29917836, 72.05822625, 71.94282088, 71.85956931, 61.45435071]),\n",
       "  'std_fit_time': array([ 0.47959298,  0.32266596,  0.51561038,  0.63592792, 21.50593697]),\n",
       "  'mean_score_time': array([0.28962564, 0.29703712, 0.29341803, 0.27952867, 0.21540017]),\n",
       "  'std_score_time': array([0.02142564, 0.02401606, 0.01396747, 0.03111163, 0.08869974]),\n",
       "  'param_gamma': masked_array(data=[0.0, 0.1, 0.2, 0.3, 0.4],\n",
       "               mask=[False, False, False, False, False],\n",
       "         fill_value='?',\n",
       "              dtype=object),\n",
       "  'params': [{'gamma': 0.0},\n",
       "   {'gamma': 0.1},\n",
       "   {'gamma': 0.2},\n",
       "   {'gamma': 0.3},\n",
       "   {'gamma': 0.4}],\n",
       "  'split0_test_score': array([0.70257741, 0.70260405, 0.70260137, 0.70248628, 0.70248647]),\n",
       "  'split1_test_score': array([0.70560856, 0.70570482, 0.7058228 , 0.70582271, 0.70581138]),\n",
       "  'split2_test_score': array([0.70316648, 0.70316644, 0.70313528, 0.70313682, 0.70309265]),\n",
       "  'split3_test_score': array([0.70066668, 0.70069041, 0.70069336, 0.70069352, 0.70069336]),\n",
       "  'split4_test_score': array([0.70374383, 0.70347998, 0.70353612, 0.7034798 , 0.70341324]),\n",
       "  'mean_test_score': array([0.70315259, 0.70312914, 0.70315779, 0.70312383, 0.70309942]),\n",
       "  'std_test_score': array([0.00160575, 0.00161132, 0.00165099, 0.00165673, 0.00165034]),\n",
       "  'rank_test_score': array([2, 3, 1, 4, 5], dtype=int32)},\n",
       " {'gamma': 0.2},\n",
       " 0.7031577861960757)"
      ]
     },
     "execution_count": 14,
     "metadata": {},
     "output_type": "execute_result"
    }
   ],
   "source": [
    "#Tune Gamma\n",
    "param_test3 = {\n",
    " 'gamma':[i/10.0 for i in range(0,5)]\n",
    "}\n",
    "gsearch3 = GridSearchCV(estimator = XGBClassifier( learning_rate =0.1, n_estimators=140, max_depth=5,\n",
    " min_child_weight=5, gamma=0, subsample=0.8, colsample_bytree=0.8,\n",
    " eval_metric='auc', nthread=4, scale_pos_weight=1,seed=27,use_label_encoder=False), \n",
    " param_grid = param_test3, scoring='roc_auc',n_jobs=4, cv=5)\n",
    "gsearch3.fit(train[predictors],train[target])\n",
    "gsearch3.cv_results_, gsearch3.best_params_, gsearch3.best_score_"
   ]
  },
  {
   "cell_type": "code",
   "execution_count": 15,
   "id": "af165970-4e0c-4389-88e2-8b9e72d73fd3",
   "metadata": {},
   "outputs": [
    {
     "data": {
      "text/plain": [
       "({'mean_fit_time': array([ 79.9328239 ,  77.75176935,  74.78057356,  72.19626408,\n",
       "          88.26568155,  85.82300777,  82.67502174,  79.30313826,\n",
       "          95.86820493,  93.379073  ,  90.42197571,  87.544872  ,\n",
       "         105.59501114, 108.90284333, 103.24469538,  95.18541436]),\n",
       "  'std_fit_time': array([0.38842372, 0.38319938, 0.71190831, 0.55389905, 0.41160951,\n",
       "         0.56329306, 0.67637259, 0.47135355, 0.73962801, 1.01944911,\n",
       "         1.02750848, 1.10416704, 0.5948138 , 3.70043472, 5.46994108,\n",
       "         0.93925995]),\n",
       "  'mean_score_time': array([0.34533615, 0.33720026, 0.31287465, 0.32959676, 0.32934823,\n",
       "         0.30599961, 0.31631603, 0.33836675, 0.37855492, 0.32927957,\n",
       "         0.35166097, 0.33222818, 0.34047699, 0.35174747, 0.32708116,\n",
       "         0.25036259]),\n",
       "  'std_score_time': array([0.05885476, 0.04439308, 0.02078844, 0.03284996, 0.03292259,\n",
       "         0.01456779, 0.01392091, 0.03047761, 0.0713391 , 0.01807264,\n",
       "         0.04030387, 0.0290302 , 0.03658319, 0.03011696, 0.00902269,\n",
       "         0.08622502]),\n",
       "  'param_colsample_bytree': masked_array(data=[0.6, 0.6, 0.6, 0.6, 0.7, 0.7, 0.7, 0.7, 0.8, 0.8, 0.8,\n",
       "                     0.8, 0.9, 0.9, 0.9, 0.9],\n",
       "               mask=[False, False, False, False, False, False, False, False,\n",
       "                     False, False, False, False, False, False, False, False],\n",
       "         fill_value='?',\n",
       "              dtype=object),\n",
       "  'param_subsample': masked_array(data=[0.6, 0.7, 0.8, 0.9, 0.6, 0.7, 0.8, 0.9, 0.6, 0.7, 0.8,\n",
       "                     0.9, 0.6, 0.7, 0.8, 0.9],\n",
       "               mask=[False, False, False, False, False, False, False, False,\n",
       "                     False, False, False, False, False, False, False, False],\n",
       "         fill_value='?',\n",
       "              dtype=object),\n",
       "  'params': [{'colsample_bytree': 0.6, 'subsample': 0.6},\n",
       "   {'colsample_bytree': 0.6, 'subsample': 0.7},\n",
       "   {'colsample_bytree': 0.6, 'subsample': 0.8},\n",
       "   {'colsample_bytree': 0.6, 'subsample': 0.9},\n",
       "   {'colsample_bytree': 0.7, 'subsample': 0.6},\n",
       "   {'colsample_bytree': 0.7, 'subsample': 0.7},\n",
       "   {'colsample_bytree': 0.7, 'subsample': 0.8},\n",
       "   {'colsample_bytree': 0.7, 'subsample': 0.9},\n",
       "   {'colsample_bytree': 0.8, 'subsample': 0.6},\n",
       "   {'colsample_bytree': 0.8, 'subsample': 0.7},\n",
       "   {'colsample_bytree': 0.8, 'subsample': 0.8},\n",
       "   {'colsample_bytree': 0.8, 'subsample': 0.9},\n",
       "   {'colsample_bytree': 0.9, 'subsample': 0.6},\n",
       "   {'colsample_bytree': 0.9, 'subsample': 0.7},\n",
       "   {'colsample_bytree': 0.9, 'subsample': 0.8},\n",
       "   {'colsample_bytree': 0.9, 'subsample': 0.9}],\n",
       "  'split0_test_score': array([0.70277463, 0.70270132, 0.703208  , 0.70296261, 0.70218801,\n",
       "         0.7027776 , 0.70277989, 0.70244125, 0.70242083, 0.70282635,\n",
       "         0.70264058, 0.70267589, 0.70260335, 0.702459  , 0.70261778,\n",
       "         0.70252877]),\n",
       "  'split1_test_score': array([0.70553688, 0.70587404, 0.70592571, 0.7059295 , 0.70574529,\n",
       "         0.70592528, 0.70623627, 0.70619245, 0.70574455, 0.70605106,\n",
       "         0.70580902, 0.70585141, 0.70592418, 0.70567116, 0.70605024,\n",
       "         0.70605513]),\n",
       "  'split2_test_score': array([0.70289073, 0.70295729, 0.703017  , 0.7032088 , 0.70311979,\n",
       "         0.70307284, 0.7030605 , 0.70296448, 0.70342163, 0.70308992,\n",
       "         0.70341375, 0.70315188, 0.70274932, 0.70299517, 0.7027753 ,\n",
       "         0.70297589]),\n",
       "  'split3_test_score': array([0.70071885, 0.70088968, 0.70094745, 0.70080152, 0.7005278 ,\n",
       "         0.70072284, 0.70125361, 0.70093858, 0.70088917, 0.70093036,\n",
       "         0.70080687, 0.70077301, 0.7009967 , 0.70100283, 0.7008337 ,\n",
       "         0.70093449]),\n",
       "  'split4_test_score': array([0.70387575, 0.70377993, 0.70384914, 0.70397067, 0.70389801,\n",
       "         0.70402244, 0.70388941, 0.70362902, 0.70340442, 0.70377109,\n",
       "         0.7039303 , 0.70373764, 0.70328525, 0.7041464 , 0.7036782 ,\n",
       "         0.70358066]),\n",
       "  'mean_test_score': array([0.70315937, 0.70324045, 0.70338946, 0.70337462, 0.70309578,\n",
       "         0.7033042 , 0.70344394, 0.70323316, 0.70317612, 0.70333376,\n",
       "         0.7033201 , 0.70323796, 0.70311176, 0.70325491, 0.70319105,\n",
       "         0.70321499]),\n",
       "  'std_test_score': array([0.00157112, 0.00162011, 0.00159868, 0.00165534, 0.00173681,\n",
       "         0.00169589, 0.00163592, 0.00172502, 0.00158176, 0.00165337,\n",
       "         0.00163425, 0.00164189, 0.00160019, 0.00157517, 0.00170123,\n",
       "         0.00166906]),\n",
       "  'rank_test_score': array([14,  8,  2,  3, 16,  6,  1, 10, 13,  4,  5,  9, 15,  7, 12, 11],\n",
       "        dtype=int32)},\n",
       " {'colsample_bytree': 0.7, 'subsample': 0.8},\n",
       " 0.7034439369011838)"
      ]
     },
     "execution_count": 15,
     "metadata": {},
     "output_type": "execute_result"
    }
   ],
   "source": [
    "#Tune subsample & colsample_bytree\n",
    "param_test4 = {\n",
    " 'subsample':[i/10.0 for i in range(6,10)],\n",
    " 'colsample_bytree':[i/10.0 for i in range(6,10)]\n",
    "}\n",
    "gsearch4 = GridSearchCV(estimator = XGBClassifier( learning_rate =0.1, n_estimators=177, max_depth=5,\n",
    " min_child_weight=5, gamma=0, subsample=0.8, colsample_bytree=0.8,\n",
    " eval_metric='auc', nthread=4, scale_pos_weight=1,seed=27,use_label_encoder=False), \n",
    " param_grid = param_test4, scoring='roc_auc',n_jobs=4, cv=5)\n",
    "gsearch4.fit(train[predictors],train[target])\n",
    "gsearch4.cv_results_, gsearch4.best_params_, gsearch4.best_score_"
   ]
  },
  {
   "cell_type": "code",
   "execution_count": 16,
   "id": "99613ac1-5044-488b-b1da-029d460d061f",
   "metadata": {},
   "outputs": [
    {
     "data": {
      "text/plain": [
       "({'mean_fit_time': array([69.06532545, 67.98687243, 66.75075054, 73.45272098, 72.42032795,\n",
       "         70.71499271, 76.48931832, 75.54135637, 63.49396968]),\n",
       "  'std_fit_time': array([ 0.25954789,  0.94239449,  0.80282117,  0.31818487,  1.02033305,\n",
       "          0.36148015,  1.49347991,  1.11044932, 19.6305529 ]),\n",
       "  'mean_score_time': array([0.3181736 , 0.33480844, 0.31986642, 0.32941389, 0.32505622,\n",
       "         0.32083678, 0.33853836, 0.34248042, 0.2341217 ]),\n",
       "  'std_score_time': array([0.01050584, 0.01842953, 0.02054805, 0.02075655, 0.01180158,\n",
       "         0.01769493, 0.03385829, 0.02715014, 0.10091544]),\n",
       "  'param_colsample_bytree': masked_array(data=[0.55, 0.55, 0.55, 0.6, 0.6, 0.6, 0.65, 0.65, 0.65],\n",
       "               mask=[False, False, False, False, False, False, False, False,\n",
       "                     False],\n",
       "         fill_value='?',\n",
       "              dtype=object),\n",
       "  'param_subsample': masked_array(data=[0.85, 0.9, 0.95, 0.85, 0.9, 0.95, 0.85, 0.9, 0.95],\n",
       "               mask=[False, False, False, False, False, False, False, False,\n",
       "                     False],\n",
       "         fill_value='?',\n",
       "              dtype=object),\n",
       "  'params': [{'colsample_bytree': 0.55, 'subsample': 0.85},\n",
       "   {'colsample_bytree': 0.55, 'subsample': 0.9},\n",
       "   {'colsample_bytree': 0.55, 'subsample': 0.95},\n",
       "   {'colsample_bytree': 0.6, 'subsample': 0.85},\n",
       "   {'colsample_bytree': 0.6, 'subsample': 0.9},\n",
       "   {'colsample_bytree': 0.6, 'subsample': 0.95},\n",
       "   {'colsample_bytree': 0.65, 'subsample': 0.85},\n",
       "   {'colsample_bytree': 0.65, 'subsample': 0.9},\n",
       "   {'colsample_bytree': 0.65, 'subsample': 0.95}],\n",
       "  'split0_test_score': array([0.70299641, 0.70279369, 0.7024762 , 0.70311373, 0.70296261,\n",
       "         0.70275648, 0.70268943, 0.70265546, 0.70252588]),\n",
       "  'split1_test_score': array([0.70600425, 0.70575442, 0.70601701, 0.70585758, 0.7059295 ,\n",
       "         0.70573118, 0.70635718, 0.70612304, 0.705956  ]),\n",
       "  'split2_test_score': array([0.70312799, 0.70331057, 0.70329343, 0.70294512, 0.7032088 ,\n",
       "         0.70327095, 0.70329937, 0.70303673, 0.70300688]),\n",
       "  'split3_test_score': array([0.70118696, 0.70129143, 0.70136764, 0.701126  , 0.70080152,\n",
       "         0.70100113, 0.70110347, 0.70105102, 0.7008979 ]),\n",
       "  'split4_test_score': array([0.70433958, 0.70410243, 0.70396111, 0.70385855, 0.70397067,\n",
       "         0.70387922, 0.70384601, 0.70389454, 0.7037422 ]),\n",
       "  'mean_test_score': array([0.70353104, 0.70345051, 0.70342308, 0.70338019, 0.70337462,\n",
       "         0.70332779, 0.70345909, 0.70335216, 0.70322577]),\n",
       "  'std_test_score': array([0.00159459, 0.0014728 , 0.00155924, 0.00153023, 0.00165534,\n",
       "         0.00153775, 0.00171554, 0.00166446, 0.00165394]),\n",
       "  'rank_test_score': array([1, 3, 4, 5, 6, 8, 2, 7, 9], dtype=int32)},\n",
       " {'colsample_bytree': 0.55, 'subsample': 0.85},\n",
       " 0.7035310361955611)"
      ]
     },
     "execution_count": 16,
     "metadata": {},
     "output_type": "execute_result"
    }
   ],
   "source": [
    "#Further tunning on subsample and colsample_bytree\n",
    "param_test5 = {\n",
    " 'subsample':[i/100.0 for i in range(85,100,5)],\n",
    " 'colsample_bytree':[i/100.0 for i in range(55,70,5)]\n",
    "}\n",
    "gsearch5 = GridSearchCV(estimator = XGBClassifier( learning_rate =0.1, n_estimators=177, max_depth=5,\n",
    " min_child_weight=5, gamma=0, subsample=0.9, colsample_bytree=0.6,\n",
    " eval_metric='auc', nthread=4, scale_pos_weight=1,seed=27,use_label_encoder=False), \n",
    " param_grid = param_test5, scoring='roc_auc',n_jobs=4, cv=5)\n",
    "gsearch5.fit(train[predictors],train[target])\n",
    "gsearch5.cv_results_, gsearch5.best_params_, gsearch5.best_score_"
   ]
  },
  {
   "cell_type": "code",
   "execution_count": 17,
   "id": "6b840033-44cf-412c-8ccd-5167c7028ba2",
   "metadata": {},
   "outputs": [
    {
     "data": {
      "text/plain": [
       "GridSearchCV(cv=5,\n",
       "             estimator=XGBClassifier(base_score=None, booster=None,\n",
       "                                     colsample_bylevel=None,\n",
       "                                     colsample_bynode=None,\n",
       "                                     colsample_bytree=0.55,\n",
       "                                     enable_categorical=False,\n",
       "                                     eval_metric='auc', gamma=0, gpu_id=None,\n",
       "                                     importance_type=None,\n",
       "                                     interaction_constraints=None,\n",
       "                                     learning_rate=0.1, max_delta_step=None,\n",
       "                                     max_depth=5, min_child_weight=5,\n",
       "                                     missing=nan, monotone_constraints=None,\n",
       "                                     n_estimators=177, n_jobs=None, nthread=4,\n",
       "                                     num_parallel_tree=None, predictor=None,\n",
       "                                     random_state=None, reg_alpha=None,\n",
       "                                     reg_lambda=None, scale_pos_weight=1,\n",
       "                                     seed=27, subsample=0.9, tree_method=None,\n",
       "                                     use_label_encoder=False, ...),\n",
       "             n_jobs=4, param_grid={'reg_alpha': [1e-05, 0.01, 0.1, 1, 100]},\n",
       "             scoring='roc_auc')"
      ]
     },
     "execution_count": 17,
     "metadata": {},
     "output_type": "execute_result"
    }
   ],
   "source": [
    "#Tune Regularization Parameters\n",
    "param_test6 = {\n",
    " 'reg_alpha':[1e-5, 1e-2, 0.1, 1, 100]\n",
    "}\n",
    "gsearch6 = GridSearchCV(estimator = XGBClassifier( learning_rate =0.1, n_estimators=177, max_depth=5,\n",
    " min_child_weight=5, gamma=0, subsample=0.9, colsample_bytree=0.55,\n",
    " eval_metric='auc', nthread=4, scale_pos_weight=1,seed=27,use_label_encoder=False), \n",
    " param_grid = param_test6, scoring='roc_auc',n_jobs=4, cv=5)\n",
    "gsearch6.fit(train[predictors],train[target])\n"
   ]
  },
  {
   "cell_type": "code",
   "execution_count": 18,
   "id": "09ae17ce-3af6-44b5-8996-1f57e0834db8",
   "metadata": {},
   "outputs": [
    {
     "data": {
      "text/plain": [
       "({'mean_fit_time': array([68.09041672, 68.73425317, 68.96486216, 68.58434262, 57.72099333]),\n",
       "  'std_fit_time': array([ 0.38389101,  0.56832872,  0.64586048,  0.87752792, 19.89571268]),\n",
       "  'mean_score_time': array([0.32043781, 0.32297268, 0.34166746, 0.34356766, 0.25794358]),\n",
       "  'std_score_time': array([0.01293542, 0.02069391, 0.03368471, 0.01778976, 0.08618178]),\n",
       "  'param_reg_alpha': masked_array(data=[1e-05, 0.01, 0.1, 1, 100],\n",
       "               mask=[False, False, False, False, False],\n",
       "         fill_value='?',\n",
       "              dtype=object),\n",
       "  'params': [{'reg_alpha': 1e-05},\n",
       "   {'reg_alpha': 0.01},\n",
       "   {'reg_alpha': 0.1},\n",
       "   {'reg_alpha': 1},\n",
       "   {'reg_alpha': 100}],\n",
       "  'split0_test_score': array([0.7027937 , 0.70315278, 0.70308583, 0.70306513, 0.70163049]),\n",
       "  'split1_test_score': array([0.70575442, 0.70589806, 0.70573813, 0.70597994, 0.70503624]),\n",
       "  'split2_test_score': array([0.70331056, 0.70298859, 0.70295683, 0.70335161, 0.70198904]),\n",
       "  'split3_test_score': array([0.70129143, 0.70139695, 0.70139783, 0.7013505 , 0.70014817]),\n",
       "  'split4_test_score': array([0.70410244, 0.70412303, 0.70425561, 0.70425891, 0.70252529]),\n",
       "  'mean_test_score': array([0.70345051, 0.70351188, 0.70348685, 0.70360121, 0.70226585]),\n",
       "  'std_test_score': array([0.00147279, 0.0014794 , 0.00144672, 0.00151699, 0.00159419]),\n",
       "  'rank_test_score': array([4, 2, 3, 1, 5], dtype=int32)},\n",
       " {'reg_alpha': 1},\n",
       " 0.7036012138599774)"
      ]
     },
     "execution_count": 18,
     "metadata": {},
     "output_type": "execute_result"
    }
   ],
   "source": [
    "gsearch6.cv_results_, gsearch6.best_params_, gsearch6.best_score_"
   ]
  },
  {
   "cell_type": "code",
   "execution_count": 19,
   "id": "eea4cd9d-cba5-4dd9-817b-a645a5d36560",
   "metadata": {},
   "outputs": [
    {
     "name": "stdout",
     "output_type": "stream",
     "text": [
      "\n",
      "Model Report\n",
      "Accuracy : 0.7269\n",
      "AUC Score : 0.707564\n"
     ]
    },
    {
     "data": {
      "image/png": "[encoded data removed]",
      "text/plain": [
       "<Figure size 864x288 with 1 Axes>"
      ]
     },
     "metadata": {
      "needs_background": "light"
     },
     "output_type": "display_data"
    },
    {
     "data": {
      "image/png": "[encoded data removed]",
      "text/plain": [
       "<Figure size 864x288 with 2 Axes>"
      ]
     },
     "metadata": {
      "needs_background": "light"
     },
     "output_type": "display_data"
    }
   ],
   "source": [
    "#Now we have optimal hyper-parameters, lower the learning rate and add more trees\n",
    "xgb3 = XGBClassifier(\n",
    " learning_rate =0.01,\n",
    " n_estimators=1000,\n",
    " max_depth=5,\n",
    " min_child_weight=5,\n",
    " gamma=0,\n",
    " subsample=0.95,\n",
    " colsample_bytree=0.5,\n",
    " reg_alpha=1e-05,\n",
    " eval_metric='auc',\n",
    " nthread=4,\n",
    " scale_pos_weight=1,\n",
    " seed=27,\n",
    " use_label_encoder=False)\n",
    "modelfit(xgb3, train, predictors)"
   ]
  },
  {
   "cell_type": "markdown",
   "id": "cff49b60-146a-4fdb-97b3-70ed6bf111b2",
   "metadata": {},
   "source": [
    "#Try with model that use aucpr as the loss function\n",
    "def modelfit2(alg, dtrain, predictors, useTrainCV=True, cv_folds=5, early_stopping_rounds=50):\n",
    "    \n",
    "    if useTrainCV:\n",
    "        xgb_param = alg.get_xgb_params()\n",
    "        xgtrain = xgb.DMatrix(dtrain[predictors].values, label=dtrain[target].values)\n",
    "        cvresult = xgb.cv(xgb_param, xgtrain, num_boost_round=alg.get_params()['n_estimators'], nfold=cv_folds,\n",
    "            metrics='aucpr', early_stopping_rounds=early_stopping_rounds)\n",
    "        alg.set_params(n_estimators=cvresult.shape[0])\n",
    "    \n",
    "    #Fit the algorithm on the data\n",
    "    alg.fit(dtrain[predictors], dtrain[target],eval_metric='auc')\n",
    "        \n",
    "    #Predict training set:\n",
    "    dtrain_predictions = alg.predict(dtrain[predictors])\n",
    "    dtrain_predprob = alg.predict_proba(dtrain[predictors])[:,1]\n",
    "        \n",
    "    #Print model report:\n",
    "    print(\"\\nModel Report\")\n",
    "    print(\"Accuracy : %.4g\" % metrics.accuracy_score(dtrain[target].values, dtrain_predictions))\n",
    "    print(\"AUC Score : %f\" % metrics.roc_auc_score(dtrain[target], dtrain_predprob))\n",
    "\n",
    "    feat_imp = pd.Series(alg.get_booster().get_fscore()).sort_values(ascending=False)\n",
    "    feat_imp.plot(kind='bar', title='Feature Importances')\n",
    "    plt.ylabel('Feature Importance Score')\n",
    "    \n",
    "    cm = confusion_matrix(dtrain[target].values, dtrain_predictions)\n",
    "    disp = ConfusionMatrixDisplay(confusion_matrix=cm, display_labels=alg.classes_)\n",
    "    disp.plot()\n",
    "    plt.show()\n",
    "    \n",
    "\n",
    "xgb5 = XGBClassifier(\n",
    " learning_rate =0.01,\n",
    " n_estimators=5000,\n",
    " max_depth=6,\n",
    " min_child_weight=5,\n",
    " gamma=0.4,\n",
    " subsample=0.95,\n",
    " colsample_bytree=0.55,\n",
    " reg_alpha=1e-05,\n",
    " objective= 'binary:logistic',\n",
    " nthread=4,\n",
    " scale_pos_weight=1,\n",
    " seed=27)\n",
    "\n",
    "modelfit2(xgb5, train, predictors)"
   ]
  },
  {
   "cell_type": "code",
   "execution_count": 20,
   "id": "43697c13-52cf-4fd4-afe3-dafc7075a008",
   "metadata": {},
   "outputs": [
    {
     "name": "stdout",
     "output_type": "stream",
     "text": [
      "\n",
      "Model Report\n",
      "Accuracy : 0.68\n",
      "AUC Score : 0.707808\n"
     ]
    },
    {
     "data": {
      "image/png": "[encoded data removed]",
      "text/plain": [
       "<Figure size 864x288 with 1 Axes>"
      ]
     },
     "metadata": {
      "needs_background": "light"
     },
     "output_type": "display_data"
    },
    {
     "data": {
      "image/png": "[encoded data removed]",
      "text/plain": [
       "<Figure size 864x288 with 2 Axes>"
      ]
     },
     "metadata": {
      "needs_background": "light"
     },
     "output_type": "display_data"
    }
   ],
   "source": [
    "#Try higher scale_pos_weight, others holding constant\n",
    "xgb4 = XGBClassifier(\n",
    " learning_rate =0.01,\n",
    " n_estimators=1000,\n",
    " max_depth=5,\n",
    " min_child_weight=5,\n",
    " gamma=0,\n",
    " subsample=0.95,\n",
    " colsample_bytree=0.5,\n",
    " reg_alpha=1e-05,\n",
    " eval_metric='auc',\n",
    " nthread=4,\n",
    " scale_pos_weight=2,\n",
    " seed=27,\n",
    " use_label_encoder=False)\n",
    "\n",
    "modelfit(xgb4, train, predictors)"
   ]
  },
  {
   "cell_type": "code",
   "execution_count": 21,
   "id": "240ae8fe-1141-4302-bd7a-51d9f7160cc7",
   "metadata": {},
   "outputs": [
    {
     "name": "stdout",
     "output_type": "stream",
     "text": [
      "Accuracy(Test) : 0.7253\n",
      "AUC Score (Test): 0.699674\n"
     ]
    }
   ],
   "source": [
    "#Apply the final model to the test dataset\n",
    "y_pred = xgb3.predict(test[predictors])\n",
    "y_prob = xgb3.predict_proba(test[predictors])[:,1]\n",
    "\n",
    "print(\"Accuracy(Test) : %.4g\" % metrics.accuracy_score(test[target].values, y_pred))\n",
    "print(\"AUC Score (Test): %f\" % metrics.roc_auc_score(test[target], y_prob))"
   ]
  },
  {
   "cell_type": "code",
   "execution_count": 22,
   "id": "47c300f5-f90c-4523-9064-8124e8dd57bc",
   "metadata": {},
   "outputs": [],
   "source": [
    "X = data[predictors]\n",
    "y = data[target]\n",
    "\n",
    "from sklearn.model_selection import train_test_split\n",
    "\n",
    "X_train,X_test,y_train,y_test=train_test_split(X,y,test_size=0.25,random_state=0)"
   ]
  },
  {
   "cell_type": "code",
   "execution_count": 23,
   "id": "790d88ad-b1fd-48b3-b23f-b03485eea2b8",
   "metadata": {},
   "outputs": [
    {
     "name": "stderr",
     "output_type": "stream",
     "text": [
      "/home/chaoz_26/anaconda3/lib/python3.9/site-packages/sklearn/linear_model/_logistic.py:814: ConvergenceWarning: lbfgs failed to converge (status=1):\n",
      "STOP: TOTAL NO. of ITERATIONS REACHED LIMIT.\n",
      "\n",
      "Increase the number of iterations (max_iter) or scale the data as shown in:\n",
      "    https://scikit-learn.org/stable/modules/preprocessing.html\n",
      "Please also refer to the documentation for alternative solver options:\n",
      "    https://scikit-learn.org/stable/modules/linear_model.html#logistic-regression\n",
      "  n_iter_i = _check_optimize_result(\n"
     ]
    }
   ],
   "source": [
    "from sklearn.linear_model import LogisticRegression\n",
    "\n",
    "logreg = LogisticRegression()\n",
    "\n",
    "logreg.fit(X_train,y_train)\n",
    "\n",
    "y_pred=logreg.predict(X_test)"
   ]
  },
  {
   "cell_type": "code",
   "execution_count": 24,
   "id": "bcef03e8-2b77-44e7-a7fc-d4aff41ee28d",
   "metadata": {},
   "outputs": [
    {
     "data": {
      "text/plain": [
       "array([[88509,  1182],\n",
       "       [35771,   964]])"
      ]
     },
     "execution_count": 24,
     "metadata": {},
     "output_type": "execute_result"
    }
   ],
   "source": [
    "from sklearn import metrics\n",
    "cnf_matrix = metrics.confusion_matrix(y_test, y_pred)\n",
    "cnf_matrix"
   ]
  },
  {
   "cell_type": "code",
   "execution_count": 25,
   "id": "b9e222dd-e0eb-4e0d-b3aa-c72e3ce8deab",
   "metadata": {},
   "outputs": [
    {
     "data": {
      "text/plain": [
       "Text(0.5, 257.44, 'Predicted label')"
      ]
     },
     "execution_count": 25,
     "metadata": {},
     "output_type": "execute_result"
    },
    {
     "data": {
      "image/png": "[encoded data removed]",
      "text/plain": [
       "<Figure size 432x288 with 2 Axes>"
      ]
     },
     "metadata": {
      "needs_background": "light"
     },
     "output_type": "display_data"
    }
   ],
   "source": [
    "import seaborn as sns\n",
    "%matplotlib inline\n",
    "\n",
    "\n",
    "class_names=[0,1] # name  of classes\n",
    "fig, ax = plt.subplots()\n",
    "tick_marks = np.arange(len(class_names))\n",
    "plt.xticks(tick_marks, class_names)\n",
    "plt.yticks(tick_marks, class_names)\n",
    "# create heatmap\n",
    "sns.heatmap(pd.DataFrame(cnf_matrix), annot=True, cmap=\"YlGnBu\" ,fmt='g')\n",
    "ax.xaxis.set_label_position(\"top\")\n",
    "plt.tight_layout()\n",
    "plt.title('Confusion matrix', y=1.1)\n",
    "plt.ylabel('Actual label')\n",
    "plt.xlabel('Predicted label')"
   ]
  },
  {
   "cell_type": "code",
   "execution_count": 26,
   "id": "64a56dc6-1982-4220-b89a-d33d67250053",
   "metadata": {},
   "outputs": [
    {
     "name": "stdout",
     "output_type": "stream",
     "text": [
      "Accuracy: 0.7077104393083701\n",
      "Precision: 0.44920782851817337\n",
      "Recall: 0.026242003538859398\n"
     ]
    }
   ],
   "source": [
    "print(\"Accuracy:\",metrics.accuracy_score(y_test, y_pred))\n",
    "print(\"Precision:\",metrics.precision_score(y_test, y_pred))\n",
    "print(\"Recall:\",metrics.recall_score(y_test, y_pred))"
   ]
  },
  {
   "cell_type": "code",
   "execution_count": 27,
   "id": "35a45962-d589-411a-a405-9d6a9f0cf0b2",
   "metadata": {},
   "outputs": [
    {
     "data": {
      "image/png": "[encoded data removed]",
      "text/plain": [
       "<Figure size 432x288 with 1 Axes>"
      ]
     },
     "metadata": {
      "needs_background": "light"
     },
     "output_type": "display_data"
    }
   ],
   "source": [
    "y_pred_proba = logreg.predict_proba(X_test)[::,1]\n",
    "fpr, tpr, _ = metrics.roc_curve(y_test,  y_pred_proba)\n",
    "auc = metrics.roc_auc_score(y_test, y_pred_proba)\n",
    "plt.plot(fpr,tpr,label=\"data 1, auc=\"+str(auc))\n",
    "plt.legend(loc=4)\n",
    "plt.show()"
   ]
  },
  {
   "cell_type": "code",
   "execution_count": 28,
   "id": "7c2799d3-cc38-4d80-9e3c-90af37bcbf0f",
   "metadata": {},
   "outputs": [],
   "source": [
    "from sklearn.inspection import PartialDependenceDisplay"
   ]
  },
  {
   "cell_type": "code",
   "execution_count": 29,
   "id": "ade84464-1d8a-43dc-aed2-a8b73c8349c0",
   "metadata": {},
   "outputs": [
    {
     "data": {
      "text/plain": [
       "<sklearn.inspection._plot.partial_dependence.PartialDependenceDisplay at 0x7f5ae0d25520>"
      ]
     },
     "execution_count": 29,
     "metadata": {},
     "output_type": "execute_result"
    },
    {
     "data": {
      "image/png": "[encoded data removed]",
      "text/plain": [
       "<Figure size 432x288 with 2 Axes>"
      ]
     },
     "metadata": {
      "needs_background": "light"
     },
     "output_type": "display_data"
    }
   ],
   "source": [
    "PartialDependenceDisplay.from_estimator(logreg, X_test, ['avg_tenure'])"
   ]
  },
  {
   "cell_type": "code",
   "execution_count": 30,
   "id": "e8ef0ea1-a773-49a6-bd96-e98b28b2a126",
   "metadata": {},
   "outputs": [
    {
     "data": {
      "text/plain": [
       "<sklearn.inspection._plot.partial_dependence.PartialDependenceDisplay at 0x7f5ae0a708b0>"
      ]
     },
     "execution_count": 30,
     "metadata": {},
     "output_type": "execute_result"
    },
    {
     "data": {
      "image/png": "[encoded data removed]",
      "text/plain": [
       "<Figure size 432x288 with 2 Axes>"
      ]
     },
     "metadata": {
      "needs_background": "light"
     },
     "output_type": "display_data"
    }
   ],
   "source": [
    "PartialDependenceDisplay.from_estimator(logreg, X_test, ['tot_tenure'])"
   ]
  },
  {
   "cell_type": "code",
   "execution_count": 31,
   "id": "7223fdbb-fefb-47ee-8db9-01f8cc08eb97",
   "metadata": {},
   "outputs": [],
   "source": [
    "from sklearn.ensemble import GradientBoostingClassifier\n",
    "from sklearn.inspection import PartialDependenceDisplay"
   ]
  },
  {
   "cell_type": "code",
   "execution_count": 32,
   "id": "7b4f7808-d2bd-4ddf-94c3-1cb18554b921",
   "metadata": {},
   "outputs": [],
   "source": [
    "import matplotlib.pyplot as plt\n",
    "from sklearn.inspection import partial_dependence, plot_partial_dependence"
   ]
  },
  {
   "cell_type": "code",
   "execution_count": 33,
   "id": "ecbac238-bcfe-400a-af09-739ee1b84a55",
   "metadata": {},
   "outputs": [
    {
     "data": {
      "text/plain": [
       "<sklearn.inspection._plot.partial_dependence.PartialDependenceDisplay at 0x7f5ae09da070>"
      ]
     },
     "execution_count": 33,
     "metadata": {},
     "output_type": "execute_result"
    },
    {
     "data": {
      "image/png": "[encoded data removed]",
      "text/plain": [
       "<Figure size 432x288 with 2 Axes>"
      ]
     },
     "metadata": {
      "needs_background": "light"
     },
     "output_type": "display_data"
    }
   ],
   "source": [
    "PartialDependenceDisplay.from_estimator(xgb4, train[predictors], ['avg_tenure'])"
   ]
  },
  {
   "cell_type": "code",
   "execution_count": 34,
   "id": "fda8d711-d3b5-4f30-be71-c1e9fa20df61",
   "metadata": {},
   "outputs": [
    {
     "data": {
      "text/plain": [
       "<sklearn.inspection._plot.partial_dependence.PartialDependenceDisplay at 0x7f5ad4a73490>"
      ]
     },
     "execution_count": 34,
     "metadata": {},
     "output_type": "execute_result"
    },
    {
     "data": {
      "image/png": "[encoded data removed]",
      "text/plain": [
       "<Figure size 432x288 with 2 Axes>"
      ]
     },
     "metadata": {
      "needs_background": "light"
     },
     "output_type": "display_data"
    }
   ],
   "source": [
    "PartialDependenceDisplay.from_estimator(xgb4, train[predictors], ['tot_tenure'])"
   ]
  },
  {
   "cell_type": "code",
   "execution_count": 36,
   "id": "7790243a-9f70-401b-b78a-7815856c920d",
   "metadata": {},
   "outputs": [],
   "source": [
    "import shap"
   ]
  },
  {
   "cell_type": "code",
   "execution_count": 37,
   "id": "66867567-9a76-47f8-8dd4-94c76b63f45e",
   "metadata": {},
   "outputs": [
    {
     "name": "stderr",
     "output_type": "stream",
     "text": [
      "ntree_limit is deprecated, use `iteration_range` or model slicing instead.\n"
     ]
    }
   ],
   "source": [
    "explainer = shap.TreeExplainer(xgb4)\n",
    "shap_values = explainer.shap_values(train[predictors])"
   ]
  },
  {
   "cell_type": "code",
   "execution_count": 38,
   "id": "380d9963-0601-49f8-8267-61cc4dbf89d1",
   "metadata": {},
   "outputs": [
    {
     "data": {
      "image/png": "[encoded data removed]",
      "text/plain": [
       "<Figure size 576x684 with 1 Axes>"
      ]
     },
     "metadata": {
      "needs_background": "light"
     },
     "output_type": "display_data"
    }
   ],
   "source": [
    "shap.summary_plot(shap_values, train[predictors], plot_type=\"bar\")"
   ]
  },
  {
   "cell_type": "code",
   "execution_count": 39,
   "id": "e3707bfe-b234-481e-a971-1a9d8949bcb8",
   "metadata": {},
   "outputs": [
    {
     "data": {
      "image/png": "[encoded data removed]",
      "text/plain": [
       "<Figure size 576x684 with 2 Axes>"
      ]
     },
     "metadata": {
      "needs_background": "light"
     },
     "output_type": "display_data"
    }
   ],
   "source": [
    "shap.summary_plot(shap_values, train[predictors])"
   ]
  },
  {
   "cell_type": "code",
   "execution_count": null,
   "id": "6381e836-b2a6-4c17-b546-b4531c7b81b7",
   "metadata": {},
   "outputs": [],
   "source": []
  }
 ],
 "metadata": {
  "kernelspec": {
   "display_name": "Python 3 (ipykernel)",
   "language": "python",
   "name": "python3"
  },
  "language_info": {
   "codemirror_mode": {
    "name": "ipython",
    "version": 3
   },
   "file_extension": ".py",
   "mimetype": "text/x-python",
   "name": "python",
   "nbconvert_exporter": "python",
   "pygments_lexer": "ipython3",
   "version": "3.9.7"
  }
 },
 "nbformat": 4,
 "nbformat_minor": 5
}
