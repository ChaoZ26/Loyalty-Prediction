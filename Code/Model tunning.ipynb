{
 "cells": [
  {
   "cell_type": "code",
   "execution_count": 1,
   "id": "82c7508b-75e3-47f9-bba8-8f17ce8b7230",
   "metadata": {},
   "outputs": [],
   "source": [
    "import pandas as pd\n",
    "import numpy as np\n",
    "import xgboost as xgb\n",
    "from xgboost.sklearn import XGBClassifier\n",
    "from sklearn import metrics   #Additional scklearn functions\n",
    "from sklearn.model_selection import GridSearchCV  #Perforing grid search\n",
    "import matplotlib.pylab as plt\n",
    "%matplotlib inline\n",
    "from matplotlib.pylab import rcParams\n",
    "rcParams['figure.figsize'] = 12, 4"
   ]
  },
  {
   "cell_type": "code",
   "execution_count": 2,
   "id": "b70495ad-7093-4ed8-808e-5420b5dfd738",
   "metadata": {},
   "outputs": [],
   "source": [
    "from sklearn.model_selection import train_test_split\n",
    "from sklearn.metrics import accuracy_score\n",
    "from sklearn.metrics import confusion_matrix\n",
    "from sklearn.datasets import make_classification\n",
    "from sklearn.metrics import confusion_matrix, ConfusionMatrixDisplay\n",
    "from sklearn.metrics import roc_auc_score"
   ]
  },
  {
   "cell_type": "code",
   "execution_count": 3,
   "id": "8ee7575f-0914-4855-a73b-cf6a946f5c40",
   "metadata": {},
   "outputs": [],
   "source": [
    "data = pd.read_csv('data_v3.1.csv')"
   ]
  },
  {
   "cell_type": "code",
   "execution_count": 4,
   "id": "c89febb0-8cd1-4cec-b749-2795c8de1c2a",
   "metadata": {},
   "outputs": [
    {
     "data": {
      "text/html": [
       "<div>\n",
       "<style scoped>\n",
       "    .dataframe tbody tr th:only-of-type {\n",
       "        vertical-align: middle;\n",
       "    }\n",
       "\n",
       "    .dataframe tbody tr th {\n",
       "        vertical-align: top;\n",
       "    }\n",
       "\n",
       "    .dataframe thead th {\n",
       "        text-align: right;\n",
       "    }\n",
       "</style>\n",
       "<table border=\"1\" class=\"dataframe\">\n",
       "  <thead>\n",
       "    <tr style=\"text-align: right;\">\n",
       "      <th></th>\n",
       "      <th>Unnamed: 0</th>\n",
       "      <th>profile_id</th>\n",
       "      <th>company</th>\n",
       "      <th>size</th>\n",
       "      <th>industry</th>\n",
       "      <th>hq_country</th>\n",
       "      <th>level</th>\n",
       "      <th>tenure</th>\n",
       "      <th>tot_tenure</th>\n",
       "      <th>avg_tenure</th>\n",
       "      <th>target</th>\n",
       "      <th>salary</th>\n",
       "      <th>country</th>\n",
       "      <th>continent</th>\n",
       "      <th>int_count</th>\n",
       "      <th>skill_count</th>\n",
       "      <th>qual_type</th>\n",
       "      <th>degree</th>\n",
       "      <th>have_web</th>\n",
       "      <th>title</th>\n",
       "    </tr>\n",
       "  </thead>\n",
       "  <tbody>\n",
       "    <tr>\n",
       "      <th>0</th>\n",
       "      <td>0</td>\n",
       "      <td>TX2lkDILT7ipMZ_6jt6X</td>\n",
       "      <td>panti asuhan kerahiman hawai papua</td>\n",
       "      <td>Unknown</td>\n",
       "      <td>NaN</td>\n",
       "      <td>NaN</td>\n",
       "      <td>NaN</td>\n",
       "      <td>22646</td>\n",
       "      <td>0.0</td>\n",
       "      <td>0.0</td>\n",
       "      <td>loyal</td>\n",
       "      <td>Unknown</td>\n",
       "      <td>indonesia</td>\n",
       "      <td>asia</td>\n",
       "      <td>0.0</td>\n",
       "      <td>0.0</td>\n",
       "      <td>none</td>\n",
       "      <td>NaN</td>\n",
       "      <td>N</td>\n",
       "      <td>none</td>\n",
       "    </tr>\n",
       "    <tr>\n",
       "      <th>1</th>\n",
       "      <td>1</td>\n",
       "      <td>-drFXizgQaSS6QApPYZQ</td>\n",
       "      <td>autoprofit marketing pte</td>\n",
       "      <td>Unknown</td>\n",
       "      <td>NaN</td>\n",
       "      <td>NaN</td>\n",
       "      <td>NaN</td>\n",
       "      <td>21823</td>\n",
       "      <td>0.0</td>\n",
       "      <td>0.0</td>\n",
       "      <td>loyal</td>\n",
       "      <td>55,000-70,000</td>\n",
       "      <td>singapore</td>\n",
       "      <td>asia</td>\n",
       "      <td>0.0</td>\n",
       "      <td>8.0</td>\n",
       "      <td>none</td>\n",
       "      <td>NaN</td>\n",
       "      <td>N</td>\n",
       "      <td>none</td>\n",
       "    </tr>\n",
       "    <tr>\n",
       "      <th>2</th>\n",
       "      <td>2</td>\n",
       "      <td>DY0Ed5iVQcy15UPDS1i7</td>\n",
       "      <td>cherrybelle</td>\n",
       "      <td>Unknown</td>\n",
       "      <td>NaN</td>\n",
       "      <td>NaN</td>\n",
       "      <td>NaN</td>\n",
       "      <td>2192</td>\n",
       "      <td>0.0</td>\n",
       "      <td>0.0</td>\n",
       "      <td>loyal</td>\n",
       "      <td>Unknown</td>\n",
       "      <td>indonesia</td>\n",
       "      <td>asia</td>\n",
       "      <td>0.0</td>\n",
       "      <td>0.0</td>\n",
       "      <td>none</td>\n",
       "      <td>NaN</td>\n",
       "      <td>N</td>\n",
       "      <td>none</td>\n",
       "    </tr>\n",
       "    <tr>\n",
       "      <th>3</th>\n",
       "      <td>3</td>\n",
       "      <td>HelFHtkjT0C-ab89XR7m</td>\n",
       "      <td>second to none, inc.</td>\n",
       "      <td>1001-5000</td>\n",
       "      <td>market research</td>\n",
       "      <td>united states</td>\n",
       "      <td>NaN</td>\n",
       "      <td>6210</td>\n",
       "      <td>0.0</td>\n",
       "      <td>0.0</td>\n",
       "      <td>loyal</td>\n",
       "      <td>Unknown</td>\n",
       "      <td>indonesia</td>\n",
       "      <td>asia</td>\n",
       "      <td>0.0</td>\n",
       "      <td>6.0</td>\n",
       "      <td>none</td>\n",
       "      <td>NaN</td>\n",
       "      <td>Y</td>\n",
       "      <td>none</td>\n",
       "    </tr>\n",
       "    <tr>\n",
       "      <th>4</th>\n",
       "      <td>4</td>\n",
       "      <td>17tAIFLSQCWi7SNRapja</td>\n",
       "      <td>microsoft</td>\n",
       "      <td>10001+</td>\n",
       "      <td>computer software</td>\n",
       "      <td>united states</td>\n",
       "      <td>c</td>\n",
       "      <td>22281</td>\n",
       "      <td>0.0</td>\n",
       "      <td>0.0</td>\n",
       "      <td>loyal</td>\n",
       "      <td>Unknown</td>\n",
       "      <td>singapore</td>\n",
       "      <td>asia</td>\n",
       "      <td>0.0</td>\n",
       "      <td>3.0</td>\n",
       "      <td>none</td>\n",
       "      <td>NaN</td>\n",
       "      <td>Y</td>\n",
       "      <td>c</td>\n",
       "    </tr>\n",
       "  </tbody>\n",
       "</table>\n",
       "</div>"
      ],
      "text/plain": [
       "   Unnamed: 0            profile_id                             company  \\\n",
       "0           0  TX2lkDILT7ipMZ_6jt6X  panti asuhan kerahiman hawai papua   \n",
       "1           1  -drFXizgQaSS6QApPYZQ            autoprofit marketing pte   \n",
       "2           2  DY0Ed5iVQcy15UPDS1i7                         cherrybelle   \n",
       "3           3  HelFHtkjT0C-ab89XR7m                second to none, inc.   \n",
       "4           4  17tAIFLSQCWi7SNRapja                           microsoft   \n",
       "\n",
       "        size           industry     hq_country level  tenure  tot_tenure  \\\n",
       "0    Unknown                NaN            NaN   NaN   22646         0.0   \n",
       "1    Unknown                NaN            NaN   NaN   21823         0.0   \n",
       "2    Unknown                NaN            NaN   NaN    2192         0.0   \n",
       "3  1001-5000    market research  united states   NaN    6210         0.0   \n",
       "4     10001+  computer software  united states     c   22281         0.0   \n",
       "\n",
       "   avg_tenure target         salary    country continent  int_count  \\\n",
       "0         0.0  loyal        Unknown  indonesia      asia        0.0   \n",
       "1         0.0  loyal  55,000-70,000  singapore      asia        0.0   \n",
       "2         0.0  loyal        Unknown  indonesia      asia        0.0   \n",
       "3         0.0  loyal        Unknown  indonesia      asia        0.0   \n",
       "4         0.0  loyal        Unknown  singapore      asia        0.0   \n",
       "\n",
       "   skill_count qual_type degree have_web title  \n",
       "0          0.0      none    NaN        N  none  \n",
       "1          8.0      none    NaN        N  none  \n",
       "2          0.0      none    NaN        N  none  \n",
       "3          6.0      none    NaN        Y  none  \n",
       "4          3.0      none    NaN        Y     c  "
      ]
     },
     "execution_count": 4,
     "metadata": {},
     "output_type": "execute_result"
    }
   ],
   "source": [
    "data.head(5)"
   ]
  },
  {
   "cell_type": "code",
   "execution_count": 5,
   "id": "810ba5b7-f25c-48fa-8e53-bc53806de552",
   "metadata": {},
   "outputs": [
    {
     "data": {
      "text/html": [
       "<div>\n",
       "<style scoped>\n",
       "    .dataframe tbody tr th:only-of-type {\n",
       "        vertical-align: middle;\n",
       "    }\n",
       "\n",
       "    .dataframe tbody tr th {\n",
       "        vertical-align: top;\n",
       "    }\n",
       "\n",
       "    .dataframe thead th {\n",
       "        text-align: right;\n",
       "    }\n",
       "</style>\n",
       "<table border=\"1\" class=\"dataframe\">\n",
       "  <thead>\n",
       "    <tr style=\"text-align: right;\">\n",
       "      <th></th>\n",
       "      <th>Unnamed: 0</th>\n",
       "      <th>tenure</th>\n",
       "      <th>tot_tenure</th>\n",
       "      <th>avg_tenure</th>\n",
       "      <th>int_count</th>\n",
       "      <th>skill_count</th>\n",
       "    </tr>\n",
       "  </thead>\n",
       "  <tbody>\n",
       "    <tr>\n",
       "      <th>count</th>\n",
       "      <td>529132.000000</td>\n",
       "      <td>529132.000000</td>\n",
       "      <td>529132.000000</td>\n",
       "      <td>529132.000000</td>\n",
       "      <td>529132.000000</td>\n",
       "      <td>529132.000000</td>\n",
       "    </tr>\n",
       "    <tr>\n",
       "      <th>mean</th>\n",
       "      <td>264565.500000</td>\n",
       "      <td>1113.800314</td>\n",
       "      <td>2038.325465</td>\n",
       "      <td>759.536388</td>\n",
       "      <td>1.815078</td>\n",
       "      <td>20.185698</td>\n",
       "    </tr>\n",
       "    <tr>\n",
       "      <th>std</th>\n",
       "      <td>152747.395655</td>\n",
       "      <td>1304.123331</td>\n",
       "      <td>2659.142882</td>\n",
       "      <td>973.848076</td>\n",
       "      <td>7.288523</td>\n",
       "      <td>18.771527</td>\n",
       "    </tr>\n",
       "    <tr>\n",
       "      <th>min</th>\n",
       "      <td>0.000000</td>\n",
       "      <td>28.000000</td>\n",
       "      <td>-10957.000000</td>\n",
       "      <td>-3652.333333</td>\n",
       "      <td>0.000000</td>\n",
       "      <td>0.000000</td>\n",
       "    </tr>\n",
       "    <tr>\n",
       "      <th>25%</th>\n",
       "      <td>132282.750000</td>\n",
       "      <td>336.000000</td>\n",
       "      <td>0.000000</td>\n",
       "      <td>0.000000</td>\n",
       "      <td>0.000000</td>\n",
       "      <td>10.000000</td>\n",
       "    </tr>\n",
       "    <tr>\n",
       "      <th>50%</th>\n",
       "      <td>264565.500000</td>\n",
       "      <td>730.000000</td>\n",
       "      <td>1156.000000</td>\n",
       "      <td>519.000000</td>\n",
       "      <td>0.000000</td>\n",
       "      <td>17.000000</td>\n",
       "    </tr>\n",
       "    <tr>\n",
       "      <th>75%</th>\n",
       "      <td>396848.250000</td>\n",
       "      <td>1402.000000</td>\n",
       "      <td>2950.000000</td>\n",
       "      <td>1061.781250</td>\n",
       "      <td>1.000000</td>\n",
       "      <td>25.000000</td>\n",
       "    </tr>\n",
       "    <tr>\n",
       "      <th>max</th>\n",
       "      <td>529131.000000</td>\n",
       "      <td>22646.000000</td>\n",
       "      <td>80870.000000</td>\n",
       "      <td>22645.000000</td>\n",
       "      <td>227.000000</td>\n",
       "      <td>647.000000</td>\n",
       "    </tr>\n",
       "  </tbody>\n",
       "</table>\n",
       "</div>"
      ],
      "text/plain": [
       "          Unnamed: 0         tenure     tot_tenure     avg_tenure  \\\n",
       "count  529132.000000  529132.000000  529132.000000  529132.000000   \n",
       "mean   264565.500000    1113.800314    2038.325465     759.536388   \n",
       "std    152747.395655    1304.123331    2659.142882     973.848076   \n",
       "min         0.000000      28.000000  -10957.000000   -3652.333333   \n",
       "25%    132282.750000     336.000000       0.000000       0.000000   \n",
       "50%    264565.500000     730.000000    1156.000000     519.000000   \n",
       "75%    396848.250000    1402.000000    2950.000000    1061.781250   \n",
       "max    529131.000000   22646.000000   80870.000000   22645.000000   \n",
       "\n",
       "           int_count    skill_count  \n",
       "count  529132.000000  529132.000000  \n",
       "mean        1.815078      20.185698  \n",
       "std         7.288523      18.771527  \n",
       "min         0.000000       0.000000  \n",
       "25%         0.000000      10.000000  \n",
       "50%         0.000000      17.000000  \n",
       "75%         1.000000      25.000000  \n",
       "max       227.000000     647.000000  "
      ]
     },
     "execution_count": 5,
     "metadata": {},
     "output_type": "execute_result"
    }
   ],
   "source": [
    "data.describe()"
   ]
  },
  {
   "cell_type": "code",
   "execution_count": 6,
   "id": "b2c6fc0f-9f06-4be5-93e3-1e21f783bd96",
   "metadata": {},
   "outputs": [],
   "source": [
    "data = data.drop(['tenure','Unnamed: 0','profile_id','company','industry','hq_country','level','degree'], axis = 1)"
   ]
  },
  {
   "cell_type": "code",
   "execution_count": 7,
   "id": "c6dc122c-2970-4c98-b38d-415beadf56d8",
   "metadata": {},
   "outputs": [],
   "source": [
    "data = data[data['tot_tenure'] < 18250]"
   ]
  },
  {
   "cell_type": "code",
   "execution_count": 8,
   "id": "4e303acc-581c-436b-9726-6b5f4f4a7cc6",
   "metadata": {},
   "outputs": [],
   "source": [
    "data = data[data['avg_tenure'] < 18250]"
   ]
  },
  {
   "cell_type": "code",
   "execution_count": 9,
   "id": "b39d56ba-ec5c-4bc3-91d6-a9d2939d8734",
   "metadata": {},
   "outputs": [],
   "source": [
    "data = data[data['int_count'] < 20]"
   ]
  },
  {
   "cell_type": "code",
   "execution_count": 10,
   "id": "7fd168bc-08de-4aeb-ac2d-d1acb4e506c5",
   "metadata": {},
   "outputs": [],
   "source": [
    "data = data[data['skill_count'] < 50]"
   ]
  },
  {
   "cell_type": "code",
   "execution_count": 11,
   "id": "bb6ee294-fcad-45a3-b46b-ab5a76bd53d6",
   "metadata": {},
   "outputs": [],
   "source": [
    "data = data.join(pd.get_dummies(data['size']))\n",
    "data = data.drop('size', axis = 1)"
   ]
  },
  {
   "cell_type": "code",
   "execution_count": 12,
   "id": "0690df4e-f52e-4827-b267-aa343e4cdf4f",
   "metadata": {},
   "outputs": [],
   "source": [
    "data = data.join(pd.get_dummies(data['country']))\n",
    "data = data.drop('country', axis = 1)"
   ]
  },
  {
   "cell_type": "code",
   "execution_count": 13,
   "id": "b45d2cc9-8b8d-4f41-a572-b3921c9ddf5d",
   "metadata": {},
   "outputs": [],
   "source": [
    "data['salary'] = data['salary'].replace({'Unknown':'PNT'})"
   ]
  },
  {
   "cell_type": "code",
   "execution_count": 14,
   "id": "1434bd06-c098-46fe-a498-0bc0f86bc13a",
   "metadata": {},
   "outputs": [],
   "source": [
    "data = data.join(pd.get_dummies(data['salary']))\n",
    "data = data.drop('salary', axis = 1)"
   ]
  },
  {
   "cell_type": "code",
   "execution_count": 15,
   "id": "722485d2-d83a-4b23-8299-45988346b1b8",
   "metadata": {},
   "outputs": [],
   "source": [
    "data = data.join(pd.get_dummies(data['continent']))\n",
    "data = data.drop('continent', axis = 1)"
   ]
  },
  {
   "cell_type": "code",
   "execution_count": 16,
   "id": "a0e1c0f7-f741-4c3f-a480-0ea0c962d697",
   "metadata": {},
   "outputs": [],
   "source": [
    "data = data.join(pd.get_dummies(data['qual_type']))\n",
    "data = data.drop('qual_type', axis = 1)"
   ]
  },
  {
   "cell_type": "code",
   "execution_count": 17,
   "id": "e64e1aaa-25a7-4646-9a83-0a45eb3ccd48",
   "metadata": {},
   "outputs": [],
   "source": [
    "data = data.join(pd.get_dummies(data['have_web']))\n",
    "data = data.drop('have_web', axis = 1)"
   ]
  },
  {
   "cell_type": "code",
   "execution_count": 18,
   "id": "5b297d0e-3ed0-4ba2-bcff-5d423a11ea52",
   "metadata": {},
   "outputs": [],
   "source": [
    "data['title'] = data['title'].replace({'none':'no_title'})"
   ]
  },
  {
   "cell_type": "code",
   "execution_count": 19,
   "id": "57d571bc-524b-401b-ac1c-53b0cbc012e6",
   "metadata": {},
   "outputs": [],
   "source": [
    "data = data.join(pd.get_dummies(data['title']))\n",
    "data = data.drop('title', axis = 1)"
   ]
  },
  {
   "cell_type": "code",
   "execution_count": 20,
   "id": "24ffc852-9e93-43cc-a3f1-d3edd89ab260",
   "metadata": {},
   "outputs": [],
   "source": [
    "data['target'] = data['target'].replace({'loyal':0,'disloyal':1})"
   ]
  },
  {
   "cell_type": "code",
   "execution_count": 21,
   "id": "7f0f37ec-53c0-451a-94df-ebc37a0cb95c",
   "metadata": {},
   "outputs": [],
   "source": [
    "#Try to use Linear regression to "
   ]
  },
  {
   "cell_type": "code",
   "execution_count": 22,
   "id": "28aba448-4a13-401f-bdff-b14480ab8c70",
   "metadata": {},
   "outputs": [
    {
     "data": {
      "text/html": [
       "<div>\n",
       "<style scoped>\n",
       "    .dataframe tbody tr th:only-of-type {\n",
       "        vertical-align: middle;\n",
       "    }\n",
       "\n",
       "    .dataframe tbody tr th {\n",
       "        vertical-align: top;\n",
       "    }\n",
       "\n",
       "    .dataframe thead th {\n",
       "        text-align: right;\n",
       "    }\n",
       "</style>\n",
       "<table border=\"1\" class=\"dataframe\">\n",
       "  <thead>\n",
       "    <tr style=\"text-align: right;\">\n",
       "      <th></th>\n",
       "      <th>tot_tenure</th>\n",
       "      <th>avg_tenure</th>\n",
       "      <th>target</th>\n",
       "      <th>int_count</th>\n",
       "      <th>skill_count</th>\n",
       "      <th>1-10</th>\n",
       "      <th>10001+</th>\n",
       "      <th>1001-5000</th>\n",
       "      <th>11-50</th>\n",
       "      <th>201-500</th>\n",
       "      <th>...</th>\n",
       "      <th>none</th>\n",
       "      <th>N</th>\n",
       "      <th>Y</th>\n",
       "      <th>c</th>\n",
       "      <th>dir</th>\n",
       "      <th>mgr</th>\n",
       "      <th>no_title</th>\n",
       "      <th>owner</th>\n",
       "      <th>pres</th>\n",
       "      <th>vp</th>\n",
       "    </tr>\n",
       "  </thead>\n",
       "  <tbody>\n",
       "    <tr>\n",
       "      <th>0</th>\n",
       "      <td>0.0</td>\n",
       "      <td>0.000000</td>\n",
       "      <td>0</td>\n",
       "      <td>0.0</td>\n",
       "      <td>0.0</td>\n",
       "      <td>0</td>\n",
       "      <td>0</td>\n",
       "      <td>0</td>\n",
       "      <td>0</td>\n",
       "      <td>0</td>\n",
       "      <td>...</td>\n",
       "      <td>1</td>\n",
       "      <td>1</td>\n",
       "      <td>0</td>\n",
       "      <td>0</td>\n",
       "      <td>0</td>\n",
       "      <td>0</td>\n",
       "      <td>1</td>\n",
       "      <td>0</td>\n",
       "      <td>0</td>\n",
       "      <td>0</td>\n",
       "    </tr>\n",
       "    <tr>\n",
       "      <th>1</th>\n",
       "      <td>0.0</td>\n",
       "      <td>0.000000</td>\n",
       "      <td>0</td>\n",
       "      <td>0.0</td>\n",
       "      <td>8.0</td>\n",
       "      <td>0</td>\n",
       "      <td>0</td>\n",
       "      <td>0</td>\n",
       "      <td>0</td>\n",
       "      <td>0</td>\n",
       "      <td>...</td>\n",
       "      <td>1</td>\n",
       "      <td>1</td>\n",
       "      <td>0</td>\n",
       "      <td>0</td>\n",
       "      <td>0</td>\n",
       "      <td>0</td>\n",
       "      <td>1</td>\n",
       "      <td>0</td>\n",
       "      <td>0</td>\n",
       "      <td>0</td>\n",
       "    </tr>\n",
       "    <tr>\n",
       "      <th>2</th>\n",
       "      <td>0.0</td>\n",
       "      <td>0.000000</td>\n",
       "      <td>0</td>\n",
       "      <td>0.0</td>\n",
       "      <td>0.0</td>\n",
       "      <td>0</td>\n",
       "      <td>0</td>\n",
       "      <td>0</td>\n",
       "      <td>0</td>\n",
       "      <td>0</td>\n",
       "      <td>...</td>\n",
       "      <td>1</td>\n",
       "      <td>1</td>\n",
       "      <td>0</td>\n",
       "      <td>0</td>\n",
       "      <td>0</td>\n",
       "      <td>0</td>\n",
       "      <td>1</td>\n",
       "      <td>0</td>\n",
       "      <td>0</td>\n",
       "      <td>0</td>\n",
       "    </tr>\n",
       "    <tr>\n",
       "      <th>3</th>\n",
       "      <td>0.0</td>\n",
       "      <td>0.000000</td>\n",
       "      <td>0</td>\n",
       "      <td>0.0</td>\n",
       "      <td>6.0</td>\n",
       "      <td>0</td>\n",
       "      <td>0</td>\n",
       "      <td>1</td>\n",
       "      <td>0</td>\n",
       "      <td>0</td>\n",
       "      <td>...</td>\n",
       "      <td>1</td>\n",
       "      <td>0</td>\n",
       "      <td>1</td>\n",
       "      <td>0</td>\n",
       "      <td>0</td>\n",
       "      <td>0</td>\n",
       "      <td>1</td>\n",
       "      <td>0</td>\n",
       "      <td>0</td>\n",
       "      <td>0</td>\n",
       "    </tr>\n",
       "    <tr>\n",
       "      <th>4</th>\n",
       "      <td>0.0</td>\n",
       "      <td>0.000000</td>\n",
       "      <td>0</td>\n",
       "      <td>0.0</td>\n",
       "      <td>3.0</td>\n",
       "      <td>0</td>\n",
       "      <td>1</td>\n",
       "      <td>0</td>\n",
       "      <td>0</td>\n",
       "      <td>0</td>\n",
       "      <td>...</td>\n",
       "      <td>1</td>\n",
       "      <td>0</td>\n",
       "      <td>1</td>\n",
       "      <td>1</td>\n",
       "      <td>0</td>\n",
       "      <td>0</td>\n",
       "      <td>0</td>\n",
       "      <td>0</td>\n",
       "      <td>0</td>\n",
       "      <td>0</td>\n",
       "    </tr>\n",
       "    <tr>\n",
       "      <th>...</th>\n",
       "      <td>...</td>\n",
       "      <td>...</td>\n",
       "      <td>...</td>\n",
       "      <td>...</td>\n",
       "      <td>...</td>\n",
       "      <td>...</td>\n",
       "      <td>...</td>\n",
       "      <td>...</td>\n",
       "      <td>...</td>\n",
       "      <td>...</td>\n",
       "      <td>...</td>\n",
       "      <td>...</td>\n",
       "      <td>...</td>\n",
       "      <td>...</td>\n",
       "      <td>...</td>\n",
       "      <td>...</td>\n",
       "      <td>...</td>\n",
       "      <td>...</td>\n",
       "      <td>...</td>\n",
       "      <td>...</td>\n",
       "      <td>...</td>\n",
       "    </tr>\n",
       "    <tr>\n",
       "      <th>529127</th>\n",
       "      <td>3016.0</td>\n",
       "      <td>430.857143</td>\n",
       "      <td>1</td>\n",
       "      <td>10.0</td>\n",
       "      <td>27.0</td>\n",
       "      <td>0</td>\n",
       "      <td>0</td>\n",
       "      <td>0</td>\n",
       "      <td>0</td>\n",
       "      <td>0</td>\n",
       "      <td>...</td>\n",
       "      <td>0</td>\n",
       "      <td>0</td>\n",
       "      <td>1</td>\n",
       "      <td>0</td>\n",
       "      <td>0</td>\n",
       "      <td>0</td>\n",
       "      <td>1</td>\n",
       "      <td>0</td>\n",
       "      <td>0</td>\n",
       "      <td>0</td>\n",
       "    </tr>\n",
       "    <tr>\n",
       "      <th>529128</th>\n",
       "      <td>2496.0</td>\n",
       "      <td>832.000000</td>\n",
       "      <td>1</td>\n",
       "      <td>0.0</td>\n",
       "      <td>27.0</td>\n",
       "      <td>0</td>\n",
       "      <td>0</td>\n",
       "      <td>0</td>\n",
       "      <td>0</td>\n",
       "      <td>0</td>\n",
       "      <td>...</td>\n",
       "      <td>0</td>\n",
       "      <td>1</td>\n",
       "      <td>0</td>\n",
       "      <td>0</td>\n",
       "      <td>0</td>\n",
       "      <td>0</td>\n",
       "      <td>1</td>\n",
       "      <td>0</td>\n",
       "      <td>0</td>\n",
       "      <td>0</td>\n",
       "    </tr>\n",
       "    <tr>\n",
       "      <th>529129</th>\n",
       "      <td>1312.0</td>\n",
       "      <td>218.666667</td>\n",
       "      <td>1</td>\n",
       "      <td>14.0</td>\n",
       "      <td>30.0</td>\n",
       "      <td>0</td>\n",
       "      <td>0</td>\n",
       "      <td>0</td>\n",
       "      <td>0</td>\n",
       "      <td>0</td>\n",
       "      <td>...</td>\n",
       "      <td>0</td>\n",
       "      <td>0</td>\n",
       "      <td>1</td>\n",
       "      <td>0</td>\n",
       "      <td>0</td>\n",
       "      <td>0</td>\n",
       "      <td>1</td>\n",
       "      <td>0</td>\n",
       "      <td>0</td>\n",
       "      <td>0</td>\n",
       "    </tr>\n",
       "    <tr>\n",
       "      <th>529130</th>\n",
       "      <td>1767.0</td>\n",
       "      <td>294.500000</td>\n",
       "      <td>1</td>\n",
       "      <td>0.0</td>\n",
       "      <td>19.0</td>\n",
       "      <td>0</td>\n",
       "      <td>0</td>\n",
       "      <td>0</td>\n",
       "      <td>0</td>\n",
       "      <td>1</td>\n",
       "      <td>...</td>\n",
       "      <td>1</td>\n",
       "      <td>0</td>\n",
       "      <td>1</td>\n",
       "      <td>0</td>\n",
       "      <td>0</td>\n",
       "      <td>0</td>\n",
       "      <td>1</td>\n",
       "      <td>0</td>\n",
       "      <td>0</td>\n",
       "      <td>0</td>\n",
       "    </tr>\n",
       "    <tr>\n",
       "      <th>529131</th>\n",
       "      <td>31.0</td>\n",
       "      <td>31.000000</td>\n",
       "      <td>1</td>\n",
       "      <td>0.0</td>\n",
       "      <td>6.0</td>\n",
       "      <td>0</td>\n",
       "      <td>0</td>\n",
       "      <td>0</td>\n",
       "      <td>0</td>\n",
       "      <td>0</td>\n",
       "      <td>...</td>\n",
       "      <td>1</td>\n",
       "      <td>1</td>\n",
       "      <td>0</td>\n",
       "      <td>0</td>\n",
       "      <td>0</td>\n",
       "      <td>0</td>\n",
       "      <td>1</td>\n",
       "      <td>0</td>\n",
       "      <td>0</td>\n",
       "      <td>0</td>\n",
       "    </tr>\n",
       "  </tbody>\n",
       "</table>\n",
       "<p>505704 rows × 44 columns</p>\n",
       "</div>"
      ],
      "text/plain": [
       "        tot_tenure  avg_tenure  target  int_count  skill_count  1-10  10001+  \\\n",
       "0              0.0    0.000000       0        0.0          0.0     0       0   \n",
       "1              0.0    0.000000       0        0.0          8.0     0       0   \n",
       "2              0.0    0.000000       0        0.0          0.0     0       0   \n",
       "3              0.0    0.000000       0        0.0          6.0     0       0   \n",
       "4              0.0    0.000000       0        0.0          3.0     0       1   \n",
       "...            ...         ...     ...        ...          ...   ...     ...   \n",
       "529127      3016.0  430.857143       1       10.0         27.0     0       0   \n",
       "529128      2496.0  832.000000       1        0.0         27.0     0       0   \n",
       "529129      1312.0  218.666667       1       14.0         30.0     0       0   \n",
       "529130      1767.0  294.500000       1        0.0         19.0     0       0   \n",
       "529131        31.0   31.000000       1        0.0          6.0     0       0   \n",
       "\n",
       "        1001-5000  11-50  201-500  ...  none  N  Y  c  dir  mgr  no_title  \\\n",
       "0               0      0        0  ...     1  1  0  0    0    0         1   \n",
       "1               0      0        0  ...     1  1  0  0    0    0         1   \n",
       "2               0      0        0  ...     1  1  0  0    0    0         1   \n",
       "3               1      0        0  ...     1  0  1  0    0    0         1   \n",
       "4               0      0        0  ...     1  0  1  1    0    0         0   \n",
       "...           ...    ...      ...  ...   ... .. .. ..  ...  ...       ...   \n",
       "529127          0      0        0  ...     0  0  1  0    0    0         1   \n",
       "529128          0      0        0  ...     0  1  0  0    0    0         1   \n",
       "529129          0      0        0  ...     0  0  1  0    0    0         1   \n",
       "529130          0      0        1  ...     1  0  1  0    0    0         1   \n",
       "529131          0      0        0  ...     1  1  0  0    0    0         1   \n",
       "\n",
       "        owner  pres  vp  \n",
       "0           0     0   0  \n",
       "1           0     0   0  \n",
       "2           0     0   0  \n",
       "3           0     0   0  \n",
       "4           0     0   0  \n",
       "...       ...   ...  ..  \n",
       "529127      0     0   0  \n",
       "529128      0     0   0  \n",
       "529129      0     0   0  \n",
       "529130      0     0   0  \n",
       "529131      0     0   0  \n",
       "\n",
       "[505704 rows x 44 columns]"
      ]
     },
     "execution_count": 22,
     "metadata": {},
     "output_type": "execute_result"
    }
   ],
   "source": [
    "data"
   ]
  },
  {
   "cell_type": "code",
   "execution_count": 23,
   "id": "ee329b9c-7059-428d-8369-f6a5a847490b",
   "metadata": {},
   "outputs": [],
   "source": [
    "train, test = train_test_split(data, test_size=0.2)"
   ]
  },
  {
   "cell_type": "code",
   "execution_count": 24,
   "id": "d28fb289-d34a-4de3-920d-ccb224c55872",
   "metadata": {},
   "outputs": [],
   "source": [
    "target = 'target'"
   ]
  },
  {
   "cell_type": "code",
   "execution_count": 25,
   "id": "737d6c66-e3b1-44e8-a9c1-be58588139e5",
   "metadata": {},
   "outputs": [],
   "source": [
    "def modelfit(alg, dtrain, predictors, useTrainCV=True, cv_folds=5, early_stopping_rounds=50):\n",
    "    \n",
    "    if useTrainCV:\n",
    "        xgb_param = alg.get_xgb_params()\n",
    "        xgtrain = xgb.DMatrix(dtrain[predictors].values, label=dtrain[target].values)\n",
    "        cvresult = xgb.cv(xgb_param, xgtrain, num_boost_round=alg.get_params()['n_estimators'], nfold=cv_folds,\n",
    "            metrics='auc', early_stopping_rounds=early_stopping_rounds)\n",
    "        alg.set_params(n_estimators=cvresult.shape[0])\n",
    "    \n",
    "    #Fit the algorithm on the data\n",
    "    alg.fit(dtrain[predictors], dtrain[target],eval_metric='auc')\n",
    "        \n",
    "    #Predict training set:\n",
    "    dtrain_predictions = alg.predict(dtrain[predictors])\n",
    "    dtrain_predprob = alg.predict_proba(dtrain[predictors])[:,1]\n",
    "        \n",
    "    #Print model report:\n",
    "    print(\"\\nModel Report\")\n",
    "    print(\"Accuracy : %.4g\" % metrics.accuracy_score(dtrain[target].values, dtrain_predictions))\n",
    "    print(\"AUC Score (Train): %f\" % metrics.roc_auc_score(dtrain[target], dtrain_predprob))\n",
    "                    \n",
    "    feat_imp = pd.Series(alg.get_booster().get_fscore()).sort_values(ascending=False)\n",
    "    feat_imp.plot(kind='bar', title='Feature Importances')\n",
    "    plt.ylabel('Feature Importance Score')"
   ]
  },
  {
   "cell_type": "code",
   "execution_count": 26,
   "id": "30f868db-2dbf-40d6-b9ed-39d989256502",
   "metadata": {},
   "outputs": [],
   "source": [
    "predictors = [x for x in train.columns if x not in [target]]"
   ]
  },
  {
   "cell_type": "code",
   "execution_count": 25,
   "id": "f5caaf33-ffe0-491c-9e3f-348226c128fe",
   "metadata": {},
   "outputs": [
    {
     "name": "stdout",
     "output_type": "stream",
     "text": [
      "\n",
      "Model Report\n",
      "Accuracy : 0.7312\n",
      "AUC Score (Train): 0.719537\n"
     ]
    },
    {
     "data": {
      "image/png": "[encoded data removed]",
      "text/plain": [
       "<Figure size 864x288 with 1 Axes>"
      ]
     },
     "metadata": {
      "needs_background": "light"
     },
     "output_type": "display_data"
    }
   ],
   "source": [
    "#Choose all predictors except target column\n",
    "xgb1 = XGBClassifier(\n",
    " learning_rate =0.1,\n",
    " n_estimators=1000,\n",
    " max_depth=5,\n",
    " min_child_weight=1,\n",
    " gamma=0,\n",
    " subsample=0.8,\n",
    " colsample_bytree=0.8,\n",
    " objective= 'binary:logistic',\n",
    " nthread=4,\n",
    " scale_pos_weight=1,\n",
    " seed=27,\n",
    " use_label_encoder=False)\n",
    "\n",
    "modelfit(xgb1, train, predictors)"
   ]
  },
  {
   "cell_type": "code",
   "execution_count": 31,
   "id": "3a2274d1-1134-4f30-bd42-cd55eb1a3b68",
   "metadata": {},
   "outputs": [
    {
     "name": "stderr",
     "output_type": "stream",
     "text": [
      "C:\\Anaconda\\envs\\newenvt\\lib\\site-packages\\xgboost\\sklearn.py:888: UserWarning: The use of label encoder in XGBClassifier is deprecated and will be removed in a future release. To remove this warning, do the following: 1) Pass option use_label_encoder=False when constructing XGBClassifier object; and 2) Encode your labels (y) as integers starting with 0, i.e. 0, 1, 2, ..., [num_class - 1].\n",
      "  warnings.warn(label_encoder_deprecation_msg, UserWarning)\n"
     ]
    },
    {
     "name": "stdout",
     "output_type": "stream",
     "text": [
      "[21:04:46] WARNING: ..\\src\\learner.cc:1061: Starting in XGBoost 1.3.0, the default evaluation metric used with the objective 'binary:logistic' was changed from 'error' to 'logloss'. Explicitly set eval_metric if you'd like to restore the old behavior.\n"
     ]
    },
    {
     "data": {
      "text/plain": [
       "({'mean_fit_time': array([ 44.76196771,  44.99347534,  52.34294124,  84.06321425,\n",
       "          83.50112844,  78.60748005, 118.76396036, 112.51743188,\n",
       "         111.0866221 , 149.59276748, 144.77839661, 122.88858109]),\n",
       "  'std_fit_time': array([ 0.56001087,  2.37340364,  1.6550547 ,  5.14609797,  3.90603881,\n",
       "          5.93771092,  2.13034799,  3.44140887,  3.46769246,  3.6102413 ,\n",
       "          6.00320684, 17.48051819]),\n",
       "  'mean_score_time': array([0.26868796, 0.27493644, 0.32804761, 0.33807492, 0.36553855,\n",
       "         0.3374207 , 0.41865158, 0.42490001, 0.42177496, 0.46239009,\n",
       "         0.44052043, 0.40101037]),\n",
       "  'std_score_time': array([0.01821818, 0.02118834, 0.02794459, 0.02093972, 0.01593183,\n",
       "         0.03775142, 0.03029006, 0.05709822, 0.02964047, 0.05811573,\n",
       "         0.02687591, 0.09454643]),\n",
       "  'param_max_depth': masked_array(data=[3, 3, 3, 5, 5, 5, 7, 7, 7, 9, 9, 9],\n",
       "               mask=[False, False, False, False, False, False, False, False,\n",
       "                     False, False, False, False],\n",
       "         fill_value='?',\n",
       "              dtype=object),\n",
       "  'param_min_child_weight': masked_array(data=[1, 3, 5, 1, 3, 5, 1, 3, 5, 1, 3, 5],\n",
       "               mask=[False, False, False, False, False, False, False, False,\n",
       "                     False, False, False, False],\n",
       "         fill_value='?',\n",
       "              dtype=object),\n",
       "  'params': [{'max_depth': 3, 'min_child_weight': 1},\n",
       "   {'max_depth': 3, 'min_child_weight': 3},\n",
       "   {'max_depth': 3, 'min_child_weight': 5},\n",
       "   {'max_depth': 5, 'min_child_weight': 1},\n",
       "   {'max_depth': 5, 'min_child_weight': 3},\n",
       "   {'max_depth': 5, 'min_child_weight': 5},\n",
       "   {'max_depth': 7, 'min_child_weight': 1},\n",
       "   {'max_depth': 7, 'min_child_weight': 3},\n",
       "   {'max_depth': 7, 'min_child_weight': 5},\n",
       "   {'max_depth': 9, 'min_child_weight': 1},\n",
       "   {'max_depth': 9, 'min_child_weight': 3},\n",
       "   {'max_depth': 9, 'min_child_weight': 5}],\n",
       "  'split0_test_score': array([0.6983392 , 0.6983623 , 0.69843031, 0.70199647, 0.70191245,\n",
       "         0.70188798, 0.7024191 , 0.70240233, 0.70282021, 0.70064474,\n",
       "         0.70060397, 0.70115997]),\n",
       "  'split1_test_score': array([0.70329579, 0.70325833, 0.70286896, 0.70659726, 0.70691506,\n",
       "         0.70672203, 0.70656033, 0.70651833, 0.70654793, 0.70405737,\n",
       "         0.70437422, 0.70470817]),\n",
       "  'split2_test_score': array([0.70081549, 0.70040317, 0.70058964, 0.70435976, 0.70456365,\n",
       "         0.70443965, 0.70448577, 0.70412802, 0.70442006, 0.70270723,\n",
       "         0.70269799, 0.70347316]),\n",
       "  'split3_test_score': array([0.70465238, 0.70454175, 0.70467209, 0.70780381, 0.70760637,\n",
       "         0.70786601, 0.70789336, 0.70826354, 0.70809762, 0.70621171,\n",
       "         0.70633832, 0.70668466]),\n",
       "  'split4_test_score': array([0.6984079 , 0.69825017, 0.69824843, 0.70175007, 0.70204188,\n",
       "         0.70201546, 0.70167505, 0.70226135, 0.7022225 , 0.70009565,\n",
       "         0.70054748, 0.70094285]),\n",
       "  'mean_test_score': array([0.70110215, 0.70096314, 0.70096188, 0.70450147, 0.70460788,\n",
       "         0.70458622, 0.70460672, 0.70471471, 0.70482166, 0.70274334,\n",
       "         0.7029124 , 0.70339376]),\n",
       "  'std_test_score': array([0.00254524, 0.00255   , 0.00250251, 0.00241508, 0.00237343,\n",
       "         0.00241783, 0.00236701, 0.00234766, 0.00221967, 0.00224374,\n",
       "         0.00222897, 0.00217075]),\n",
       "  'rank_test_score': array([10, 11, 12,  6,  3,  5,  4,  2,  1,  9,  8,  7])},\n",
       " {'max_depth': 7, 'min_child_weight': 5},\n",
       " 0.7048216630015463)"
      ]
     },
     "execution_count": 31,
     "metadata": {},
     "output_type": "execute_result"
    }
   ],
   "source": [
    "#tune max_depth & min_child_weight\n",
    "param_test1 = {\n",
    " 'max_depth':range(3,10,2),\n",
    " 'min_child_weight':range(1,6,2)\n",
    "}\n",
    "gsearch1 = GridSearchCV(estimator = XGBClassifier( learning_rate =0.1, n_estimators=140, max_depth=5,\n",
    " min_child_weight=1, gamma=0, subsample=0.8, colsample_bytree=0.8,\n",
    " objective= 'binary:logistic', nthread=4, scale_pos_weight=1, seed=27), \n",
    " param_grid = param_test1, scoring='roc_auc',n_jobs=4, cv=5)\n",
    "gsearch1.fit(train[predictors],train[target])\n",
    "gsearch1.cv_results_, gsearch1.best_params_, gsearch1.best_score_"
   ]
  },
  {
   "cell_type": "code",
   "execution_count": 33,
   "id": "5da37a1f-8ce1-407d-9b5d-3e131951acce",
   "metadata": {},
   "outputs": [
    {
     "name": "stderr",
     "output_type": "stream",
     "text": [
      "C:\\Anaconda\\envs\\newenvt\\lib\\site-packages\\xgboost\\sklearn.py:888: UserWarning: The use of label encoder in XGBClassifier is deprecated and will be removed in a future release. To remove this warning, do the following: 1) Pass option use_label_encoder=False when constructing XGBClassifier object; and 2) Encode your labels (y) as integers starting with 0, i.e. 0, 1, 2, ..., [num_class - 1].\n",
      "  warnings.warn(label_encoder_deprecation_msg, UserWarning)\n"
     ]
    },
    {
     "name": "stdout",
     "output_type": "stream",
     "text": [
      "[21:37:28] WARNING: ..\\src\\learner.cc:1061: Starting in XGBoost 1.3.0, the default evaluation metric used with the objective 'binary:logistic' was changed from 'error' to 'logloss'. Explicitly set eval_metric if you'd like to restore the old behavior.\n"
     ]
    },
    {
     "data": {
      "text/plain": [
       "({'mean_fit_time': array([ 78.74936848,  86.95592785,  95.86150842, 112.67672424,\n",
       "         108.46909032, 114.34813318, 126.55071058, 129.83385324,\n",
       "         110.15057902]),\n",
       "  'std_fit_time': array([ 2.53767868,  4.14034797,  4.1235134 ,  2.33202953,  4.51241793,\n",
       "          2.75875175,  6.90864779, 10.94645092, 19.40727546]),\n",
       "  'mean_score_time': array([0.33117056, 0.3405457 , 0.33397689, 0.3780376 , 0.39678268,\n",
       "         0.43427229, 0.42490072, 0.43427343, 0.35616131]),\n",
       "  'std_score_time': array([0.03478995, 0.03479004, 0.0215266 , 0.03877215, 0.05190393,\n",
       "         0.03616648, 0.02687696, 0.05171665, 0.09801715]),\n",
       "  'param_max_depth': masked_array(data=[6, 6, 6, 7, 7, 7, 8, 8, 8],\n",
       "               mask=[False, False, False, False, False, False, False, False,\n",
       "                     False],\n",
       "         fill_value='?',\n",
       "              dtype=object),\n",
       "  'param_min_child_weight': masked_array(data=[4, 5, 6, 4, 5, 6, 4, 5, 6],\n",
       "               mask=[False, False, False, False, False, False, False, False,\n",
       "                     False],\n",
       "         fill_value='?',\n",
       "              dtype=object),\n",
       "  'params': [{'max_depth': 6, 'min_child_weight': 4},\n",
       "   {'max_depth': 6, 'min_child_weight': 5},\n",
       "   {'max_depth': 6, 'min_child_weight': 6},\n",
       "   {'max_depth': 7, 'min_child_weight': 4},\n",
       "   {'max_depth': 7, 'min_child_weight': 5},\n",
       "   {'max_depth': 7, 'min_child_weight': 6},\n",
       "   {'max_depth': 8, 'min_child_weight': 4},\n",
       "   {'max_depth': 8, 'min_child_weight': 5},\n",
       "   {'max_depth': 8, 'min_child_weight': 6}],\n",
       "  'split0_test_score': array([0.70171989, 0.70215204, 0.70206365, 0.70301033, 0.70282021,\n",
       "         0.70251843, 0.70203152, 0.70244919, 0.70224469]),\n",
       "  'split1_test_score': array([0.70686939, 0.70687107, 0.70666955, 0.70625541, 0.70654793,\n",
       "         0.70658092, 0.70555505, 0.7059161 , 0.70578504]),\n",
       "  'split2_test_score': array([0.7047875 , 0.70484506, 0.70474995, 0.70437521, 0.70442006,\n",
       "         0.70492111, 0.70352105, 0.703635  , 0.70335132]),\n",
       "  'split3_test_score': array([0.70835105, 0.70846416, 0.70847424, 0.70770746, 0.70809762,\n",
       "         0.70779877, 0.70760978, 0.70715868, 0.70745778]),\n",
       "  'split4_test_score': array([0.70193579, 0.70215086, 0.70252234, 0.70199122, 0.7022225 ,\n",
       "         0.70226797, 0.70187169, 0.70174756, 0.70153622]),\n",
       "  'mean_test_score': array([0.70473272, 0.70489664, 0.70489595, 0.70466793, 0.70482166,\n",
       "         0.70481744, 0.70411782, 0.7041813 , 0.70407501]),\n",
       "  'std_test_score': array([0.00262909, 0.00251795, 0.00243422, 0.002086  , 0.00221967,\n",
       "         0.00218148, 0.0021915 , 0.00205407, 0.00222201]),\n",
       "  'rank_test_score': array([5, 1, 2, 6, 3, 4, 8, 7, 9])},\n",
       " {'max_depth': 6, 'min_child_weight': 5},\n",
       " 0.7048966385691543)"
      ]
     },
     "execution_count": 33,
     "metadata": {},
     "output_type": "execute_result"
    }
   ],
   "source": [
    "#tune max_depth & min_child_weight further\n",
    "param_test2 = {\n",
    " 'max_depth':[6,7,8],\n",
    " 'min_child_weight':[4,5,6]\n",
    "}\n",
    "gsearch2 = GridSearchCV(estimator = XGBClassifier( learning_rate=0.1, n_estimators=140, max_depth=5,\n",
    " min_child_weight=2, gamma=0, subsample=0.8, colsample_bytree=0.8,\n",
    " objective= 'binary:logistic', nthread=4, scale_pos_weight=1,seed=27), \n",
    " param_grid = param_test2, scoring='roc_auc',n_jobs=4, cv=5)\n",
    "gsearch2.fit(train[predictors],train[target])\n",
    "gsearch2.cv_results_, gsearch2.best_params_, gsearch2.best_score_"
   ]
  },
  {
   "cell_type": "code",
   "execution_count": 35,
   "id": "995f4e56-481e-4693-af3b-a24eb8d4082a",
   "metadata": {},
   "outputs": [
    {
     "name": "stderr",
     "output_type": "stream",
     "text": [
      "C:\\Anaconda\\envs\\newenvt\\lib\\site-packages\\xgboost\\sklearn.py:888: UserWarning: The use of label encoder in XGBClassifier is deprecated and will be removed in a future release. To remove this warning, do the following: 1) Pass option use_label_encoder=False when constructing XGBClassifier object; and 2) Encode your labels (y) as integers starting with 0, i.e. 0, 1, 2, ..., [num_class - 1].\n",
      "  warnings.warn(label_encoder_deprecation_msg, UserWarning)\n"
     ]
    },
    {
     "name": "stdout",
     "output_type": "stream",
     "text": [
      "[22:17:39] WARNING: ..\\src\\learner.cc:1061: Starting in XGBoost 1.3.0, the default evaluation metric used with the objective 'binary:logistic' was changed from 'error' to 'logloss'. Explicitly set eval_metric if you'd like to restore the old behavior.\n"
     ]
    },
    {
     "data": {
      "text/plain": [
       "({'mean_fit_time': array([ 81.41675858,  92.84779825, 101.81783037,  93.82070522,\n",
       "          86.56902757]),\n",
       "  'std_fit_time': array([ 2.6020062 ,  6.38894402,  0.31916963,  4.25951755, 26.52705505]),\n",
       "  'mean_score_time': array([0.32684293, 0.36241484, 0.38740878, 0.35929008, 0.32179956]),\n",
       "  'std_score_time': array([0.0236611 , 0.02295917, 0.01821765, 0.0296413 , 0.08703241]),\n",
       "  'param_gamma': masked_array(data=[0.0, 0.1, 0.2, 0.3, 0.4],\n",
       "               mask=[False, False, False, False, False],\n",
       "         fill_value='?',\n",
       "              dtype=object),\n",
       "  'params': [{'gamma': 0.0},\n",
       "   {'gamma': 0.1},\n",
       "   {'gamma': 0.2},\n",
       "   {'gamma': 0.3},\n",
       "   {'gamma': 0.4}],\n",
       "  'split0_test_score': array([0.70215204, 0.70209237, 0.70214047, 0.70194105, 0.70225302]),\n",
       "  'split1_test_score': array([0.70687107, 0.70688533, 0.70691814, 0.70671768, 0.70667039]),\n",
       "  'split2_test_score': array([0.70484506, 0.70473087, 0.70485692, 0.70493344, 0.70495597]),\n",
       "  'split3_test_score': array([0.70846416, 0.70819719, 0.70816627, 0.70816551, 0.70829471]),\n",
       "  'split4_test_score': array([0.70215086, 0.70229216, 0.70233694, 0.70187766, 0.70247386]),\n",
       "  'mean_test_score': array([0.70489664, 0.70483959, 0.70488375, 0.70472707, 0.70492959]),\n",
       "  'std_test_score': array([0.00251795, 0.00242928, 0.00240525, 0.00251829, 0.00234733]),\n",
       "  'rank_test_score': array([2, 4, 3, 5, 1])},\n",
       " {'gamma': 0.4},\n",
       " 0.7049295915748198)"
      ]
     },
     "execution_count": 35,
     "metadata": {},
     "output_type": "execute_result"
    }
   ],
   "source": [
    "#Tune Gamma\n",
    "param_test3 = {\n",
    " 'gamma':[i/10.0 for i in range(0,5)]\n",
    "}\n",
    "gsearch3 = GridSearchCV(estimator = XGBClassifier( learning_rate =0.1, n_estimators=140, max_depth=6,\n",
    " min_child_weight=5, gamma=0, subsample=0.8, colsample_bytree=0.8,\n",
    " objective= 'binary:logistic', nthread=4, scale_pos_weight=1,seed=27), \n",
    " param_grid = param_test3, scoring='roc_auc',n_jobs=4, cv=5)\n",
    "gsearch3.fit(train[predictors],train[target])\n",
    "gsearch3.cv_results_, gsearch3.best_params_, gsearch3.best_score_"
   ]
  },
  {
   "cell_type": "code",
   "execution_count": 36,
   "id": "af165970-4e0c-4389-88e2-8b9e72d73fd3",
   "metadata": {},
   "outputs": [
    {
     "name": "stderr",
     "output_type": "stream",
     "text": [
      "C:\\Anaconda\\envs\\newenvt\\lib\\site-packages\\xgboost\\sklearn.py:888: UserWarning: The use of label encoder in XGBClassifier is deprecated and will be removed in a future release. To remove this warning, do the following: 1) Pass option use_label_encoder=False when constructing XGBClassifier object; and 2) Encode your labels (y) as integers starting with 0, i.e. 0, 1, 2, ..., [num_class - 1].\n",
      "  warnings.warn(label_encoder_deprecation_msg, UserWarning)\n"
     ]
    },
    {
     "name": "stdout",
     "output_type": "stream",
     "text": [
      "[23:12:14] WARNING: ..\\src\\learner.cc:1061: Starting in XGBoost 1.3.0, the default evaluation metric used with the objective 'binary:logistic' was changed from 'error' to 'logloss'. Explicitly set eval_metric if you'd like to restore the old behavior.\n"
     ]
    },
    {
     "data": {
      "text/plain": [
       "({'mean_fit_time': array([ 86.16050081,  95.82173386, 105.05935016, 100.59650011,\n",
       "         125.81730323, 123.0217473 , 117.79578009, 115.03136253,\n",
       "         134.79933634, 131.66933594, 129.73183923, 127.99853811,\n",
       "         150.42252417, 141.68092513, 129.3955667 , 129.46728773]),\n",
       "  'std_fit_time': array([1.80567882, 9.58042178, 2.47798331, 5.98333076, 2.86177016,\n",
       "         1.94699936, 3.6926717 , 1.90573507, 1.41275266, 1.76110719,\n",
       "         2.64067242, 1.0482101 , 2.77349635, 6.45072233, 2.80052516,\n",
       "         3.05011543]),\n",
       "  'mean_score_time': array([0.35503936, 0.44168878, 0.44472866, 0.43865771, 0.43065915,\n",
       "         0.41811929, 0.42290077, 0.44214191, 0.42327185, 0.45099359,\n",
       "         0.47089157, 0.41880293, 0.47388539, 0.42201176, 0.39950004,\n",
       "         0.35792804]),\n",
       "  'std_score_time': array([0.03148125, 0.10550453, 0.04207371, 0.02084178, 0.04183026,\n",
       "         0.00957313, 0.04664757, 0.05007595, 0.03315821, 0.0233215 ,\n",
       "         0.03215613, 0.02543748, 0.03146116, 0.04689125, 0.03878753,\n",
       "         0.04802116]),\n",
       "  'param_colsample_bytree': masked_array(data=[0.6, 0.6, 0.6, 0.6, 0.7, 0.7, 0.7, 0.7, 0.8, 0.8, 0.8,\n",
       "                     0.8, 0.9, 0.9, 0.9, 0.9],\n",
       "               mask=[False, False, False, False, False, False, False, False,\n",
       "                     False, False, False, False, False, False, False, False],\n",
       "         fill_value='?',\n",
       "              dtype=object),\n",
       "  'param_subsample': masked_array(data=[0.6, 0.7, 0.8, 0.9, 0.6, 0.7, 0.8, 0.9, 0.6, 0.7, 0.8,\n",
       "                     0.9, 0.6, 0.7, 0.8, 0.9],\n",
       "               mask=[False, False, False, False, False, False, False, False,\n",
       "                     False, False, False, False, False, False, False, False],\n",
       "         fill_value='?',\n",
       "              dtype=object),\n",
       "  'params': [{'colsample_bytree': 0.6, 'subsample': 0.6},\n",
       "   {'colsample_bytree': 0.6, 'subsample': 0.7},\n",
       "   {'colsample_bytree': 0.6, 'subsample': 0.8},\n",
       "   {'colsample_bytree': 0.6, 'subsample': 0.9},\n",
       "   {'colsample_bytree': 0.7, 'subsample': 0.6},\n",
       "   {'colsample_bytree': 0.7, 'subsample': 0.7},\n",
       "   {'colsample_bytree': 0.7, 'subsample': 0.8},\n",
       "   {'colsample_bytree': 0.7, 'subsample': 0.9},\n",
       "   {'colsample_bytree': 0.8, 'subsample': 0.6},\n",
       "   {'colsample_bytree': 0.8, 'subsample': 0.7},\n",
       "   {'colsample_bytree': 0.8, 'subsample': 0.8},\n",
       "   {'colsample_bytree': 0.8, 'subsample': 0.9},\n",
       "   {'colsample_bytree': 0.9, 'subsample': 0.6},\n",
       "   {'colsample_bytree': 0.9, 'subsample': 0.7},\n",
       "   {'colsample_bytree': 0.9, 'subsample': 0.8},\n",
       "   {'colsample_bytree': 0.9, 'subsample': 0.9}],\n",
       "  'split0_test_score': array([0.70289525, 0.70288342, 0.70300774, 0.70302488, 0.70229859,\n",
       "         0.70323779, 0.70273775, 0.70274258, 0.70219888, 0.70259615,\n",
       "         0.7025357 , 0.70286828, 0.70245662, 0.70325422, 0.70310246,\n",
       "         0.70248939]),\n",
       "  'split1_test_score': array([0.70697817, 0.70673926, 0.7073811 , 0.70697218, 0.70658568,\n",
       "         0.70697681, 0.70718909, 0.70685185, 0.70665436, 0.7064753 ,\n",
       "         0.70683542, 0.70649292, 0.70639609, 0.70679216, 0.70654287,\n",
       "         0.70650293]),\n",
       "  'split2_test_score': array([0.70503548, 0.70497736, 0.70515207, 0.70532397, 0.70501447,\n",
       "         0.70524124, 0.70504695, 0.7050951 , 0.70511935, 0.70494619,\n",
       "         0.70497289, 0.70502666, 0.7048983 , 0.70472267, 0.70499427,\n",
       "         0.70491208]),\n",
       "  'split3_test_score': array([0.70884647, 0.70893252, 0.70848513, 0.70887982, 0.70814314,\n",
       "         0.70846993, 0.70819987, 0.70866321, 0.70802169, 0.70801637,\n",
       "         0.70827147, 0.70802293, 0.70810887, 0.70864248, 0.70798656,\n",
       "         0.70808667]),\n",
       "  'split4_test_score': array([0.70272108, 0.70301279, 0.70263276, 0.70300983, 0.70230371,\n",
       "         0.70258605, 0.70220709, 0.70259755, 0.70213993, 0.70221997,\n",
       "         0.70250592, 0.70262819, 0.70204871, 0.70211465, 0.70274243,\n",
       "         0.70275491]),\n",
       "  'mean_test_score': array([0.70529529, 0.70530907, 0.70533176, 0.70544214, 0.70486912,\n",
       "         0.70530237, 0.70507615, 0.70519006, 0.70482684, 0.7048508 ,\n",
       "         0.70502428, 0.7050078 , 0.70478172, 0.70510524, 0.70507372,\n",
       "         0.7049492 ]),\n",
       "  'std_test_score': array([0.00236208, 0.00229963, 0.00231782, 0.00227736, 0.00231844,\n",
       "         0.00221277, 0.00236316, 0.00234711, 0.00235619, 0.00222143,\n",
       "         0.00229618, 0.00207543, 0.002305  , 0.0023611 , 0.00199851,\n",
       "         0.00215057]),\n",
       "  'rank_test_score': array([ 5,  3,  2,  1, 13,  4,  8,  6, 15, 14, 10, 11, 16,  7,  9, 12])},\n",
       " {'colsample_bytree': 0.6, 'subsample': 0.9},\n",
       " 0.7054421352705933)"
      ]
     },
     "execution_count": 36,
     "metadata": {},
     "output_type": "execute_result"
    }
   ],
   "source": [
    "#Tune subsample & colsample_bytree\n",
    "param_test4 = {\n",
    " 'subsample':[i/10.0 for i in range(6,10)],\n",
    " 'colsample_bytree':[i/10.0 for i in range(6,10)]\n",
    "}\n",
    "gsearch4 = GridSearchCV(estimator = XGBClassifier( learning_rate =0.1, n_estimators=177, max_depth=6,\n",
    " min_child_weight=5, gamma=0.4, subsample=0.8, colsample_bytree=0.8,\n",
    " objective= 'binary:logistic', nthread=4, scale_pos_weight=1,seed=27), \n",
    " param_grid = param_test4, scoring='roc_auc',n_jobs=4, cv=5)\n",
    "gsearch4.fit(train[predictors],train[target])\n",
    "gsearch4.cv_results_, gsearch4.best_params_, gsearch4.best_score_"
   ]
  },
  {
   "cell_type": "code",
   "execution_count": 38,
   "id": "99613ac1-5044-488b-b1da-029d460d061f",
   "metadata": {},
   "outputs": [
    {
     "name": "stderr",
     "output_type": "stream",
     "text": [
      "C:\\Anaconda\\envs\\newenvt\\lib\\site-packages\\xgboost\\sklearn.py:888: UserWarning: The use of label encoder in XGBClassifier is deprecated and will be removed in a future release. To remove this warning, do the following: 1) Pass option use_label_encoder=False when constructing XGBClassifier object; and 2) Encode your labels (y) as integers starting with 0, i.e. 0, 1, 2, ..., [num_class - 1].\n",
      "  warnings.warn(label_encoder_deprecation_msg, UserWarning)\n"
     ]
    },
    {
     "name": "stdout",
     "output_type": "stream",
     "text": [
      "[00:01:13] WARNING: ..\\src\\learner.cc:1061: Starting in XGBoost 1.3.0, the default evaluation metric used with the objective 'binary:logistic' was changed from 'error' to 'logloss'. Explicitly set eval_metric if you'd like to restore the old behavior.\n"
     ]
    },
    {
     "data": {
      "text/plain": [
       "({'mean_fit_time': array([ 78.6903954 ,  93.11740279,  93.42149811, 101.47861133,\n",
       "          99.00812759, 101.18870173, 108.73288417, 106.46186175,\n",
       "          92.33816609]),\n",
       "  'std_fit_time': array([ 8.63439541,  2.75030135,  3.99522988,  1.56872944,  0.90063347,\n",
       "          5.52541535,  2.35334907,  2.12413479, 28.36064349]),\n",
       "  'mean_score_time': array([0.40496511, 0.43660679, 0.46789455, 0.38122616, 0.46505342,\n",
       "         0.43923655, 0.44503021, 0.45360417, 0.34046369]),\n",
       "  'std_score_time': array([0.03633686, 0.03122877, 0.07082825, 0.02804101, 0.02998427,\n",
       "         0.01510553, 0.03490154, 0.02371275, 0.09777319]),\n",
       "  'param_colsample_bytree': masked_array(data=[0.55, 0.55, 0.55, 0.6, 0.6, 0.6, 0.65, 0.65, 0.65],\n",
       "               mask=[False, False, False, False, False, False, False, False,\n",
       "                     False],\n",
       "         fill_value='?',\n",
       "              dtype=object),\n",
       "  'param_subsample': masked_array(data=[0.85, 0.9, 0.95, 0.85, 0.9, 0.95, 0.85, 0.9, 0.95],\n",
       "               mask=[False, False, False, False, False, False, False, False,\n",
       "                     False],\n",
       "         fill_value='?',\n",
       "              dtype=object),\n",
       "  'params': [{'colsample_bytree': 0.55, 'subsample': 0.85},\n",
       "   {'colsample_bytree': 0.55, 'subsample': 0.9},\n",
       "   {'colsample_bytree': 0.55, 'subsample': 0.95},\n",
       "   {'colsample_bytree': 0.6, 'subsample': 0.85},\n",
       "   {'colsample_bytree': 0.6, 'subsample': 0.9},\n",
       "   {'colsample_bytree': 0.6, 'subsample': 0.95},\n",
       "   {'colsample_bytree': 0.65, 'subsample': 0.85},\n",
       "   {'colsample_bytree': 0.65, 'subsample': 0.9},\n",
       "   {'colsample_bytree': 0.65, 'subsample': 0.95}],\n",
       "  'split0_test_score': array([0.70257714, 0.70286267, 0.70270686, 0.70273943, 0.70302488,\n",
       "         0.7026488 , 0.70287782, 0.70282455, 0.70278006]),\n",
       "  'split1_test_score': array([0.70735073, 0.70776279, 0.70727693, 0.70741124, 0.70697218,\n",
       "         0.70744023, 0.70691878, 0.7068864 , 0.70682229]),\n",
       "  'split2_test_score': array([0.70513303, 0.70533456, 0.70542187, 0.70539879, 0.70532397,\n",
       "         0.70516589, 0.70529622, 0.70518776, 0.70524879]),\n",
       "  'split3_test_score': array([0.70861416, 0.70886962, 0.70899615, 0.70886217, 0.70887982,\n",
       "         0.7088012 , 0.7089521 , 0.70882428, 0.70897722]),\n",
       "  'split4_test_score': array([0.70275616, 0.70314375, 0.70302958, 0.70314633, 0.70300983,\n",
       "         0.70318751, 0.70308958, 0.7026443 , 0.70285751]),\n",
       "  'mean_test_score': array([0.70528624, 0.70559468, 0.70548628, 0.70551159, 0.70544214,\n",
       "         0.70544873, 0.7054269 , 0.70527346, 0.70533717]),\n",
       "  'std_test_score': array([0.00241252, 0.00240685, 0.00242034, 0.0023718 , 0.00227736,\n",
       "         0.00237646, 0.00230784, 0.00237179, 0.0023728 ]),\n",
       "  'rank_test_score': array([8, 1, 3, 2, 5, 4, 6, 9, 7])},\n",
       " {'colsample_bytree': 0.55, 'subsample': 0.9},\n",
       " 0.7055946795959599)"
      ]
     },
     "execution_count": 38,
     "metadata": {},
     "output_type": "execute_result"
    }
   ],
   "source": [
    "param_test5 = {\n",
    " 'subsample':[i/100.0 for i in range(85,100,5)],\n",
    " 'colsample_bytree':[i/100.0 for i in range(55,70,5)]\n",
    "}\n",
    "gsearch5 = GridSearchCV(estimator = XGBClassifier( learning_rate =0.1, n_estimators=177, max_depth=6,\n",
    " min_child_weight=5, gamma=0.4, subsample=0.8, colsample_bytree=0.8,\n",
    " objective= 'binary:logistic', nthread=4, scale_pos_weight=1,seed=27), \n",
    " param_grid = param_test5, scoring='roc_auc',n_jobs=4, cv=5)\n",
    "gsearch5.fit(train[predictors],train[target])\n",
    "gsearch5.cv_results_, gsearch5.best_params_, gsearch5.best_score_"
   ]
  },
  {
   "cell_type": "code",
   "execution_count": null,
   "id": "6b840033-44cf-412c-8ccd-5167c7028ba2",
   "metadata": {},
   "outputs": [],
   "source": [
    "#Tune Regularization Parameters\n",
    "param_test6 = {\n",
    " 'reg_alpha':[1e-5, 1e-2, 0.1, 1, 100]\n",
    "}\n",
    "gsearch6 = GridSearchCV(estimator = XGBClassifier( learning_rate =0.1, n_estimators=177, max_depth=6,\n",
    " min_child_weight=5, gamma=0.4, subsample=0.9, colsample_bytree=0.55,\n",
    " objective= 'binary:logistic', nthread=4, scale_pos_weight=1,seed=27), \n",
    " param_grid = param_test6, scoring='roc_auc',n_jobs=4, cv=5)\n",
    "gsearch6.fit(train[predictors],train[target])\n"
   ]
  },
  {
   "cell_type": "code",
   "execution_count": 42,
   "id": "09ae17ce-3af6-44b5-8996-1f57e0834db8",
   "metadata": {},
   "outputs": [
    {
     "data": {
      "text/plain": [
       "({'mean_fit_time': array([74.51163998, 81.95155091, 89.03770709, 91.74294643, 74.56376185]),\n",
       "  'std_fit_time': array([ 1.03745021,  5.48826946,  2.77434206,  1.53656574, 20.73446248]),\n",
       "  'mean_score_time': array([0.35268602, 0.40290532, 0.42720442, 0.42307014, 0.34009094]),\n",
       "  'std_score_time': array([0.02192763, 0.03404723, 0.02731505, 0.03862821, 0.06924399]),\n",
       "  'param_reg_alpha': masked_array(data=[1e-05, 0.01, 0.1, 1, 100],\n",
       "               mask=[False, False, False, False, False],\n",
       "         fill_value='?',\n",
       "              dtype=object),\n",
       "  'params': [{'reg_alpha': 1e-05},\n",
       "   {'reg_alpha': 0.01},\n",
       "   {'reg_alpha': 0.1},\n",
       "   {'reg_alpha': 1},\n",
       "   {'reg_alpha': 100}],\n",
       "  'split0_test_score': array([0.70286267, 0.70269036, 0.70274339, 0.70302061, 0.70121567]),\n",
       "  'split1_test_score': array([0.7077628 , 0.70776566, 0.70765764, 0.70758067, 0.70633958]),\n",
       "  'split2_test_score': array([0.70533457, 0.70487781, 0.70539132, 0.70558556, 0.7038269 ]),\n",
       "  'split3_test_score': array([0.70886962, 0.70882576, 0.70868509, 0.70869777, 0.70754641]),\n",
       "  'split4_test_score': array([0.70314376, 0.70294741, 0.70317627, 0.70336756, 0.7012505 ]),\n",
       "  'mean_test_score': array([0.70559468, 0.7054214 , 0.70553074, 0.70565043, 0.70403581]),\n",
       "  'std_test_score': array([0.00240684, 0.00248837, 0.00235822, 0.00224249, 0.00258404]),\n",
       "  'rank_test_score': array([2, 4, 3, 1, 5])},\n",
       " {'reg_alpha': 1},\n",
       " 0.7056504343745135)"
      ]
     },
     "execution_count": 42,
     "metadata": {},
     "output_type": "execute_result"
    }
   ],
   "source": [
    "gsearch6.cv_results_, gsearch6.best_params_, gsearch6.best_score_"
   ]
  },
  {
   "cell_type": "code",
   "execution_count": 27,
   "id": "85d25618-bccf-455b-acc4-af656288d64a",
   "metadata": {},
   "outputs": [
    {
     "name": "stderr",
     "output_type": "stream",
     "text": [
      "C:\\Anaconda\\envs\\newenvt\\lib\\site-packages\\xgboost\\sklearn.py:888: UserWarning: The use of label encoder in XGBClassifier is deprecated and will be removed in a future release. To remove this warning, do the following: 1) Pass option use_label_encoder=False when constructing XGBClassifier object; and 2) Encode your labels (y) as integers starting with 0, i.e. 0, 1, 2, ..., [num_class - 1].\n",
      "  warnings.warn(label_encoder_deprecation_msg, UserWarning)\n"
     ]
    },
    {
     "name": "stdout",
     "output_type": "stream",
     "text": [
      "[10:48:37] WARNING: ..\\src\\learner.cc:1061: Starting in XGBoost 1.3.0, the default evaluation metric used with the objective 'binary:logistic' was changed from 'error' to 'logloss'. Explicitly set eval_metric if you'd like to restore the old behavior.\n"
     ]
    },
    {
     "data": {
      "text/plain": [
       "({'mean_fit_time': array([146.6808393 , 148.09206176, 146.61374054, 145.79017534]),\n",
       "  'std_fit_time': array([2.02238244, 1.7254068 , 2.53718803, 0.89505227]),\n",
       "  'mean_score_time': array([0.58385291, 0.64900498, 0.67459812, 0.59048152]),\n",
       "  'std_score_time': array([0.0593804 , 0.04151495, 0.07704458, 0.05607081]),\n",
       "  'param_reg_alpha': masked_array(data=[5, 10, 15, 30],\n",
       "               mask=[False, False, False, False],\n",
       "         fill_value='?',\n",
       "              dtype=object),\n",
       "  'params': [{'reg_alpha': 5},\n",
       "   {'reg_alpha': 10},\n",
       "   {'reg_alpha': 15},\n",
       "   {'reg_alpha': 30}],\n",
       "  'split0_test_score': array([0.70707508, 0.7073189 , 0.70713185, 0.70669682]),\n",
       "  'split1_test_score': array([0.70433039, 0.70427842, 0.70417748, 0.70396449]),\n",
       "  'split2_test_score': array([0.70767864, 0.70762602, 0.70750722, 0.7071989 ]),\n",
       "  'split3_test_score': array([0.70598234, 0.70610838, 0.70607259, 0.70591643]),\n",
       "  'split4_test_score': array([0.70799181, 0.70815372, 0.70793239, 0.70723108]),\n",
       "  'mean_test_score': array([0.70661165, 0.70669709, 0.70656431, 0.70620154]),\n",
       "  'std_test_score': array([0.00133103, 0.00138332, 0.00134325, 0.00121538]),\n",
       "  'rank_test_score': array([2, 1, 3, 4])},\n",
       " {'reg_alpha': 10},\n",
       " 0.7066970877351941)"
      ]
     },
     "execution_count": 27,
     "metadata": {},
     "output_type": "execute_result"
    }
   ],
   "source": [
    "#Tune alpha\n",
    "param_test7 = {\n",
    " 'reg_alpha':[5, 10, 15, 30]\n",
    "}\n",
    "gsearch7 = GridSearchCV(estimator = XGBClassifier( learning_rate =0.1, n_estimators=177, max_depth=6,\n",
    " min_child_weight=5, gamma=0.4, subsample=0.9, colsample_bytree=0.55,\n",
    " objective= 'binary:logistic', nthread=4, scale_pos_weight=1,seed=27), \n",
    " param_grid = param_test7, scoring='roc_auc',n_jobs=4, cv=5)\n",
    "gsearch7.fit(train[predictors],train[target])\n",
    "gsearch7.cv_results_, gsearch7.best_params_, gsearch7.best_score_"
   ]
  },
  {
   "cell_type": "code",
   "execution_count": 28,
   "id": "eea4cd9d-cba5-4dd9-817b-a645a5d36560",
   "metadata": {},
   "outputs": [
    {
     "name": "stdout",
     "output_type": "stream",
     "text": [
      "\n",
      "Model Report\n",
      "Accuracy : 0.7302\n",
      "AUC Score (Train): 0.717318\n"
     ]
    },
    {
     "data": {
      "image/png": "[encoded data removed]",
      "text/plain": [
       "<Figure size 864x288 with 1 Axes>"
      ]
     },
     "metadata": {
      "needs_background": "light"
     },
     "output_type": "display_data"
    }
   ],
   "source": [
    "#improved model after tunning\n",
    "xgb3 = XGBClassifier(\n",
    " learning_rate =0.1,\n",
    " n_estimators=1000,\n",
    " max_depth=6,\n",
    " min_child_weight=5,\n",
    " gamma=0.4,\n",
    " subsample=0.9,\n",
    " colsample_bytree=0.55,\n",
    " reg_alpha=10,\n",
    " objective= 'binary:logistic',\n",
    " nthread=4,\n",
    " scale_pos_weight=1,\n",
    " seed=27)\n",
    "modelfit(xgb3, train, predictors)"
   ]
  },
  {
   "cell_type": "code",
   "execution_count": 27,
   "id": "1433028d-b014-4cdc-b676-8e20c0804e72",
   "metadata": {},
   "outputs": [
    {
     "name": "stderr",
     "output_type": "stream",
     "text": [
      "C:\\Anaconda\\envs\\newenvt\\lib\\site-packages\\xgboost\\sklearn.py:888: UserWarning: The use of label encoder in XGBClassifier is deprecated and will be removed in a future release. To remove this warning, do the following: 1) Pass option use_label_encoder=False when constructing XGBClassifier object; and 2) Encode your labels (y) as integers starting with 0, i.e. 0, 1, 2, ..., [num_class - 1].\n",
      "  warnings.warn(label_encoder_deprecation_msg, UserWarning)\n"
     ]
    },
    {
     "name": "stdout",
     "output_type": "stream",
     "text": [
      "\n",
      "Model Report\n",
      "Accuracy : 0.7311\n",
      "AUC Score (Train): 0.718321\n"
     ]
    },
    {
     "data": {
      "image/png": "[encoded data removed]",
      "text/plain": [
       "<Figure size 864x288 with 1 Axes>"
      ]
     },
     "metadata": {
      "needs_background": "light"
     },
     "output_type": "display_data"
    }
   ],
   "source": [
    "#Now we have optimal hyper-parameters, lower the learning rate and add more trees\n",
    "xgb4 = XGBClassifier(\n",
    " learning_rate =0.01,\n",
    " n_estimators=5000,\n",
    " max_depth=6,\n",
    " min_child_weight=5,\n",
    " gamma=0.4,\n",
    " subsample=0.9,\n",
    " colsample_bytree=0.55,\n",
    " reg_alpha=10,\n",
    " objective= 'binary:logistic',\n",
    " nthread=4,\n",
    " scale_pos_weight=1,\n",
    " seed=27)\n",
    "modelfit(xgb4, train, predictors)"
   ]
  },
  {
   "cell_type": "code",
   "execution_count": 28,
   "id": "240ae8fe-1141-4302-bd7a-51d9f7160cc7",
   "metadata": {},
   "outputs": [
    {
     "name": "stderr",
     "output_type": "stream",
     "text": [
      "C:\\Anaconda\\envs\\newenvt\\lib\\site-packages\\xgboost\\sklearn.py:888: UserWarning: The use of label encoder in XGBClassifier is deprecated and will be removed in a future release. To remove this warning, do the following: 1) Pass option use_label_encoder=False when constructing XGBClassifier object; and 2) Encode your labels (y) as integers starting with 0, i.e. 0, 1, 2, ..., [num_class - 1].\n",
      "  warnings.warn(label_encoder_deprecation_msg, UserWarning)\n"
     ]
    },
    {
     "name": "stdout",
     "output_type": "stream",
     "text": [
      "\n",
      "Model Report\n",
      "Accuracy : 0.7317\n",
      "AUC Score (Train): 0.722518\n"
     ]
    },
    {
     "data": {
      "image/png": "[encoded data removed]",
      "text/plain": [
       "<Figure size 864x288 with 1 Axes>"
      ]
     },
     "metadata": {
      "needs_background": "light"
     },
     "output_type": "display_data"
    }
   ],
   "source": [
    "#Apply the final model to the test dataset\n",
    "modelfit(xgb4, test, predictors)"
   ]
  },
  {
   "cell_type": "code",
   "execution_count": 26,
   "id": "47c300f5-f90c-4523-9064-8124e8dd57bc",
   "metadata": {},
   "outputs": [],
   "source": [
    "X = data[predictors]\n",
    "y = data[target]\n",
    "\n",
    "from sklearn.model_selection import train_test_split\n",
    "\n",
    "X_train,X_test,y_train,y_test=train_test_split(X,y,test_size=0.25,random_state=0)"
   ]
  },
  {
   "cell_type": "code",
   "execution_count": 27,
   "id": "790d88ad-b1fd-48b3-b23f-b03485eea2b8",
   "metadata": {},
   "outputs": [
    {
     "name": "stderr",
     "output_type": "stream",
     "text": [
      "C:\\Anaconda\\envs\\newenvt\\lib\\site-packages\\sklearn\\linear_model\\_logistic.py:814: ConvergenceWarning: lbfgs failed to converge (status=1):\n",
      "STOP: TOTAL NO. of ITERATIONS REACHED LIMIT.\n",
      "\n",
      "Increase the number of iterations (max_iter) or scale the data as shown in:\n",
      "    https://scikit-learn.org/stable/modules/preprocessing.html\n",
      "Please also refer to the documentation for alternative solver options:\n",
      "    https://scikit-learn.org/stable/modules/linear_model.html#logistic-regression\n",
      "  n_iter_i = _check_optimize_result(\n"
     ]
    }
   ],
   "source": [
    "from sklearn.linear_model import LogisticRegression\n",
    "\n",
    "logreg = LogisticRegression()\n",
    "\n",
    "logreg.fit(X_train,y_train)\n",
    "\n",
    "y_pred=logreg.predict(X_test)"
   ]
  },
  {
   "cell_type": "code",
   "execution_count": 28,
   "id": "bcef03e8-2b77-44e7-a7fc-d4aff41ee28d",
   "metadata": {},
   "outputs": [
    {
     "data": {
      "text/plain": [
       "array([[88825,   866],\n",
       "       [35897,   838]], dtype=int64)"
      ]
     },
     "execution_count": 28,
     "metadata": {},
     "output_type": "execute_result"
    }
   ],
   "source": [
    "from sklearn import metrics\n",
    "cnf_matrix = metrics.confusion_matrix(y_test, y_pred)\n",
    "cnf_matrix"
   ]
  },
  {
   "cell_type": "code",
   "execution_count": 29,
   "id": "b9e222dd-e0eb-4e0d-b3aa-c72e3ce8deab",
   "metadata": {},
   "outputs": [
    {
     "data": {
      "text/plain": [
       "Text(0.5, 257.44, 'Predicted label')"
      ]
     },
     "execution_count": 29,
     "metadata": {},
     "output_type": "execute_result"
    },
    {
     "data": {
      "image/png": "[encoded data removed]",
      "text/plain": [
       "<Figure size 432x288 with 2 Axes>"
      ]
     },
     "metadata": {
      "needs_background": "light"
     },
     "output_type": "display_data"
    }
   ],
   "source": [
    "import seaborn as sns\n",
    "%matplotlib inline\n",
    "\n",
    "\n",
    "class_names=[0,1] # name  of classes\n",
    "fig, ax = plt.subplots()\n",
    "tick_marks = np.arange(len(class_names))\n",
    "plt.xticks(tick_marks, class_names)\n",
    "plt.yticks(tick_marks, class_names)\n",
    "# create heatmap\n",
    "sns.heatmap(pd.DataFrame(cnf_matrix), annot=True, cmap=\"YlGnBu\" ,fmt='g')\n",
    "ax.xaxis.set_label_position(\"top\")\n",
    "plt.tight_layout()\n",
    "plt.title('Confusion matrix', y=1.1)\n",
    "plt.ylabel('Actual label')\n",
    "plt.xlabel('Predicted label')"
   ]
  },
  {
   "cell_type": "code",
   "execution_count": 30,
   "id": "64a56dc6-1982-4220-b89a-d33d67250053",
   "metadata": {},
   "outputs": [
    {
     "name": "stdout",
     "output_type": "stream",
     "text": [
      "Accuracy: 0.7092132947336782\n",
      "Precision: 0.49178403755868544\n",
      "Recall: 0.02281203212195454\n"
     ]
    }
   ],
   "source": [
    "print(\"Accuracy:\",metrics.accuracy_score(y_test, y_pred))\n",
    "print(\"Precision:\",metrics.precision_score(y_test, y_pred))\n",
    "print(\"Recall:\",metrics.recall_score(y_test, y_pred))"
   ]
  },
  {
   "cell_type": "code",
   "execution_count": 31,
   "id": "35a45962-d589-411a-a405-9d6a9f0cf0b2",
   "metadata": {},
   "outputs": [
    {
     "data": {
      "image/png": "[encoded data removed]",
      "text/plain": [
       "<Figure size 432x288 with 1 Axes>"
      ]
     },
     "metadata": {
      "needs_background": "light"
     },
     "output_type": "display_data"
    }
   ],
   "source": [
    "y_pred_proba = logreg.predict_proba(X_test)[::,1]\n",
    "fpr, tpr, _ = metrics.roc_curve(y_test,  y_pred_proba)\n",
    "auc = metrics.roc_auc_score(y_test, y_pred_proba)\n",
    "plt.plot(fpr,tpr,label=\"data 1, auc=\"+str(auc))\n",
    "plt.legend(loc=4)\n",
    "plt.show()"
   ]
  },
  {
   "cell_type": "code",
   "execution_count": 35,
   "id": "ade84464-1d8a-43dc-aed2-a8b73c8349c0",
   "metadata": {},
   "outputs": [
    {
     "data": {
      "text/plain": [
       "<sklearn.inspection._plot.partial_dependence.PartialDependenceDisplay at 0x1a880f65bb0>"
      ]
     },
     "execution_count": 35,
     "metadata": {},
     "output_type": "execute_result"
    },
    {
     "data": {
      "image/png": "[encoded data removed]",
      "text/plain": [
       "<Figure size 432x288 with 2 Axes>"
      ]
     },
     "metadata": {
      "needs_background": "light"
     },
     "output_type": "display_data"
    }
   ],
   "source": [
    "PartialDependenceDisplay.from_estimator(logreg, X_test, ['avg_tenure'])"
   ]
  },
  {
   "cell_type": "code",
   "execution_count": 36,
   "id": "e8ef0ea1-a773-49a6-bd96-e98b28b2a126",
   "metadata": {},
   "outputs": [
    {
     "data": {
      "text/plain": [
       "<sklearn.inspection._plot.partial_dependence.PartialDependenceDisplay at 0x1a882077730>"
      ]
     },
     "execution_count": 36,
     "metadata": {},
     "output_type": "execute_result"
    },
    {
     "data": {
      "image/png": "[encoded data removed]",
      "text/plain": [
       "<Figure size 432x288 with 2 Axes>"
      ]
     },
     "metadata": {
      "needs_background": "light"
     },
     "output_type": "display_data"
    }
   ],
   "source": [
    "PartialDependenceDisplay.from_estimator(logreg, X_test, ['tot_tenure'])"
   ]
  },
  {
   "cell_type": "code",
   "execution_count": null,
   "id": "a6bce6cc-519f-4571-a154-1b5f06d761cc",
   "metadata": {},
   "outputs": [],
   "source": []
  },
  {
   "cell_type": "code",
   "execution_count": 32,
   "id": "7223fdbb-fefb-47ee-8db9-01f8cc08eb97",
   "metadata": {},
   "outputs": [],
   "source": [
    "from sklearn.ensemble import GradientBoostingClassifier\n",
    "from sklearn.inspection import PartialDependenceDisplay"
   ]
  },
  {
   "cell_type": "code",
   "execution_count": 33,
   "id": "7b4f7808-d2bd-4ddf-94c3-1cb18554b921",
   "metadata": {},
   "outputs": [],
   "source": [
    "import matplotlib.pyplot as plt\n",
    "from sklearn.inspection import partial_dependence, plot_partial_dependence"
   ]
  },
  {
   "cell_type": "code",
   "execution_count": 47,
   "id": "ecbac238-bcfe-400a-af09-739ee1b84a55",
   "metadata": {},
   "outputs": [
    {
     "data": {
      "text/plain": [
       "<sklearn.inspection._plot.partial_dependence.PartialDependenceDisplay at 0x20baf65a520>"
      ]
     },
     "execution_count": 47,
     "metadata": {},
     "output_type": "execute_result"
    },
    {
     "data": {
      "image/png": "[encoded data removed]",
      "text/plain": [
       "<Figure size 864x288 with 2 Axes>"
      ]
     },
     "metadata": {
      "needs_background": "light"
     },
     "output_type": "display_data"
    }
   ],
   "source": [
    "PartialDependenceDisplay.from_estimator(xgb5, train[predictors], ['avg_tenure'])"
   ]
  },
  {
   "cell_type": "code",
   "execution_count": 48,
   "id": "fda8d711-d3b5-4f30-be71-c1e9fa20df61",
   "metadata": {},
   "outputs": [
    {
     "data": {
      "text/plain": [
       "<sklearn.inspection._plot.partial_dependence.PartialDependenceDisplay at 0x20baf667af0>"
      ]
     },
     "execution_count": 48,
     "metadata": {},
     "output_type": "execute_result"
    },
    {
     "data": {
      "image/png": "[encoded data removed]",
      "text/plain": [
       "<Figure size 864x288 with 2 Axes>"
      ]
     },
     "metadata": {
      "needs_background": "light"
     },
     "output_type": "display_data"
    }
   ],
   "source": [
    "PartialDependenceDisplay.from_estimator(xgb5, train[predictors], ['tot_tenure'])"
   ]
  },
  {
   "cell_type": "markdown",
   "id": "e4733f2c-99ec-4649-ad64-890304502a7b",
   "metadata": {},
   "source": [
    "heat map"
   ]
  },
  {
   "cell_type": "code",
   "execution_count": 28,
   "id": "7790243a-9f70-401b-b78a-7815856c920d",
   "metadata": {},
   "outputs": [],
   "source": [
    "import shap"
   ]
  },
  {
   "cell_type": "code",
   "execution_count": 29,
   "id": "66867567-9a76-47f8-8dd4-94c76b63f45e",
   "metadata": {},
   "outputs": [],
   "source": [
    "explainer = shap.TreeExplainer(xgb4)\n",
    "shap_values = explainer.shap_values(train[predictors])"
   ]
  },
  {
   "cell_type": "code",
   "execution_count": 30,
   "id": "380d9963-0601-49f8-8267-61cc4dbf89d1",
   "metadata": {},
   "outputs": [
    {
     "data": {
      "image/png": "[encoded data removed]",
      "text/plain": [
       "<Figure size 576x684 with 1 Axes>"
      ]
     },
     "metadata": {
      "needs_background": "light"
     },
     "output_type": "display_data"
    }
   ],
   "source": [
    "shap.summary_plot(shap_values, train[predictors], plot_type=\"bar\")"
   ]
  },
  {
   "cell_type": "code",
   "execution_count": 31,
   "id": "e3707bfe-b234-481e-a971-1a9d8949bcb8",
   "metadata": {},
   "outputs": [
    {
     "data": {
      "image/png": "[encoded data removed]",
      "text/plain": [
       "<Figure size 576x684 with 2 Axes>"
      ]
     },
     "metadata": {
      "needs_background": "light"
     },
     "output_type": "display_data"
    }
   ],
   "source": [
    "shap.summary_plot(shap_values, train[predictors])"
   ]
  },
  {
   "cell_type": "markdown",
   "id": "43ed4726-bb9d-46ff-a6c3-11cb92a20ffd",
   "metadata": {},
   "source": [
    "without salary"
   ]
  },
  {
   "cell_type": "code",
   "execution_count": null,
   "id": "6381e836-b2a6-4c17-b546-b4531c7b81b7",
   "metadata": {},
   "outputs": [],
   "source": []
  }
 ],
 "metadata": {
  "kernelspec": {
   "display_name": "Python 3",
   "language": "python",
   "name": "python3"
  },
  "language_info": {
   "codemirror_mode": {
    "name": "ipython",
    "version": 3
   },
   "file_extension": ".py",
   "mimetype": "text/x-python",
   "name": "python",
   "nbconvert_exporter": "python",
   "pygments_lexer": "ipython3",
   "version": "3.8.8"
  }
 },
 "nbformat": 4,
 "nbformat_minor": 5
}
